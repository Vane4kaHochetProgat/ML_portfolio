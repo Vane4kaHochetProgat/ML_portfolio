{
 "cells": [
  {
   "cell_type": "code",
   "execution_count": 24,
   "metadata": {},
   "outputs": [],
   "source": [
    "#useful links\n",
    "\n",
    "#https://www.statology.org/plot-roc-curve-python/\n",
    "#https://www.programcreek.com/python/example/85919/sklearn.naive_bayes.MultinomialNB\n",
    "#https://www.section.io/engineering-education/spam-detection-model-using-scikit-learn/\n",
    "#https://scikit-learn.org/stable/auto_examples/text/plot_document_classification_20newsgroups.html#sphx-glr-auto-examples-text-plot-document-classification-20newsgroups-py\n",
    "#https://towardsdatascience.com/basics-of-countvectorizer-e26677900f9c#:~:text=The%20CountVectorizer%20will%20select%20the,common%20words%20in%20the%20data.&text=By%20setting%20'binary%20%3D%20True',frequency%20of%20the%20term%2Fword."
   ]
  },
  {
   "cell_type": "code",
   "execution_count": 25,
   "metadata": {},
   "outputs": [],
   "source": [
    "#imports\n",
    "\n",
    "import numpy as np\n",
    "\n",
    "import os\n",
    "import pandas as pd\n",
    "\n",
    "from sklearn.feature_extraction.text import CountVectorizer\n",
    "\n",
    "from scipy import sparse\n",
    "\n",
    "from sklearn.naive_bayes import MultinomialNB\n",
    "from sklearn.model_selection import train_test_split\n",
    "\n",
    "from sklearn import metrics\n",
    "import matplotlib.pyplot as plt"
   ]
  },
  {
   "cell_type": "code",
   "execution_count": 26,
   "metadata": {},
   "outputs": [],
   "source": [
    "#important names\n",
    "\n",
    "DIRECTORY = \"./messages/\"\n",
    "\n",
    "messages_df_withsub = pd.DataFrame( columns=['m_id', 'm_subject', 'm_content', 'in_spam'])\n",
    "\n",
    "messages_df_nosub = pd.DataFrame( columns=['m_id', 'm_content', 'in_spam'])\n",
    "\n",
    "#DEPRECATED\n",
    "words_in_names_df = pd.DataFrame( columns=['word', 'in_legit', 'in_spam'])\n",
    "words_in_text_df = pd.DataFrame( columns=['word', 'in_legit', 'in_spam'])"
   ]
  },
  {
   "cell_type": "code",
   "execution_count": 27,
   "metadata": {
    "pycharm": {
     "is_executing": true
    }
   },
   "outputs": [],
   "source": [
    "for filename in os.listdir(DIRECTORY):\n",
    "    file = open(DIRECTORY + filename)\n",
    "    text = file.read()\n",
    "    file.close()\n",
    "    text_array = text.split('\\n')\n",
    "    messages_df_withsub.loc[len(messages_df_withsub.index)] = [filename, str(text_array[0][9:]), str(text_array[2]), ('legit' in filename)]\n",
    "    messages_df_nosub.loc[len(messages_df_nosub.index)] = [filename, str(text[9:]), ('legit' in filename)]"
   ]
  },
  {
   "cell_type": "code",
   "execution_count": 31,
   "metadata": {
    "pycharm": {
     "is_executing": true
    }
   },
   "outputs": [
    {
     "data": {
      "text/plain": [
       "1090"
      ]
     },
     "execution_count": 31,
     "metadata": {},
     "output_type": "execute_result"
    }
   ],
   "source": [
    "m_df = messages_df_nosub\n",
    "len(m_df)"
   ]
  },
  {
   "cell_type": "code",
   "execution_count": 29,
   "metadata": {},
   "outputs": [],
   "source": [
    "cv = CountVectorizer()\n",
    "X = cv.fit_transform(m_df.m_content)"
   ]
  },
  {
   "cell_type": "code",
   "execution_count": 30,
   "metadata": {},
   "outputs": [
    {
     "data": {
      "text/plain": [
       "<1090x24718 sparse matrix of type '<class 'numpy.int64'>'\n",
       "\twith 247188 stored elements in Compressed Sparse Row format>"
      ]
     },
     "execution_count": 30,
     "metadata": {},
     "output_type": "execute_result"
    }
   ],
   "source": [
    "X"
   ]
  },
  {
   "cell_type": "code",
   "execution_count": null,
   "metadata": {
    "pycharm": {
     "is_executing": true
    }
   },
   "outputs": [],
   "source": [
    "cv = CountVectorizer()\n",
    "X = cv.fit_transform(m_df.m_content)\n",
    "y = m_df.in_spam\n",
    "print(X.shape)\n",
    "X_train, X_test, y_train, y_test = train_test_split(X, y, test_size=0.2, random_state=42)\n",
    "clf = MultinomialNB()\n",
    "clf.fit(X_train,y_train)\n",
    "pred = clf.predict(X_test)\n",
    "probs = clf.predict_proba(X_test)[::,1]"
   ]
  },
  {
   "cell_type": "code",
   "execution_count": null,
   "metadata": {
    "pycharm": {
     "is_executing": true
    },
    "scrolled": false
   },
   "outputs": [],
   "source": [
    "#probs"
   ]
  },
  {
   "cell_type": "code",
   "execution_count": null,
   "metadata": {
    "pycharm": {
     "is_executing": true
    }
   },
   "outputs": [],
   "source": [
    "fpr, tpr, _ = metrics.roc_curve(y_test,  probs)\n",
    "auc = metrics.roc_auc_score(y_test, probs)\n",
    "\n",
    "\n",
    "#create ROC curve\n",
    "plt.plot(fpr,tpr,label=\"AUC=\"+str(auc))\n",
    "plt.plot(fpr,tpr)\n",
    "plt.ylabel('True Positive Rate')\n",
    "plt.xlabel('False Positive Rate')\n",
    "plt.show()\n",
    "print(auc)"
   ]
  },
  {
   "cell_type": "code",
   "execution_count": null,
   "metadata": {
    "pycharm": {
     "is_executing": true
    }
   },
   "outputs": [],
   "source": [
    "cv = CountVectorizer(binary = True)\n",
    "X = cv.fit_transform(m_df.m_content)\n",
    "y = m_df.in_spam\n",
    "print(X.shape)\n",
    "X_train, X_test, y_train, y_test = train_test_split(X, y, test_size=0.2, random_state=42)\n",
    "clf = MultinomialNB()\n",
    "clf.fit(X_train,y_train)\n",
    "pred = clf.predict(X_test)\n",
    "probs = clf.predict_proba(X_test)[::,1]"
   ]
  },
  {
   "cell_type": "code",
   "execution_count": null,
   "metadata": {
    "pycharm": {
     "is_executing": true
    }
   },
   "outputs": [],
   "source": [
    "X"
   ]
  },
  {
   "cell_type": "code",
   "execution_count": null,
   "metadata": {
    "pycharm": {
     "is_executing": true
    }
   },
   "outputs": [],
   "source": [
    "fpr, tpr, _ = metrics.roc_curve(y_test,  probs)\n",
    "auc = metrics.roc_auc_score(y_test, probs)\n",
    "\n",
    "\n",
    "#create ROC curve\n",
    "plt.plot(fpr,tpr,label=\"AUC=\"+str(auc))\n",
    "plt.plot(fpr,tpr)\n",
    "plt.ylabel('True Positive Rate')\n",
    "plt.xlabel('False Positive Rate')\n",
    "plt.show()\n",
    "print(auc)"
   ]
  },
  {
   "cell_type": "code",
   "execution_count": null,
   "metadata": {
    "pycharm": {
     "is_executing": true
    }
   },
   "outputs": [],
   "source": [
    "m_df = messages_df_withsub\n",
    "# 24718 is number of words in texts\n",
    "m_df['m_subject'] = m_df['m_subject'].apply(lambda x: ' '.join([s + '24718' for s in x]))"
   ]
  },
  {
   "cell_type": "code",
   "execution_count": null,
   "metadata": {
    "pycharm": {
     "is_executing": true
    }
   },
   "outputs": [],
   "source": [
    "m_df['m_content'] += m_df['m_subject']"
   ]
  },
  {
   "cell_type": "code",
   "execution_count": null,
   "metadata": {
    "pycharm": {
     "is_executing": true
    }
   },
   "outputs": [],
   "source": [
    "cv = CountVectorizer()\n",
    "X = cv.fit_transform(m_df.m_content)\n",
    "y = m_df.in_spam\n",
    "print(X.shape)\n",
    "X_train, X_test, y_train, y_test = train_test_split(X, y, test_size=0.2, random_state=42)\n",
    "clf = MultinomialNB()\n",
    "clf.fit(X_train,y_train)\n",
    "pred = clf.predict(X_test)\n",
    "probs = clf.predict_proba(X_test)[::,1]"
   ]
  },
  {
   "cell_type": "code",
   "execution_count": null,
   "metadata": {
    "pycharm": {
     "is_executing": true
    }
   },
   "outputs": [],
   "source": [
    "fpr, tpr, _ = metrics.roc_curve(y_test,  probs)\n",
    "auc = metrics.roc_auc_score(y_test, probs)\n",
    "\n",
    "\n",
    "#create ROC curve\n",
    "plt.plot(fpr,tpr,label=\"AUC=\"+str(auc))\n",
    "plt.plot(fpr,tpr)\n",
    "plt.ylabel('True Positive Rate')\n",
    "plt.xlabel('False Positive Rate')\n",
    "plt.show()\n",
    "print(auc)"
   ]
  },
  {
   "cell_type": "code",
   "execution_count": null,
   "metadata": {
    "pycharm": {
     "is_executing": true
    }
   },
   "outputs": [],
   "source": [
    "cv = CountVectorizer(binary = True)\n",
    "X = cv.fit_transform(m_df.m_content)\n",
    "y = m_df.in_spam\n",
    "print(X.shape)\n",
    "X_train, X_test, y_train, y_test = train_test_split(X, y, test_size=0.2, random_state=42)\n",
    "clf = MultinomialNB()\n",
    "clf.fit(X_train,y_train)\n",
    "pred = clf.predict(X_test)\n",
    "probs = clf.predict_proba(X_test)[::,1]"
   ]
  },
  {
   "cell_type": "code",
   "execution_count": null,
   "metadata": {
    "pycharm": {
     "is_executing": true
    }
   },
   "outputs": [],
   "source": [
    "fpr, tpr, _ = metrics.roc_curve(y_test,  probs)\n",
    "auc = metrics.roc_auc_score(y_test, probs)\n",
    "\n",
    "#create ROC curve\n",
    "plt.plot(fpr,tpr,label=\"AUC=\"+str(auc))\n",
    "plt.plot(fpr,tpr)\n",
    "plt.ylabel('True Positive Rate')\n",
    "plt.xlabel('False Positive Rate')\n",
    "plt.show()\n",
    "print(auc)"
   ]
  },
  {
   "cell_type": "code",
   "execution_count": null,
   "metadata": {
    "pycharm": {
     "is_executing": true
    }
   },
   "outputs": [],
   "source": [
    "#bool with sub is best"
   ]
  },
  {
   "cell_type": "code",
   "execution_count": null,
   "metadata": {
    "pycharm": {
     "is_executing": true
    }
   },
   "outputs": [],
   "source": [
    "cv = CountVectorizer(binary = True)\n",
    "X = cv.fit_transform(m_df.m_content)\n",
    "y = m_df.in_spam\n",
    "print(X.shape)\n",
    "prob_array = 10**(-np.linspace(1, 100, 100))\n",
    "for i in range(len(prob_array)):\n",
    "    clf = MultinomialNB(class_prior = [prob_array[i],1 - prob_array[i]])\n",
    "    clf.fit(X,y)\n",
    "    pred = clf.predict(X)\n",
    "    good = True\n",
    "    for j in range(len(y)):\n",
    "        if y[j] and not pred[j]:\n",
    "            good = False\n",
    "            break\n",
    "    if good:\n",
    "        print(prob_array[i])\n",
    "        break"
   ]
  },
  {
   "cell_type": "code",
   "execution_count": null,
   "metadata": {
    "pycharm": {
     "is_executing": true
    }
   },
   "outputs": [],
   "source": [
    "# 1e-22 is good"
   ]
  },
  {
   "cell_type": "code",
   "execution_count": null,
   "metadata": {
    "pycharm": {
     "is_executing": true
    }
   },
   "outputs": [],
   "source": [
    "fpr, tpr, _ = metrics.roc_curve(y_test,  probs)\n",
    "auc = metrics.roc_auc_score(y_test, probs)\n",
    "\n",
    "\n",
    "#create ROC curve\n",
    "plt.plot(fpr,tpr,label=\"AUC=\"+str(auc))\n",
    "plt.plot(fpr,tpr)\n",
    "plt.ylabel('True Positive Rate')\n",
    "plt.xlabel('False Positive Rate')\n",
    "plt.show()\n",
    "print(auc)"
   ]
  },
  {
   "cell_type": "code",
   "execution_count": null,
   "metadata": {
    "pycharm": {
     "is_executing": true
    }
   },
   "outputs": [],
   "source": [
    "prob_array = 10**(-np.linspace(1, 100, 100))\n",
    "score_array = np.zeros(100)"
   ]
  },
  {
   "cell_type": "code",
   "execution_count": null,
   "metadata": {
    "pycharm": {
     "is_executing": true
    }
   },
   "outputs": [],
   "source": [
    "#7\n",
    "#score is Mean accuracy of self.predict(X) wrt. y.\n",
    "cv = CountVectorizer(binary = True)\n",
    "#X = cv.fit_transform(m_df.m_content)\n",
    "#y = m_df.in_spam\n",
    "#print(X.shape)\n",
    "for i in range(len(prob_array)):\n",
    "    clf = MultinomialNB(class_prior = [prob_array[i],1 - prob_array[i]])\n",
    "    clf.fit(X_train,y_train)\n",
    "    score_array[i] = clf.score(X_test, y_test)\n",
    "\n",
    "#create ROC curve\n",
    "\n",
    "plt.plot(-np.linspace(1, 100, 100) ,score_array, 'o-')\n",
    "plt.ylabel('score')\n",
    "plt.xlabel('spam prob, 10**')\n",
    "plt.show()\n"
   ]
  },
  {
   "cell_type": "code",
   "execution_count": null,
   "metadata": {
    "pycharm": {
     "is_executing": true
    }
   },
   "outputs": [],
   "source": []
  },
  {
   "cell_type": "code",
   "execution_count": null,
   "metadata": {
    "pycharm": {
     "is_executing": true
    }
   },
   "outputs": [],
   "source": []
  }
 ],
 "metadata": {
  "kernelspec": {
   "display_name": "Python 3 (ipykernel)",
   "language": "python",
   "name": "python3"
  },
  "language_info": {
   "codemirror_mode": {
    "name": "ipython",
    "version": 3
   },
   "file_extension": ".py",
   "mimetype": "text/x-python",
   "name": "python",
   "nbconvert_exporter": "python",
   "pygments_lexer": "ipython3",
   "version": "3.9.15"
  }
 },
 "nbformat": 4,
 "nbformat_minor": 1
}
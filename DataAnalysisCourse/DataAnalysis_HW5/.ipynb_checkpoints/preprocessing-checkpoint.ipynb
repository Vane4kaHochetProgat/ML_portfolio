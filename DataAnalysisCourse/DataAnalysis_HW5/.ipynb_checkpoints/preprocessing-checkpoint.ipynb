{
 "cells": [
  {
   "cell_type": "code",
   "execution_count": 15,
   "metadata": {},
   "outputs": [],
   "source": [
    "#imports\n",
    "\n",
    "import os\n",
    "import pandas as pd"
   ]
  },
  {
   "cell_type": "code",
   "execution_count": 16,
   "metadata": {},
   "outputs": [],
   "source": [
    "#important names\n",
    "\n",
    "DIRECTORY = \"./messages/\"\n",
    "\n",
    "messages_df_withsub = pd.DataFrame( columns=['m_id', 'm_subject', 'm_content', 'in_spam'])\n",
    "\n",
    "messages_df_nosub = pd.DataFrame( columns=['m_id', 'm_content', 'in_spam'])\n",
    "\n",
    "#DEPRECATED\n",
    "words_in_names_df = pd.DataFrame( columns=['word', 'in_legit', 'in_spam'])\n",
    "words_in_text_df = pd.DataFrame( columns=['word', 'in_legit', 'in_spam'])"
   ]
  },
  {
   "cell_type": "code",
   "execution_count": 17,
   "metadata": {
    "pycharm": {
     "is_executing": true
    }
   },
   "outputs": [],
   "source": [
    "for filename in os.listdir(DIRECTORY):\n",
    "    file = open(DIRECTORY + filename)\n",
    "    text = file.read()\n",
    "    file.close()\n",
    "    text_array = text.split('\\n')\n",
    "    messages_df_withsub.loc[len(messages_df_withsub.index)] = [filename, str(text_array[0][9:]), str(text_array[2]), ('legit' in filename)]\n",
    "    messages_df_nosub.loc[len(messages_df_nosub.index)] = [filename, str(text[9:]), ('legit' in filename)]\n",
    "    "
   ]
  },
  {
   "cell_type": "code",
   "execution_count": 18,
   "metadata": {},
   "outputs": [
    {
     "name": "stdout",
     "output_type": "stream",
     "text": [
      "<class 'pandas.core.frame.DataFrame'>\n",
      "Int64Index: 1090 entries, 0 to 1089\n",
      "Data columns (total 4 columns):\n",
      " #   Column     Non-Null Count  Dtype \n",
      "---  ------     --------------  ----- \n",
      " 0   m_id       1090 non-null   object\n",
      " 1   m_subject  1090 non-null   object\n",
      " 2   m_content  1090 non-null   object\n",
      " 3   in_spam    1090 non-null   bool  \n",
      "dtypes: bool(1), object(3)\n",
      "memory usage: 35.1+ KB\n"
     ]
    }
   ],
   "source": [
    "messages_df_withsub.info()"
   ]
  },
  {
   "cell_type": "code",
   "execution_count": 19,
   "metadata": {},
   "outputs": [
    {
     "name": "stdout",
     "output_type": "stream",
     "text": [
      "<class 'pandas.core.frame.DataFrame'>\n",
      "Int64Index: 1090 entries, 0 to 1089\n",
      "Data columns (total 3 columns):\n",
      " #   Column     Non-Null Count  Dtype \n",
      "---  ------     --------------  ----- \n",
      " 0   m_id       1090 non-null   object\n",
      " 1   m_content  1090 non-null   object\n",
      " 2   in_spam    1090 non-null   bool  \n",
      "dtypes: bool(1), object(2)\n",
      "memory usage: 26.6+ KB\n"
     ]
    }
   ],
   "source": [
    "messages_df_nosub.info()"
   ]
  },
  {
   "cell_type": "code",
   "execution_count": 20,
   "metadata": {
    "pycharm": {
     "is_executing": true
    }
   },
   "outputs": [],
   "source": [
    "messages_df_withsub.to_csv('./messages_withsub.csv', index=False)\n",
    "messages_df_nosub.to_csv('./messages_nosub.csv', index=False)"
   ]
  },
  {
   "cell_type": "code",
   "execution_count": null,
   "metadata": {
    "pycharm": {
     "is_executing": true
    },
    "scrolled": false
   },
   "outputs": [],
   "source": [
    "#DEPRECATED\n",
    "\n",
    "current_legality = False\n",
    "\n",
    "for filename in os.listdir(DIRECTORY):\n",
    "    filename = filename.split(\".txt\")[0]\n",
    "    tmp_string_arr = []\n",
    "    if \"legit\" in filename:\n",
    "        tmp_string_arr = filename.split(\"legit\")\n",
    "        current_legality = True\n",
    "    elif \"spmsg\" in filename:\n",
    "        tmp_string_arr = filename.split(\"spmsg\")\n",
    "        current_legality = False\n",
    "    else:\n",
    "        # need to throw error\n",
    "        print(\"File is not legit neither spam, error\")\n",
    "        break\n",
    "    for string in tmp_string_arr:\n",
    "        index = words_in_names_df.index[words_in_names_df['word'] == string].tolist()\n",
    "        if(len(index) > 1):\n",
    "            # need to throw error\n",
    "            print(\"DataFrame collision error\")\n",
    "            break\n",
    "        if(index == []):\n",
    "            words_in_names_df.loc[len(words_in_names_df.index)] = [string , int(current_legality), int(not current_legality)]\n",
    "            continue\n",
    "        words_in_names_df.loc[index[0], 'in_legit'] += int(current_legality)\n",
    "        words_in_names_df.loc[index[0], 'in_spam'] += int(not current_legality)\n",
    "print(words_in_names_df.info())\n",
    "words_in_names_df.describe()"
   ]
  },
  {
   "cell_type": "code",
   "execution_count": null,
   "metadata": {
    "pycharm": {
     "is_executing": true
    }
   },
   "outputs": [],
   "source": [
    "#DEPRECATED\n",
    "for filename in os.listdir(DIRECTORY):\n",
    "    file = open(DIRECTORY + filename)\n",
    "    text = file.read()\n",
    "    file.close()\n",
    "    text_array = text.split()[1:]\n",
    "    del text\n",
    "    if \"legit\" in filename:\n",
    "        current_legality = True\n",
    "    elif \"spmsg\" in filename:\n",
    "        current_legality = False\n",
    "    else:\n",
    "        # need to throw error\n",
    "        print(\"File is not legit neither spam, error\")\n",
    "        break\n",
    "    for string in text_array:\n",
    "        index = words_in_text_df.index[words_in_text_df['word'] == string].tolist()\n",
    "        if(len(index) > 1):\n",
    "            # need to throw error\n",
    "            print(\"DataFrame collision error\")\n",
    "            break\n",
    "        if(index == []):\n",
    "            words_in_text_df.loc[len(words_in_text_df.index)] = [string , int(current_legality), int(not current_legality)]\n",
    "            continue\n",
    "        words_in_text_df.loc[index[0], 'in_legit'] += int(current_legality)\n",
    "        words_in_text_df.loc[index[0], 'in_spam'] += int(not current_legality)\n",
    "print(words_in_text_df.info())\n",
    "words_in_text_df.describe()"
   ]
  },
  {
   "cell_type": "code",
   "execution_count": null,
   "metadata": {
    "pycharm": {
     "is_executing": true
    }
   },
   "outputs": [],
   "source": [
    "#DEPRECATED\n",
    "words_in_names_df.to_csv('./words_in_names.csv', index=False)\n",
    "words_in_text_df.to_csv('./words_in_text.csv', index=False)"
   ]
  },
  {
   "cell_type": "code",
   "execution_count": null,
   "metadata": {
    "pycharm": {
     "is_executing": true
    }
   },
   "outputs": [],
   "source": []
  },
  {
   "cell_type": "code",
   "execution_count": null,
   "metadata": {
    "pycharm": {
     "is_executing": true
    }
   },
   "outputs": [],
   "source": []
  },
  {
   "cell_type": "code",
   "execution_count": null,
   "metadata": {
    "pycharm": {
     "is_executing": true
    }
   },
   "outputs": [],
   "source": []
  }
 ],
 "metadata": {
  "kernelspec": {
   "display_name": "Python 3 (ipykernel)",
   "language": "python",
   "name": "python3"
  },
  "language_info": {
   "codemirror_mode": {
    "name": "ipython",
    "version": 3
   },
   "file_extension": ".py",
   "mimetype": "text/x-python",
   "name": "python",
   "nbconvert_exporter": "python",
   "pygments_lexer": "ipython3",
   "version": "3.9.15"
  }
 },
 "nbformat": 4,
 "nbformat_minor": 1
}

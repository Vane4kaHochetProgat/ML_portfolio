{
 "cells": [
  {
   "cell_type": "code",
   "execution_count": 1,
   "metadata": {},
   "outputs": [],
   "source": [
    "import numpy as np\n",
    "import pandas as pd\n",
    "import matplotlib.pyplot as plt\n",
    "import scipy.spatial.distance"
   ]
  },
  {
   "cell_type": "code",
   "execution_count": 2,
   "metadata": {
    "pycharm": {
     "is_executing": true
    }
   },
   "outputs": [
    {
     "name": "stdout",
     "output_type": "stream",
     "text": [
      "<class 'pandas.core.frame.DataFrame'>\n",
      "RangeIndex: 206474 entries, 0 to 206473\n",
      "Data columns (total 76 columns):\n",
      " #   Column                               Non-Null Count   Dtype  \n",
      "---  ------                               --------------   -----  \n",
      " 0   city                                 206474 non-null  object \n",
      " 1   floor                                76209 non-null   float64\n",
      " 2   id                                   206474 non-null  object \n",
      " 3   lat                                  206474 non-null  float64\n",
      " 4   lng                                  206474 non-null  float64\n",
      " 5   osm_amenity_points_in_0.001          206474 non-null  int64  \n",
      " 6   osm_amenity_points_in_0.005          206474 non-null  int64  \n",
      " 7   osm_amenity_points_in_0.0075         206474 non-null  int64  \n",
      " 8   osm_amenity_points_in_0.01           206474 non-null  int64  \n",
      " 9   osm_building_points_in_0.001         206474 non-null  int64  \n",
      " 10  osm_building_points_in_0.005         206474 non-null  int64  \n",
      " 11  osm_building_points_in_0.0075        206474 non-null  int64  \n",
      " 12  osm_building_points_in_0.01          206474 non-null  int64  \n",
      " 13  osm_catering_points_in_0.001         206474 non-null  int64  \n",
      " 14  osm_catering_points_in_0.005         206474 non-null  int64  \n",
      " 15  osm_catering_points_in_0.0075        206474 non-null  int64  \n",
      " 16  osm_catering_points_in_0.01          206474 non-null  int64  \n",
      " 17  osm_city_closest_dist                206474 non-null  float64\n",
      " 18  osm_city_nearest_name                206474 non-null  object \n",
      " 19  osm_city_nearest_population          206439 non-null  float64\n",
      " 20  osm_crossing_closest_dist            206474 non-null  float64\n",
      " 21  osm_crossing_points_in_0.001         206474 non-null  int64  \n",
      " 22  osm_crossing_points_in_0.005         206474 non-null  int64  \n",
      " 23  osm_crossing_points_in_0.0075        206474 non-null  int64  \n",
      " 24  osm_crossing_points_in_0.01          206474 non-null  int64  \n",
      " 25  osm_culture_points_in_0.001          206474 non-null  int64  \n",
      " 26  osm_culture_points_in_0.005          206474 non-null  int64  \n",
      " 27  osm_culture_points_in_0.0075         206474 non-null  int64  \n",
      " 28  osm_culture_points_in_0.01           206474 non-null  int64  \n",
      " 29  osm_finance_points_in_0.001          206474 non-null  int64  \n",
      " 30  osm_finance_points_in_0.005          206474 non-null  int64  \n",
      " 31  osm_finance_points_in_0.0075         206474 non-null  int64  \n",
      " 32  osm_finance_points_in_0.01           206474 non-null  int64  \n",
      " 33  osm_healthcare_points_in_0.005       206474 non-null  int64  \n",
      " 34  osm_healthcare_points_in_0.0075      206474 non-null  int64  \n",
      " 35  osm_healthcare_points_in_0.01        206474 non-null  int64  \n",
      " 36  osm_historic_points_in_0.005         206474 non-null  int64  \n",
      " 37  osm_historic_points_in_0.0075        206474 non-null  int64  \n",
      " 38  osm_historic_points_in_0.01          206474 non-null  int64  \n",
      " 39  osm_hotels_points_in_0.005           206474 non-null  int64  \n",
      " 40  osm_hotels_points_in_0.0075          206474 non-null  int64  \n",
      " 41  osm_hotels_points_in_0.01            206474 non-null  int64  \n",
      " 42  osm_leisure_points_in_0.005          206474 non-null  int64  \n",
      " 43  osm_leisure_points_in_0.0075         206474 non-null  int64  \n",
      " 44  osm_leisure_points_in_0.01           206474 non-null  int64  \n",
      " 45  osm_offices_points_in_0.001          206474 non-null  int64  \n",
      " 46  osm_offices_points_in_0.005          206474 non-null  int64  \n",
      " 47  osm_offices_points_in_0.0075         206474 non-null  int64  \n",
      " 48  osm_offices_points_in_0.01           206474 non-null  int64  \n",
      " 49  osm_shops_points_in_0.001            206474 non-null  int64  \n",
      " 50  osm_shops_points_in_0.005            206474 non-null  int64  \n",
      " 51  osm_shops_points_in_0.0075           206474 non-null  int64  \n",
      " 52  osm_shops_points_in_0.01             206474 non-null  int64  \n",
      " 53  osm_subway_closest_dist              206474 non-null  float64\n",
      " 54  osm_train_stop_closest_dist          206474 non-null  float64\n",
      " 55  osm_train_stop_points_in_0.005       206474 non-null  int64  \n",
      " 56  osm_train_stop_points_in_0.0075      206474 non-null  int64  \n",
      " 57  osm_train_stop_points_in_0.01        206474 non-null  int64  \n",
      " 58  osm_transport_stop_closest_dist      206474 non-null  float64\n",
      " 59  osm_transport_stop_points_in_0.005   206474 non-null  int64  \n",
      " 60  osm_transport_stop_points_in_0.0075  206474 non-null  int64  \n",
      " 61  osm_transport_stop_points_in_0.01    206474 non-null  int64  \n",
      " 62  per_square_meter_price               206474 non-null  float64\n",
      " 63  reform_count_of_houses_1000          206474 non-null  int64  \n",
      " 64  reform_count_of_houses_500           206474 non-null  int64  \n",
      " 65  reform_house_population_1000         195541 non-null  float64\n",
      " 66  reform_house_population_500          186141 non-null  float64\n",
      " 67  reform_mean_floor_count_1000         193961 non-null  float64\n",
      " 68  reform_mean_floor_count_500          183936 non-null  float64\n",
      " 69  reform_mean_year_building_1000       194311 non-null  float64\n",
      " 70  reform_mean_year_building_500        184340 non-null  float64\n",
      " 71  region                               206474 non-null  object \n",
      " 72  total_square                         206474 non-null  float64\n",
      " 73  street                               205271 non-null  object \n",
      " 74  date                                 206474 non-null  object \n",
      " 75  realty_type                          206474 non-null  int64  \n",
      "dtypes: float64(17), int64(53), object(6)\n",
      "memory usage: 119.7+ MB\n"
     ]
    }
   ],
   "source": [
    "train = pd.read_csv('./andan-2022-autumn-lab-4/train.csv')\n",
    "train.info()"
   ]
  },
  {
   "cell_type": "code",
   "execution_count": 3,
   "metadata": {
    "pycharm": {
     "is_executing": true
    }
   },
   "outputs": [
    {
     "data": {
      "text/plain": [
       "130265"
      ]
     },
     "execution_count": 3,
     "metadata": {},
     "output_type": "execute_result"
    }
   ],
   "source": [
    "len(train.loc[train['floor'].isnull()])\n",
    "#train.loc[train['floor'].isnull()] = 0\n",
    "#train.floor.isnull().values.any()"
   ]
  },
  {
   "cell_type": "code",
   "execution_count": 4,
   "metadata": {
    "pycharm": {
     "is_executing": true
    }
   },
   "outputs": [],
   "source": [
    "from sklearn.linear_model import LinearRegression\n",
    "#def floor_split_predict(train, answer, test):"
   ]
  },
  {
   "cell_type": "code",
   "execution_count": 5,
   "metadata": {
    "pycharm": {
     "is_executing": true
    }
   },
   "outputs": [],
   "source": [
    "def normalize_column(df, column_name):\n",
    "    min = df[column_name].min()\n",
    "    max = df[column_name].max()\n",
    "\n",
    "    df[column_name] = df[column_name].apply(lambda x: (x - min) / (max - min))"
   ]
  },
  {
   "cell_type": "code",
   "execution_count": 6,
   "metadata": {
    "pycharm": {
     "is_executing": true
    }
   },
   "outputs": [],
   "source": [
    "def cities_1m(df):\n",
    "    cities_1m_people = ['Москва', 'Санкт-Петербург', 'Новосибирск', 'Екатеринбург', 'Казань', 'Нижний Новгород', 'Челябинск', 'Самара', 'Омск',\n",
    "                       'Ростов-на-Дону', 'Уфа', 'Красноярск', 'Воронеж', 'Пермь', 'Волгоград']\n",
    "\n",
    "    is_million = []\n",
    "\n",
    "    for row in df['city']:\n",
    "        if row in cities_1m_people:\n",
    "            is_million.append(1)\n",
    "        else:\n",
    "            is_million.append(0)\n",
    "        \n",
    "    df['is_million'] = is_million\n",
    "    \n",
    "    df.drop(['city'], axis=1, inplace=True)\n",
    "\n",
    "    print('is_million: ' + str((len(df[df['is_million'] == 1]))))\n",
    "# cities_1m(train)\n"
   ]
  },
  {
   "cell_type": "code",
   "execution_count": 7,
   "metadata": {
    "pycharm": {
     "is_executing": true
    }
   },
   "outputs": [],
   "source": [
    "def buildings(df):\n",
    "    many_buildings = []\n",
    "\n",
    "    for i in range(len(df['osm_building_points_in_0.001'])):\n",
    "        if df['osm_building_points_in_0.001'][i] > 2 or df['osm_building_points_in_0.005'][i] > 5:\n",
    "            many_buildings.append(1)\n",
    "        else:\n",
    "            many_buildings.append(0)\n",
    "\n",
    "    df['many_buildings'] = many_buildings\n",
    "\n",
    "    # df.drop(['osm_building_points_in_0.001', 'osm_building_points_in_0.005'], axis=1, inplace=True)\n",
    "\n",
    "# buildings(train)"
   ]
  },
  {
   "cell_type": "code",
   "execution_count": 8,
   "metadata": {
    "pycharm": {
     "is_executing": true
    }
   },
   "outputs": [],
   "source": [
    "def stations(df):\n",
    "    many_stations = []\n",
    "\n",
    "    for i in range(len(df['osm_train_stop_points_in_0.005'])):\n",
    "        if df['osm_train_stop_points_in_0.005'][i] > 1 or df['osm_train_stop_points_in_0.0075'][i] > 1 or df['osm_train_stop_points_in_0.01'][i] > 1:\n",
    "            many_stations.append(1)\n",
    "        else:\n",
    "            many_stations.append(0)\n",
    "\n",
    "    df['many_stations'] = many_stations\n",
    "\n",
    "    df.drop(['osm_train_stop_points_in_0.005', 'osm_train_stop_points_in_0.0075', 'osm_train_stop_points_in_0.01', 'osm_building_points_in_0.001', 'osm_building_points_in_0.005', ], axis=1, inplace=True)\n",
    "\n",
    "# stations(train)"
   ]
  },
  {
   "cell_type": "code",
   "execution_count": 9,
   "metadata": {
    "pycharm": {
     "is_executing": true
    }
   },
   "outputs": [],
   "source": [
    "def shops(df):\n",
    "    many_shops = []\n",
    "\n",
    "    for i in range(len(df['osm_shops_points_in_0.001'])):\n",
    "        if df['osm_shops_points_in_0.001'][i] > 2 or df['osm_shops_points_in_0.005'][i] > 10 or df['osm_shops_points_in_0.0075'][i] > 15 or df['osm_shops_points_in_0.01'][i] > 20:\n",
    "            many_shops.append(1)\n",
    "        else:\n",
    "            many_shops.append(0)\n",
    "\n",
    "    df['many_shops'] = many_shops\n",
    "\n",
    "    df.drop(['osm_shops_points_in_0.001', 'osm_shops_points_in_0.005', 'osm_shops_points_in_0.0075', 'osm_shops_points_in_0.01'], axis=1, inplace=True)\n",
    "\n",
    "# shops(df_train)"
   ]
  },
  {
   "cell_type": "code",
   "execution_count": 10,
   "metadata": {
    "pycharm": {
     "is_executing": true
    }
   },
   "outputs": [],
   "source": [
    "def food(df):\n",
    "    many_food = []\n",
    "\n",
    "    for i in range(len(df['osm_catering_points_in_0.001'])):\n",
    "        if df['osm_catering_points_in_0.001'][i] > 2 or df['osm_catering_points_in_0.005'][i] > 10 or df['osm_catering_points_in_0.0075'][i] > 15 or df['osm_catering_points_in_0.01'][i] > 20:\n",
    "            many_food.append(1)\n",
    "        else:\n",
    "            many_food.append(0)\n",
    "\n",
    "    df['many_food'] = many_food\n",
    "\n",
    "    df.drop(['osm_catering_points_in_0.001', 'osm_catering_points_in_0.005', 'osm_catering_points_in_0.0075', 'osm_catering_points_in_0.01'], axis=1, inplace=True)\n",
    "\n",
    "# food(df_train)"
   ]
  },
  {
   "cell_type": "code",
   "execution_count": 11,
   "metadata": {
    "pycharm": {
     "is_executing": true
    }
   },
   "outputs": [],
   "source": [
    "def location(df):\n",
    "    is_moscow = []\n",
    "    is_moscow_oblast = []\n",
    "    is_spb = []\n",
    "    is_region = []\n",
    "\n",
    "    for row in df['region']:\n",
    "        if row == 'Москва':\n",
    "            is_moscow.append(1)\n",
    "            is_moscow_oblast.append(0)\n",
    "            is_region.append(0)\n",
    "            is_spb.append(0)\n",
    "        elif row == 'Московская область':\n",
    "            is_moscow.append(0)\n",
    "            is_moscow_oblast.append(1)\n",
    "            is_region.append(0)\n",
    "            is_spb.append(0)\n",
    "        elif row == 'Санкт-Петербург':\n",
    "            is_moscow.append(0)\n",
    "            is_moscow_oblast.append(0)\n",
    "            is_region.append(0)\n",
    "            is_spb.append(1)\n",
    "        else:\n",
    "            is_moscow.append(0)\n",
    "            is_moscow_oblast.append(0)\n",
    "            is_region.append(1)\n",
    "            is_spb.append(0)\n",
    "\n",
    "    df['is_moscow'] = is_moscow\n",
    "    df['is_moscow_oblast'] = is_moscow_oblast\n",
    "    df['is_region'] = is_region\n",
    "    df['is_spb'] = is_spb\n",
    "\n",
    "    df.drop(['region'], axis=1, inplace=True)\n",
    "\n",
    "    print('Moscow: ' + str((len(df[df['is_moscow'] == 1]))))\n",
    "    print('Moscow oblast: ' + str((len(df[df['is_moscow_oblast'] == 1]))))\n",
    "    print('Region: ' + str((len(df[df['is_region'] == 1]))))\n",
    "    print('Spb: ' + str((len(df[df['is_spb'] == 1]))))"
   ]
  },
  {
   "cell_type": "code",
   "execution_count": 12,
   "metadata": {
    "pycharm": {
     "is_executing": true
    }
   },
   "outputs": [],
   "source": [
    "def offices(df):\n",
    "    many_offices = []\n",
    "\n",
    "    for i in range(len(df['osm_offices_points_in_0.001'])):\n",
    "        if df['osm_offices_points_in_0.001'][i] > 2 or df['osm_offices_points_in_0.005'][i] > 10 or df['osm_offices_points_in_0.0075'][i] > 15 or df['osm_offices_points_in_0.01'][i] > 20:\n",
    "            many_offices.append(1)\n",
    "        else:\n",
    "            many_offices.append(0)\n",
    "\n",
    "    df['many_offices'] = many_offices\n",
    "\n",
    "    df.drop(['osm_offices_points_in_0.001', 'osm_offices_points_in_0.005', 'osm_offices_points_in_0.0075', 'osm_offices_points_in_0.01'], axis=1, inplace=True)\n",
    "\n",
    "# offices(df_train)"
   ]
  },
  {
   "cell_type": "code",
   "execution_count": 13,
   "metadata": {
    "pycharm": {
     "is_executing": true
    }
   },
   "outputs": [],
   "source": [
    "def comfort_objects(df):\n",
    "    many_comfort_objects = []\n",
    "\n",
    "    for i in range(len(df['osm_amenity_points_in_0.001'])):\n",
    "        if df['osm_amenity_points_in_0.001'][i] > 1 or df['osm_amenity_points_in_0.005'][i] > 1 or df['osm_amenity_points_in_0.0075'][i] > 1  or df['osm_amenity_points_in_0.01'][i] > 1:\n",
    "            many_comfort_objects.append(1)\n",
    "        else:\n",
    "            many_comfort_objects.append(0)\n",
    "\n",
    "    df['many_comfort_objects'] = many_comfort_objects\n",
    "\n",
    "    df.drop(['osm_amenity_points_in_0.001', 'osm_amenity_points_in_0.005', 'osm_amenity_points_in_0.0075', 'osm_amenity_points_in_0.01'], axis=1, inplace=True)"
   ]
  },
  {
   "cell_type": "code",
   "execution_count": 14,
   "metadata": {
    "pycharm": {
     "is_executing": true
    }
   },
   "outputs": [],
   "source": [
    "def financial_organizations(df):\n",
    "    many_financial_organizations = []\n",
    "\n",
    "    for i in range(len(df['osm_finance_points_in_0.001'])):\n",
    "        if df['osm_finance_points_in_0.001'][i] > 2 or df['osm_finance_points_in_0.005'][i] > 10 or df['osm_finance_points_in_0.0075'][i] > 15 or df['osm_finance_points_in_0.01'][i] > 20:\n",
    "            many_financial_organizations.append(1)\n",
    "        else:\n",
    "            many_financial_organizations.append(0)\n",
    "\n",
    "    df['many_financial_organizations'] = many_financial_organizations\n",
    "\n",
    "    df.drop(['osm_finance_points_in_0.001', 'osm_finance_points_in_0.005', 'osm_finance_points_in_0.0075', 'osm_finance_points_in_0.01'], axis=1, inplace=True)"
   ]
  },
  {
   "cell_type": "code",
   "execution_count": 15,
   "metadata": {
    "pycharm": {
     "is_executing": true
    }
   },
   "outputs": [],
   "source": [
    "def nearest_city(df):\n",
    "    # osm_city_nearest_population\n",
    "    is_big_city_near = []\n",
    "\n",
    "    for i in range(len(df['osm_city_nearest_population'])):\n",
    "        if df['osm_city_nearest_population'][i] > 100000:\n",
    "            is_big_city_near.append(1)\n",
    "        else:\n",
    "            is_big_city_near.append(0)\n",
    "\n",
    "    df['near_big_city'] = is_big_city_near\n",
    "    df.drop(['osm_city_nearest_population'], axis=1, inplace=True)"
   ]
  },
  {
   "cell_type": "code",
   "execution_count": null,
   "metadata": {
    "pycharm": {
     "is_executing": true
    }
   },
   "outputs": [],
   "source": []
  },
  {
   "cell_type": "code",
   "execution_count": 16,
   "metadata": {
    "pycharm": {
     "is_executing": true
    }
   },
   "outputs": [],
   "source": [
    "def prepare_df(df):\n",
    "    df = df.loc[:, ['city', 'osm_train_stop_points_in_0.005', 'osm_train_stop_points_in_0.0075', 'osm_train_stop_points_in_0.01', 'osm_building_points_in_0.001', 'osm_building_points_in_0.005',  'total_square', 'osm_shops_points_in_0.001', 'osm_shops_points_in_0.005', 'osm_shops_points_in_0.0075', 'osm_shops_points_in_0.01', 'osm_catering_points_in_0.001', 'osm_catering_points_in_0.005', 'osm_catering_points_in_0.0075', 'osm_catering_points_in_0.01',\n",
    "                    'region',\n",
    "                    'osm_finance_points_in_0.001', 'osm_finance_points_in_0.005', 'osm_finance_points_in_0.0075', 'osm_finance_points_in_0.01',\n",
    "                    'osm_city_nearest_population'\n",
    "]]\n",
    "\n",
    "    cities_1m(df)\n",
    "    # make_district(df)\n",
    "    # buildings(df)\n",
    "    stations(df)\n",
    "    shops(df)\n",
    "    food(df)\n",
    "    location(df)\n",
    "    financial_organizations(df)\n",
    "    nearest_city(df)\n",
    "    # df['total_square'] = df.total_square / 10\n",
    "    normalize_column(df, 'total_square')\n",
    "    df['total_square'] = df.total_square * 1000\n",
    "\n",
    "    return df"
   ]
  },
  {
   "cell_type": "code",
   "execution_count": 17,
   "metadata": {
    "pycharm": {
     "is_executing": true
    }
   },
   "outputs": [
    {
     "name": "stdout",
     "output_type": "stream",
     "text": [
      "is_million: 102815\n",
      "Moscow: 41891\n",
      "Moscow oblast: 12247\n",
      "Region: 138389\n",
      "Spb: 13947\n"
     ]
    }
   ],
   "source": [
    "train_y = train.per_square_meter_price\n",
    "train = prepare_df(train)"
   ]
  },
  {
   "cell_type": "code",
   "execution_count": 18,
   "metadata": {
    "pycharm": {
     "is_executing": true
    }
   },
   "outputs": [
    {
     "data": {
      "text/plain": [
       "total_square                   -0.028438\n",
       "is_million                      0.344420\n",
       "many_stations                   0.220561\n",
       "many_shops                      0.223246\n",
       "many_food                       0.374254\n",
       "is_moscow                       0.542244\n",
       "is_moscow_oblast               -0.041304\n",
       "is_region                      -0.478377\n",
       "is_spb                          0.066101\n",
       "many_financial_organizations    0.408176\n",
       "near_big_city                   0.017114\n",
       "dtype: float64"
      ]
     },
     "execution_count": 18,
     "metadata": {},
     "output_type": "execute_result"
    }
   ],
   "source": [
    "train.corrwith(train_y)"
   ]
  },
  {
   "cell_type": "code",
   "execution_count": 19,
   "metadata": {
    "pycharm": {
     "is_executing": true
    }
   },
   "outputs": [
    {
     "data": {
      "text/plain": [
       "0.45285249225368396"
      ]
     },
     "execution_count": 19,
     "metadata": {},
     "output_type": "execute_result"
    }
   ],
   "source": [
    "# 216\n",
    "# 355 - moscow\n",
    "# 378 - offices\n",
    "# 362 - no district\n",
    "reg = LinearRegression().fit(train, np.log(train_y))\n",
    "reg.score(train, np.log(train_y))"
   ]
  },
  {
   "cell_type": "code",
   "execution_count": 20,
   "metadata": {
    "pycharm": {
     "is_executing": true
    }
   },
   "outputs": [
    {
     "data": {
      "text/plain": [
       "(array([2.0000e+00, 2.0000e+00, 3.0000e+00, 1.0000e+00, 0.0000e+00,\n",
       "        2.0000e+00, 3.0000e+00, 3.0000e+00, 3.0000e+00, 2.0000e+00,\n",
       "        3.0000e+00, 7.0000e+00, 2.0000e+00, 1.0000e+00, 6.0000e+00,\n",
       "        8.0000e+00, 5.0000e+00, 7.0000e+00, 1.0000e+00, 7.0000e+00,\n",
       "        5.0000e+00, 6.0000e+00, 3.0000e+00, 9.0000e+00, 1.0000e+00,\n",
       "        6.0000e+00, 1.1000e+01, 1.7000e+01, 6.0000e+00, 7.0000e+00,\n",
       "        1.9000e+01, 7.0000e+00, 7.0000e+00, 2.9000e+01, 1.7000e+01,\n",
       "        2.2000e+01, 4.0000e+00, 2.0000e+01, 3.4000e+01, 2.4000e+01,\n",
       "        3.0000e+01, 2.8000e+01, 1.7000e+01, 3.0000e+01, 3.5000e+01,\n",
       "        2.6000e+01, 9.1000e+01, 3.8000e+01, 6.4000e+01, 6.0000e+01,\n",
       "        7.6000e+01, 1.0000e+02, 1.7700e+02, 2.2100e+02, 7.3200e+02,\n",
       "        4.2400e+02, 3.2400e+02, 4.9500e+02, 8.1900e+02, 1.6850e+03,\n",
       "        5.5850e+03, 2.9143e+04, 7.0600e+02, 6.6300e+02, 1.3920e+03,\n",
       "        7.7540e+03, 2.2090e+03, 1.6536e+04, 1.6638e+04, 8.7000e+02,\n",
       "        1.8920e+03, 1.6381e+04, 2.1700e+04, 3.1000e+02, 5.5900e+02,\n",
       "        3.2790e+03, 8.4420e+03, 4.6090e+03, 2.9210e+03, 2.9200e+02,\n",
       "        1.7050e+03, 3.4510e+03, 1.3300e+03, 7.7930e+03, 1.0380e+03,\n",
       "        1.7600e+02, 6.0400e+02, 5.3920e+03, 1.1430e+03, 2.2440e+03,\n",
       "        8.3110e+03, 5.6400e+02, 2.7250e+03, 2.9560e+03, 8.5590e+03,\n",
       "        3.4100e+02, 3.7600e+02, 8.5200e+02, 2.7080e+03, 6.5310e+03]),\n",
       " array([ 5.66191262,  5.73277934,  5.80364605,  5.87451276,  5.94537947,\n",
       "         6.01624618,  6.08711289,  6.1579796 ,  6.22884631,  6.29971302,\n",
       "         6.37057973,  6.44144644,  6.51231316,  6.58317987,  6.65404658,\n",
       "         6.72491329,  6.79578   ,  6.86664671,  6.93751342,  7.00838013,\n",
       "         7.07924684,  7.15011355,  7.22098026,  7.29184698,  7.36271369,\n",
       "         7.4335804 ,  7.50444711,  7.57531382,  7.64618053,  7.71704724,\n",
       "         7.78791395,  7.85878066,  7.92964737,  8.00051408,  8.0713808 ,\n",
       "         8.14224751,  8.21311422,  8.28398093,  8.35484764,  8.42571435,\n",
       "         8.49658106,  8.56744777,  8.63831448,  8.70918119,  8.7800479 ,\n",
       "         8.85091462,  8.92178133,  8.99264804,  9.06351475,  9.13438146,\n",
       "         9.20524817,  9.27611488,  9.34698159,  9.4178483 ,  9.48871501,\n",
       "         9.55958172,  9.63044844,  9.70131515,  9.77218186,  9.84304857,\n",
       "         9.91391528,  9.98478199, 10.0556487 , 10.12651541, 10.19738212,\n",
       "        10.26824883, 10.33911554, 10.40998226, 10.48084897, 10.55171568,\n",
       "        10.62258239, 10.6934491 , 10.76431581, 10.83518252, 10.90604923,\n",
       "        10.97691594, 11.04778265, 11.11864936, 11.18951608, 11.26038279,\n",
       "        11.3312495 , 11.40211621, 11.47298292, 11.54384963, 11.61471634,\n",
       "        11.68558305, 11.75644976, 11.82731647, 11.89818318, 11.9690499 ,\n",
       "        12.03991661, 12.11078332, 12.18165003, 12.25251674, 12.32338345,\n",
       "        12.39425016, 12.46511687, 12.53598358, 12.60685029, 12.677717  ,\n",
       "        12.74858372]),\n",
       " <BarContainer object of 100 artists>)"
      ]
     },
     "execution_count": 20,
     "metadata": {},
     "output_type": "execute_result"
    },
    {
     "data": {
      "image/png": "[encoded data removed]",
      "text/plain": [
       "<Figure size 640x480 with 1 Axes>"
      ]
     },
     "metadata": {},
     "output_type": "display_data"
    }
   ],
   "source": [
    "predicted = reg.predict(train)\n",
    "#tmp = predicted[predicted > 0.0].mean()\n",
    "#predicted[predicted <0.0] = tmp\n",
    "plt.hist(np.log(train_y), 100)\n",
    "plt.hist(predicted, 100)"
   ]
  },
  {
   "cell_type": "code",
   "execution_count": 21,
   "metadata": {
    "pycharm": {
     "is_executing": true
    }
   },
   "outputs": [
    {
     "name": "stdout",
     "output_type": "stream",
     "text": [
      "is_million: 34300\n",
      "Moscow: 13980\n",
      "Moscow oblast: 4061\n",
      "Region: 46199\n",
      "Spb: 4585\n"
     ]
    }
   ],
   "source": [
    "# TODO: function - prepare data\n",
    "test = pd.read_csv('./andan-2022-autumn-lab-4/test_x.csv')\n",
    "# test.drop(columns=['lng', 'lat', 'floor', 'id', 'reform_house_population_500', 'reform_mean_floor_count_500', 'reform_mean_floor_count_1000', 'street', 'date', 'reform_mean_year_building_500', 'reform_mean_year_building_1000', 'osm_city_nearest_population', 'reform_house_population_1000', 'osm_shops_points_in_0.01',\n",
    "#                     'osm_amenity_points_in_0.0075', 'osm_amenity_points_in_0.01', \"region\", \"osm_city_nearest_name\"], inplace=True)\n",
    "# cities_1m(test)\n",
    "# make_district(test)\n",
    "# buildings(test)\n",
    "#\n",
    "# test.osm_city_closest_dist = test.osm_city_closest_dist / 10\n",
    "# test.osm_subway_closest_dist = test.osm_subway_closest_dist / 10\n",
    "# test.drop(columns=['osm_amenity_points_in_0.001', 'osm_amenity_points_in_0.005', 'osm_building_points_in_0.0075', 'osm_building_points_in_0.01', 'osm_crossing_points_in_0.01',\n",
    "#                     'osm_crossing_points_in_0.0075'])\n",
    "test = prepare_df(test)"
   ]
  },
  {
   "cell_type": "code",
   "execution_count": 22,
   "metadata": {
    "pycharm": {
     "is_executing": true
    }
   },
   "outputs": [],
   "source": [
    "predicted = reg.predict(test)\n",
    "# tmp = predicted[predicted > 0.0].mean()\n",
    "predicted[predicted <0.0] = 0"
   ]
  },
  {
   "cell_type": "code",
   "execution_count": 24,
   "metadata": {
    "pycharm": {
     "is_executing": true
    }
   },
   "outputs": [],
   "source": [
    "p = pd.DataFrame()\n",
    "p[\"id\"] = range(0,68825)\n",
    "p[\"per_square_meter_price\"] = predicted/8\n",
    "p.to_csv('./andan-2022-autumn-lab-4/submit.csv', index=False)"
   ]
  },
  {
   "cell_type": "code",
   "execution_count": null,
   "metadata": {
    "pycharm": {
     "is_executing": true
    }
   },
   "outputs": [],
   "source": []
  }
 ],
 "metadata": {
  "kernelspec": {
   "display_name": "Python 3 (ipykernel)",
   "language": "python",
   "name": "python3"
  },
  "language_info": {
   "codemirror_mode": {
    "name": "ipython",
    "version": 3
   },
   "file_extension": ".py",
   "mimetype": "text/x-python",
   "name": "python",
   "nbconvert_exporter": "python",
   "pygments_lexer": "ipython3",
   "version": "3.9.15"
  }
 },
 "nbformat": 4,
 "nbformat_minor": 1
}

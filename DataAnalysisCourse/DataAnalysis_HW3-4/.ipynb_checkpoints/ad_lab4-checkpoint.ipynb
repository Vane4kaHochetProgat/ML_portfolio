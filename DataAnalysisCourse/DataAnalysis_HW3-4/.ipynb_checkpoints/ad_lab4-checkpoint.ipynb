{
 "cells": [
  {
   "cell_type": "code",
   "execution_count": null,
   "metadata": {
    "colab": {
     "base_uri": "https://localhost:8080/"
    },
    "id": "x7No6GvXENtq",
    "outputId": "12a7e18f-0f7b-4b2e-95d3-d33ae19a865a"
   },
   "outputs": [],
   "source": []
  },
  {
   "cell_type": "code",
   "execution_count": 3,
   "metadata": {
    "id": "DhoijxACFDgn"
   },
   "outputs": [],
   "source": [
    "import pandas as pd\n",
    "import numpy as np\n",
    "import matplotlib.pyplot as plt\n",
    "\n",
    "test = pd.read_csv('./andan-2022-autumn-lab-4/test_x.csv')\n",
    "train = pd.read_csv('./andan-2022-autumn-lab-4/train.csv')\n",
    "\n",
    "target_col = 'per_square_meter_price'"
   ]
  },
  {
   "cell_type": "markdown",
   "metadata": {
    "id": "tHjawBzDGcnF"
   },
   "source": [
    "# Преобразование данных"
   ]
  },
  {
   "cell_type": "code",
   "execution_count": 4,
   "metadata": {
    "colab": {
     "base_uri": "https://localhost:8080/",
     "height": 386
    },
    "id": "0wiR5nz1GfN4",
    "outputId": "e53b39df-ddbc-42ec-b37a-6f30b7f0f814"
   },
   "outputs": [
    {
     "data": {
      "text/html": [
       "<div>\n",
       "<style scoped>\n",
       "    .dataframe tbody tr th:only-of-type {\n",
       "        vertical-align: middle;\n",
       "    }\n",
       "\n",
       "    .dataframe tbody tr th {\n",
       "        vertical-align: top;\n",
       "    }\n",
       "\n",
       "    .dataframe thead th {\n",
       "        text-align: right;\n",
       "    }\n",
       "</style>\n",
       "<table border=\"1\" class=\"dataframe\">\n",
       "  <thead>\n",
       "    <tr style=\"text-align: right;\">\n",
       "      <th></th>\n",
       "      <th>city</th>\n",
       "      <th>floor</th>\n",
       "      <th>id</th>\n",
       "      <th>lat</th>\n",
       "      <th>lng</th>\n",
       "      <th>osm_amenity_points_in_0.001</th>\n",
       "      <th>osm_amenity_points_in_0.005</th>\n",
       "      <th>osm_amenity_points_in_0.0075</th>\n",
       "      <th>osm_amenity_points_in_0.01</th>\n",
       "      <th>osm_building_points_in_0.001</th>\n",
       "      <th>...</th>\n",
       "      <th>reform_house_population_500</th>\n",
       "      <th>reform_mean_floor_count_1000</th>\n",
       "      <th>reform_mean_floor_count_500</th>\n",
       "      <th>reform_mean_year_building_1000</th>\n",
       "      <th>reform_mean_year_building_500</th>\n",
       "      <th>region</th>\n",
       "      <th>total_square</th>\n",
       "      <th>street</th>\n",
       "      <th>date</th>\n",
       "      <th>realty_type</th>\n",
       "    </tr>\n",
       "  </thead>\n",
       "  <tbody>\n",
       "    <tr>\n",
       "      <th>0</th>\n",
       "      <td>Ставрополь</td>\n",
       "      <td>NaN</td>\n",
       "      <td>COL_65683</td>\n",
       "      <td>45.011356</td>\n",
       "      <td>41.919273</td>\n",
       "      <td>7</td>\n",
       "      <td>71</td>\n",
       "      <td>144</td>\n",
       "      <td>225</td>\n",
       "      <td>0</td>\n",
       "      <td>...</td>\n",
       "      <td>969.0</td>\n",
       "      <td>8.439655</td>\n",
       "      <td>9.250000</td>\n",
       "      <td>1990.232759</td>\n",
       "      <td>1993.500000</td>\n",
       "      <td>Ставропольский край</td>\n",
       "      <td>31.0</td>\n",
       "      <td>S1842</td>\n",
       "      <td>2020-02-23</td>\n",
       "      <td>10</td>\n",
       "    </tr>\n",
       "    <tr>\n",
       "      <th>1</th>\n",
       "      <td>Омск</td>\n",
       "      <td>NaN</td>\n",
       "      <td>COL_159011</td>\n",
       "      <td>54.984833</td>\n",
       "      <td>73.387344</td>\n",
       "      <td>4</td>\n",
       "      <td>40</td>\n",
       "      <td>109</td>\n",
       "      <td>206</td>\n",
       "      <td>0</td>\n",
       "      <td>...</td>\n",
       "      <td>305.0</td>\n",
       "      <td>4.756410</td>\n",
       "      <td>4.333333</td>\n",
       "      <td>1960.346154</td>\n",
       "      <td>1956.291667</td>\n",
       "      <td>Омская область</td>\n",
       "      <td>150.0</td>\n",
       "      <td>S14290</td>\n",
       "      <td>2020-05-24</td>\n",
       "      <td>10</td>\n",
       "    </tr>\n",
       "    <tr>\n",
       "      <th>2</th>\n",
       "      <td>Белгород</td>\n",
       "      <td>NaN</td>\n",
       "      <td>COL_205850</td>\n",
       "      <td>50.576805</td>\n",
       "      <td>36.563267</td>\n",
       "      <td>0</td>\n",
       "      <td>9</td>\n",
       "      <td>22</td>\n",
       "      <td>44</td>\n",
       "      <td>0</td>\n",
       "      <td>...</td>\n",
       "      <td>533.0</td>\n",
       "      <td>6.435897</td>\n",
       "      <td>6.400000</td>\n",
       "      <td>1980.452991</td>\n",
       "      <td>1989.633333</td>\n",
       "      <td>Белгородская область</td>\n",
       "      <td>73.0</td>\n",
       "      <td>S25733</td>\n",
       "      <td>2020-06-28</td>\n",
       "      <td>10</td>\n",
       "    </tr>\n",
       "    <tr>\n",
       "      <th>3</th>\n",
       "      <td>Большой Исток</td>\n",
       "      <td>NaN</td>\n",
       "      <td>COL_229491</td>\n",
       "      <td>56.714413</td>\n",
       "      <td>60.792454</td>\n",
       "      <td>0</td>\n",
       "      <td>0</td>\n",
       "      <td>0</td>\n",
       "      <td>1</td>\n",
       "      <td>0</td>\n",
       "      <td>...</td>\n",
       "      <td>NaN</td>\n",
       "      <td>NaN</td>\n",
       "      <td>NaN</td>\n",
       "      <td>NaN</td>\n",
       "      <td>NaN</td>\n",
       "      <td>Свердловская область</td>\n",
       "      <td>438.0</td>\n",
       "      <td>S6985</td>\n",
       "      <td>2020-07-19</td>\n",
       "      <td>110</td>\n",
       "    </tr>\n",
       "    <tr>\n",
       "      <th>4</th>\n",
       "      <td>Новосибирск</td>\n",
       "      <td>1.0</td>\n",
       "      <td>COL_77283</td>\n",
       "      <td>55.055200</td>\n",
       "      <td>82.895810</td>\n",
       "      <td>0</td>\n",
       "      <td>25</td>\n",
       "      <td>50</td>\n",
       "      <td>101</td>\n",
       "      <td>0</td>\n",
       "      <td>...</td>\n",
       "      <td>1188.0</td>\n",
       "      <td>6.830065</td>\n",
       "      <td>6.672414</td>\n",
       "      <td>1974.045752</td>\n",
       "      <td>1974.637931</td>\n",
       "      <td>Новосибирская область</td>\n",
       "      <td>62.7</td>\n",
       "      <td>S4778</td>\n",
       "      <td>2020-03-01</td>\n",
       "      <td>10</td>\n",
       "    </tr>\n",
       "  </tbody>\n",
       "</table>\n",
       "<p>5 rows × 76 columns</p>\n",
       "</div>"
      ],
      "text/plain": [
       "            city  floor          id        lat        lng  \\\n",
       "0     Ставрополь    NaN   COL_65683  45.011356  41.919273   \n",
       "1           Омск    NaN  COL_159011  54.984833  73.387344   \n",
       "2       Белгород    NaN  COL_205850  50.576805  36.563267   \n",
       "3  Большой Исток    NaN  COL_229491  56.714413  60.792454   \n",
       "4    Новосибирск    1.0   COL_77283  55.055200  82.895810   \n",
       "\n",
       "   osm_amenity_points_in_0.001  osm_amenity_points_in_0.005  \\\n",
       "0                            7                           71   \n",
       "1                            4                           40   \n",
       "2                            0                            9   \n",
       "3                            0                            0   \n",
       "4                            0                           25   \n",
       "\n",
       "   osm_amenity_points_in_0.0075  osm_amenity_points_in_0.01  \\\n",
       "0                           144                         225   \n",
       "1                           109                         206   \n",
       "2                            22                          44   \n",
       "3                             0                           1   \n",
       "4                            50                         101   \n",
       "\n",
       "   osm_building_points_in_0.001  ...  reform_house_population_500  \\\n",
       "0                             0  ...                        969.0   \n",
       "1                             0  ...                        305.0   \n",
       "2                             0  ...                        533.0   \n",
       "3                             0  ...                          NaN   \n",
       "4                             0  ...                       1188.0   \n",
       "\n",
       "   reform_mean_floor_count_1000  reform_mean_floor_count_500  \\\n",
       "0                      8.439655                     9.250000   \n",
       "1                      4.756410                     4.333333   \n",
       "2                      6.435897                     6.400000   \n",
       "3                           NaN                          NaN   \n",
       "4                      6.830065                     6.672414   \n",
       "\n",
       "   reform_mean_year_building_1000  reform_mean_year_building_500  \\\n",
       "0                     1990.232759                    1993.500000   \n",
       "1                     1960.346154                    1956.291667   \n",
       "2                     1980.452991                    1989.633333   \n",
       "3                             NaN                            NaN   \n",
       "4                     1974.045752                    1974.637931   \n",
       "\n",
       "                  region  total_square  street        date  realty_type  \n",
       "0    Ставропольский край          31.0   S1842  2020-02-23           10  \n",
       "1         Омская область         150.0  S14290  2020-05-24           10  \n",
       "2   Белгородская область          73.0  S25733  2020-06-28           10  \n",
       "3   Свердловская область         438.0   S6985  2020-07-19          110  \n",
       "4  Новосибирская область          62.7   S4778  2020-03-01           10  \n",
       "\n",
       "[5 rows x 76 columns]"
      ]
     },
     "execution_count": 4,
     "metadata": {},
     "output_type": "execute_result"
    }
   ],
   "source": [
    "train.head()"
   ]
  },
  {
   "cell_type": "markdown",
   "metadata": {
    "id": "7q1szCg7Gkm2"
   },
   "source": [
    "### 1) Пропуски"
   ]
  },
  {
   "cell_type": "code",
   "execution_count": 5,
   "metadata": {
    "colab": {
     "base_uri": "https://localhost:8080/"
    },
    "id": "y076afuaGjAy",
    "outputId": "f1e13392-0d6c-4075-e452-c9451902209e"
   },
   "outputs": [
    {
     "name": "stdout",
     "output_type": "stream",
     "text": [
      "Index(['floor', 'osm_city_nearest_population', 'reform_house_population_1000',\n",
      "       'reform_house_population_500', 'reform_mean_floor_count_1000',\n",
      "       'reform_mean_floor_count_500', 'reform_mean_year_building_1000',\n",
      "       'reform_mean_year_building_500'],\n",
      "      dtype='object')\n"
     ]
    }
   ],
   "source": [
    "columns_with_propusks = train.columns[train.isna().any()]\n",
    "\n",
    "columns_with_propusks = columns_with_propusks.drop(['street'])\n",
    "\n",
    "print(columns_with_propusks)"
   ]
  },
  {
   "cell_type": "code",
   "execution_count": 6,
   "metadata": {
    "id": "zjazzq2iHtjp"
   },
   "outputs": [],
   "source": [
    "def missing_percentage(col):\n",
    "  print(\"missing percentage in\", col, ':', (train[col].isna().sum() / train[col].size) * 100, '\\n')\n",
    "\n",
    "def missing_info(col):\n",
    "  plt.rcParams[\"figure.figsize\"] = (4, 3)\n",
    "  plt.hist(train[col])\n",
    "  plt.title(col) \n",
    "  plt.show()\n",
    "  missing_percentage(col)"
   ]
  },
  {
   "cell_type": "code",
   "execution_count": 7,
   "metadata": {
    "colab": {
     "base_uri": "https://localhost:8080/",
     "height": 1000
    },
    "id": "CrmAdkTKJWST",
    "outputId": "93c3fbb2-0117-4162-f8df-2c6834bf5e8c"
   },
   "outputs": [
    {
     "data": {
      "image/png": "[encoded data removed]",
      "text/plain": [
       "<Figure size 400x300 with 1 Axes>"
      ]
     },
     "metadata": {},
     "output_type": "display_data"
    },
    {
     "name": "stdout",
     "output_type": "stream",
     "text": [
      "missing percentage in floor : 63.09026802406114 \n",
      "\n"
     ]
    },
    {
     "data": {
      "image/png": "[encoded data removed]",
      "text/plain": [
       "<Figure size 400x300 with 1 Axes>"
      ]
     },
     "metadata": {},
     "output_type": "display_data"
    },
    {
     "name": "stdout",
     "output_type": "stream",
     "text": [
      "missing percentage in osm_city_nearest_population : 0.016951286844832762 \n",
      "\n"
     ]
    },
    {
     "data": {
      "image/png": "[encoded data removed]",
      "text/plain": [
       "<Figure size 400x300 with 1 Axes>"
      ]
     },
     "metadata": {},
     "output_type": "display_data"
    },
    {
     "name": "stdout",
     "output_type": "stream",
     "text": [
      "missing percentage in reform_house_population_1000 : 5.295097687844475 \n",
      "\n"
     ]
    },
    {
     "data": {
      "image/png": "[encoded data removed]",
      "text/plain": [
       "<Figure size 400x300 with 1 Axes>"
      ]
     },
     "metadata": {},
     "output_type": "display_data"
    },
    {
     "name": "stdout",
     "output_type": "stream",
     "text": [
      "missing percentage in reform_house_population_500 : 9.847729011885274 \n",
      "\n"
     ]
    },
    {
     "data": {
      "image/png": "[encoded data removed]",
      "text/plain": [
       "<Figure size 400x300 with 1 Axes>"
      ]
     },
     "metadata": {},
     "output_type": "display_data"
    },
    {
     "name": "stdout",
     "output_type": "stream",
     "text": [
      "missing percentage in reform_mean_floor_count_1000 : 6.060327208268354 \n",
      "\n"
     ]
    },
    {
     "data": {
      "image/png": "[encoded data removed]",
      "text/plain": [
       "<Figure size 400x300 with 1 Axes>"
      ]
     },
     "metadata": {},
     "output_type": "display_data"
    },
    {
     "name": "stdout",
     "output_type": "stream",
     "text": [
      "missing percentage in reform_mean_floor_count_500 : 10.915660083109739 \n",
      "\n"
     ]
    },
    {
     "data": {
      "image/png": "[encoded data removed]",
      "text/plain": [
       "<Figure size 400x300 with 1 Axes>"
      ]
     },
     "metadata": {},
     "output_type": "display_data"
    },
    {
     "name": "stdout",
     "output_type": "stream",
     "text": [
      "missing percentage in reform_mean_year_building_1000 : 5.890814339820026 \n",
      "\n"
     ]
    },
    {
     "data": {
      "image/png": "[encoded data removed]",
      "text/plain": [
       "<Figure size 400x300 with 1 Axes>"
      ]
     },
     "metadata": {},
     "output_type": "display_data"
    },
    {
     "name": "stdout",
     "output_type": "stream",
     "text": [
      "missing percentage in reform_mean_year_building_500 : 10.71999380067224 \n",
      "\n"
     ]
    }
   ],
   "source": [
    "for col in columns_with_propusks:\n",
    "  missing_info(col)"
   ]
  },
  {
   "cell_type": "markdown",
   "metadata": {
    "id": "xyb2qhusTyMc"
   },
   "source": [
    "### 2) Нечисленные значения"
   ]
  },
  {
   "cell_type": "code",
   "execution_count": 8,
   "metadata": {
    "colab": {
     "base_uri": "https://localhost:8080/",
     "height": 206
    },
    "id": "dlaio1eHTxTp",
    "outputId": "c823af14-ae28-41d6-988f-92e677e9fa13"
   },
   "outputs": [
    {
     "data": {
      "text/html": [
       "<div>\n",
       "<style scoped>\n",
       "    .dataframe tbody tr th:only-of-type {\n",
       "        vertical-align: middle;\n",
       "    }\n",
       "\n",
       "    .dataframe tbody tr th {\n",
       "        vertical-align: top;\n",
       "    }\n",
       "\n",
       "    .dataframe thead th {\n",
       "        text-align: right;\n",
       "    }\n",
       "</style>\n",
       "<table border=\"1\" class=\"dataframe\">\n",
       "  <thead>\n",
       "    <tr style=\"text-align: right;\">\n",
       "      <th></th>\n",
       "      <th>city</th>\n",
       "      <th>id</th>\n",
       "      <th>osm_city_nearest_name</th>\n",
       "      <th>region</th>\n",
       "      <th>street</th>\n",
       "      <th>date</th>\n",
       "    </tr>\n",
       "  </thead>\n",
       "  <tbody>\n",
       "    <tr>\n",
       "      <th>0</th>\n",
       "      <td>Ставрополь</td>\n",
       "      <td>COL_65683</td>\n",
       "      <td>Ставрополь</td>\n",
       "      <td>Ставропольский край</td>\n",
       "      <td>S1842</td>\n",
       "      <td>2020-02-23</td>\n",
       "    </tr>\n",
       "    <tr>\n",
       "      <th>1</th>\n",
       "      <td>Омск</td>\n",
       "      <td>COL_159011</td>\n",
       "      <td>Омск</td>\n",
       "      <td>Омская область</td>\n",
       "      <td>S14290</td>\n",
       "      <td>2020-05-24</td>\n",
       "    </tr>\n",
       "    <tr>\n",
       "      <th>2</th>\n",
       "      <td>Белгород</td>\n",
       "      <td>COL_205850</td>\n",
       "      <td>Белгород</td>\n",
       "      <td>Белгородская область</td>\n",
       "      <td>S25733</td>\n",
       "      <td>2020-06-28</td>\n",
       "    </tr>\n",
       "    <tr>\n",
       "      <th>3</th>\n",
       "      <td>Большой Исток</td>\n",
       "      <td>COL_229491</td>\n",
       "      <td>Екатеринбург</td>\n",
       "      <td>Свердловская область</td>\n",
       "      <td>S6985</td>\n",
       "      <td>2020-07-19</td>\n",
       "    </tr>\n",
       "    <tr>\n",
       "      <th>4</th>\n",
       "      <td>Новосибирск</td>\n",
       "      <td>COL_77283</td>\n",
       "      <td>Новосибирск</td>\n",
       "      <td>Новосибирская область</td>\n",
       "      <td>S4778</td>\n",
       "      <td>2020-03-01</td>\n",
       "    </tr>\n",
       "  </tbody>\n",
       "</table>\n",
       "</div>"
      ],
      "text/plain": [
       "            city          id osm_city_nearest_name                 region  \\\n",
       "0     Ставрополь   COL_65683            Ставрополь    Ставропольский край   \n",
       "1           Омск  COL_159011                  Омск         Омская область   \n",
       "2       Белгород  COL_205850              Белгород   Белгородская область   \n",
       "3  Большой Исток  COL_229491          Екатеринбург   Свердловская область   \n",
       "4    Новосибирск   COL_77283           Новосибирск  Новосибирская область   \n",
       "\n",
       "   street        date  \n",
       "0   S1842  2020-02-23  \n",
       "1  S14290  2020-05-24  \n",
       "2  S25733  2020-06-28  \n",
       "3   S6985  2020-07-19  \n",
       "4   S4778  2020-03-01  "
      ]
     },
     "execution_count": 8,
     "metadata": {},
     "output_type": "execute_result"
    }
   ],
   "source": [
    "train.select_dtypes(exclude=[np.number])[:5]"
   ]
  },
  {
   "cell_type": "markdown",
   "metadata": {
    "id": "FlFoqehOOgsp"
   },
   "source": [
    "### 3) Целевое значение"
   ]
  },
  {
   "cell_type": "code",
   "execution_count": 9,
   "metadata": {
    "colab": {
     "base_uri": "https://localhost:8080/",
     "height": 228
    },
    "id": "iaei64p_OkDj",
    "outputId": "bce80936-69ad-4db5-c67f-7f9d50dfd2b9"
   },
   "outputs": [
    {
     "data": {
      "text/plain": [
       "<AxesSubplot:>"
      ]
     },
     "execution_count": 9,
     "metadata": {},
     "output_type": "execute_result"
    },
    {
     "data": {
      "image/png": "[encoded data removed]",
      "text/plain": [
       "<Figure size 400x300 with 1 Axes>"
      ]
     },
     "metadata": {},
     "output_type": "display_data"
    }
   ],
   "source": [
    "train.per_square_meter_price.apply(np.log).hist(bins=40)"
   ]
  },
  {
   "cell_type": "code",
   "execution_count": 10,
   "metadata": {
    "colab": {
     "base_uri": "https://localhost:8080/",
     "height": 285
    },
    "id": "PYWl9LFNPS0H",
    "outputId": "29c4478c-6f74-4c59-88ff-a64961ac8720"
   },
   "outputs": [
    {
     "data": {
      "image/png": "[encoded data removed]",
      "text/plain": [
       "<Figure size 1500x500 with 1 Axes>"
      ]
     },
     "metadata": {},
     "output_type": "display_data"
    }
   ],
   "source": [
    "# чтобы приблизить распределение к нормальному, избавимся от выбросов и отцентруем график\n",
    "def remove_outlier(df_in, col_name):\n",
    "  q1 = df_in[col_name].quantile(0.03)\n",
    "  q3 = df_in[col_name].quantile(0.99)\n",
    "  df_out = df_in.loc[(df_in[col_name] < q3) & (df_in[col_name] > q1)]\n",
    "  return df_out\n",
    "\n",
    "def transform_target(df_in):\n",
    "  df = df_in.copy()\n",
    "  df = remove_outlier(df, target_col)\n",
    "  df[target_col] = df[target_col].apply(lambda x: x - 11)\n",
    "  # plt.boxplot(df[target_col], vert=False)\n",
    "  plt.rcParams[\"figure.figsize\"] = (15, 5)\n",
    "  plt.hist(df[target_col], 40)\n",
    "  plt.show()\n",
    "  return df\n",
    "\n",
    "train_tmp = train.copy()\n",
    "train_tmp[target_col] = train_tmp[target_col].apply(np.log)\n",
    "train_tmp = transform_target(train_tmp)"
   ]
  },
  {
   "cell_type": "markdown",
   "metadata": {
    "id": "Wpq-bs8VMzEh"
   },
   "source": [
    "### Итоговая функция трансформации датасета"
   ]
  },
  {
   "cell_type": "code",
   "execution_count": 11,
   "metadata": {
    "colab": {
     "base_uri": "https://localhost:8080/"
    },
    "id": "fnSN673rP17E",
    "outputId": "4b5fdc25-b188-497a-f90f-2bb382aa3dc1"
   },
   "outputs": [
    {
     "name": "stdout",
     "output_type": "stream",
     "text": [
      "Москва             41921\n",
      "Санкт-Петербург    13947\n",
      "Краснодар           9703\n",
      "Екатеринбург        6258\n",
      "Новосибирск         4924\n",
      "Name: city, dtype: int64 \n",
      "\n",
      "Москва             27645\n",
      "Санкт-Петербург    13952\n",
      "Краснодар          10921\n",
      "Екатеринбург        6956\n",
      "Челябинск           5260\n",
      "Name: osm_city_nearest_name, dtype: int64\n"
     ]
    }
   ],
   "source": [
    "# топ-4 самых часто встречаемых значений признака\n",
    "def get_top_5(col, df):\n",
    "  return list(train[col].value_counts().keys()[:5])\n",
    "\n",
    "# создает dummy колонки для категориального признака\n",
    "def top_dummies(col, df):\n",
    "  top = get_top_5(col, df)\n",
    "  for x in top:\n",
    "    df[x] = df.apply(lambda row: 1 if row[col] == x else 0, axis=1)\n",
    "\n",
    "print(train.city.value_counts()[:5], '\\n')\n",
    "print(train.osm_city_nearest_name.value_counts()[:5])"
   ]
  },
  {
   "cell_type": "code",
   "execution_count": 12,
   "metadata": {
    "id": "yKsBECkzM1Ks"
   },
   "outputs": [],
   "source": [
    "def transform_df(df_old):\n",
    "  df = df_old.copy()\n",
    "\n",
    "  # обе колонки reform_house_population восстановим медианой, остальные признаки с пропусками удалим\n",
    "  df.drop(columns=columns_with_propusks.drop(['reform_house_population_1000', 'reform_house_population_500']), inplace=True)\n",
    "  for col in ['reform_house_population_1000', 'reform_house_population_500']:\n",
    "    df[col].fillna(df[col].median(), inplace=True)\n",
    "\n",
    "  # нечисленные признаки\n",
    "  for col in ['city', 'osm_city_nearest_name', 'region']:\n",
    "    top_dummies(col, df)\n",
    "\n",
    "  # вместо колонки date зададим 3 категориальных признака\n",
    "  df = df.assign(\n",
    "    date_winter=(df.date < '2020-03-01') * 1,\n",
    "    data_spring=((df.date >= '2020-03-01') & (df.date < '2020-06-01')) * 1,\n",
    "    data_summer=(df.date >= '2020-06-01') * 1\n",
    "  ) \n",
    "\n",
    "  df.drop(columns=['id', \n",
    "                   'street', \n",
    "                   'city', \n",
    "                   'osm_city_nearest_name', \n",
    "                   'region', \n",
    "                   'street', \n",
    "                   'date',\n",
    "                   'lat',\n",
    "                   'lng'], inplace=True)\n",
    "\n",
    "  # логарифмирование\n",
    "  filter = ((df != 0) & (df != 1)).any()\n",
    "  non_boolean_columns = df.loc[: , filter]\n",
    "  for col in non_boolean_columns:\n",
    "    df[col] = df.apply(lambda row: np.log(row[col]) if row[col] != 0 else 0, axis=1) \n",
    "\n",
    "  return df"
   ]
  },
  {
   "cell_type": "code",
   "execution_count": null,
   "metadata": {
    "colab": {
     "base_uri": "https://localhost:8080/",
     "height": 585
    },
    "id": "BrbdD553XN52",
    "outputId": "e37db6b4-345a-4c4d-a230-716824b33a0b"
   },
   "outputs": [],
   "source": [
    "train_transformed = transform_df(train)\n",
    "\n",
    "train_transformed = transform_target(train_transformed)\n",
    "\n",
    "# test_transformed = transform_df(test)\n",
    "train_transformed.head()"
   ]
  },
  {
   "cell_type": "code",
   "execution_count": null,
   "metadata": {
    "colab": {
     "base_uri": "https://localhost:8080/"
    },
    "id": "be8T26kFXnmP",
    "outputId": "dbff2259-8327-4eba-bac5-29c05eb0e40b"
   },
   "outputs": [],
   "source": [
    "train_transformed.isna().sum().sum()"
   ]
  },
  {
   "cell_type": "markdown",
   "metadata": {
    "id": "4EMcW-HnK8VU"
   },
   "source": [
    "# Предсказание"
   ]
  },
  {
   "cell_type": "code",
   "execution_count": null,
   "metadata": {
    "id": "arj8JTh-LEjo"
   },
   "outputs": [],
   "source": [
    "from sklearn.linear_model import LinearRegression\n",
    "from sklearn.neighbors import KNeighborsRegressor\n",
    "from sklearn.model_selection import train_test_split\n",
    "from sklearn.metrics import mean_absolute_percentage_error"
   ]
  },
  {
   "cell_type": "code",
   "execution_count": null,
   "metadata": {
    "id": "CGp2nh7SK93f"
   },
   "outputs": [],
   "source": [
    "train_, test_ = train_test_split(train_transformed, test_size=0.2)\n",
    "\n",
    "train_x, train_y = train_.drop(target_col, axis=1), train_[target_col]\n",
    "test_x, test_y = test_.drop(target_col, axis=1), test_[target_col]"
   ]
  },
  {
   "cell_type": "code",
   "execution_count": null,
   "metadata": {
    "colab": {
     "base_uri": "https://localhost:8080/"
    },
    "id": "npdUnn9jLUQG",
    "outputId": "abab9b19-85f0-4f3c-be96-eafb4dba8e62"
   },
   "outputs": [],
   "source": [
    "model = LinearRegression()\n",
    "model.fit(train_x, train_y)\n",
    "\n",
    "pred = model.predict(test_x)\n",
    "mean_absolute_percentage_error(np.exp(test_y + 11), np.exp(pred + 11))"
   ]
  },
  {
   "cell_type": "code",
   "execution_count": null,
   "metadata": {
    "colab": {
     "base_uri": "https://localhost:8080/",
     "height": 285
    },
    "id": "GInY2YaCW6CH",
    "outputId": "65ec476e-f978-4b42-fa97-798f8c3461e1"
   },
   "outputs": [],
   "source": [
    "plt.hist(np.exp(test_y + 11))\n",
    "plt.hist(np.exp(pred + 11))\n",
    "plt.show()"
   ]
  },
  {
   "cell_type": "code",
   "execution_count": null,
   "metadata": {
    "id": "0GmwmZJELYPg"
   },
   "outputs": [],
   "source": [
    "# predicted = model.predict(test_x)\n",
    "# median = np.median(predicted)\n",
    "# quantile25 = np.quantile(predicted, 0.0)\n",
    "# quantile75 = np.quantile(predicted, 0.9)\n",
    "# predicted[predicted < quantile25] = (predicted[predicted < quantile25] + median)/2\n",
    "# predicted[predicted > quantile75] = (predicted[predicted > quantile75] + median)/2\n",
    "# print(mean_absolute_percentage_error(test_y, predicted))\n",
    "# plt.hist(test_y, 50)\n",
    "# plt.hist(predicted, 50)\n",
    "# plt.show()"
   ]
  },
  {
   "cell_type": "code",
   "execution_count": null,
   "metadata": {
    "colab": {
     "base_uri": "https://localhost:8080/",
     "height": 287
    },
    "id": "SoauKxfa5-Eg",
    "outputId": "f023f2c4-4e56-4c08-ee9d-ec39551c04a6"
   },
   "outputs": [],
   "source": [
    "plt.hist(test_y, 70)\n",
    "plt.hist(pred, 70)\n",
    "plt.show()"
   ]
  },
  {
   "cell_type": "markdown",
   "metadata": {
    "id": "Ksus71p2dXOP"
   },
   "source": [
    "### Для test"
   ]
  },
  {
   "cell_type": "code",
   "execution_count": null,
   "metadata": {
    "id": "6oRQkuRBdZJp"
   },
   "outputs": [],
   "source": [
    "# reg = model\n",
    "# final_pred = reg.predict(test_transformed)\n",
    "\n",
    "# result = pd.DataFrame({'id': test_transformed.index, 'per_square_meter_price': final_pred})\n",
    "# result.set_index('id', inplace = True)"
   ]
  },
  {
   "cell_type": "code",
   "execution_count": null,
   "metadata": {
    "colab": {
     "base_uri": "https://localhost:8080/"
    },
    "id": "qjNHfnbMdkGl",
    "outputId": "1a631b98-0807-4919-fa70-60fd1a51a4e2"
   },
   "outputs": [],
   "source": [
    "# import os \n",
    "# dir = 'submission'\n",
    "# os.makedirs(dir, exist_ok=True)  \n",
    "# print(len(result))\n",
    "# result.to_csv(dir + '/submission' + \".csv\") "
   ]
  }
 ],
 "metadata": {
  "colab": {
   "provenance": []
  },
  "kernelspec": {
   "display_name": "Python 3 (ipykernel)",
   "language": "python",
   "name": "python3"
  },
  "language_info": {
   "codemirror_mode": {
    "name": "ipython",
    "version": 3
   },
   "file_extension": ".py",
   "mimetype": "text/x-python",
   "name": "python",
   "nbconvert_exporter": "python",
   "pygments_lexer": "ipython3",
   "version": "3.9.15"
  }
 },
 "nbformat": 4,
 "nbformat_minor": 1
}

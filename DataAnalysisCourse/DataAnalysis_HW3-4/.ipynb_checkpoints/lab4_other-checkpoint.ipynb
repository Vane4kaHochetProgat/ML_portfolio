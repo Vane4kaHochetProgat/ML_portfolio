{
 "cells": [
  {
   "cell_type": "code",
   "execution_count": 1,
   "metadata": {
    "pycharm": {
     "is_executing": true
    }
   },
   "outputs": [],
   "source": [
    "import numpy as np\n",
    "import pandas as pd\n",
    "\n",
    "# Visualization\n",
    "import matplotlib.pyplot as plt\n",
    "# Models\n",
    "from sklearn.linear_model import LinearRegression\n",
    "\n",
    "from sklearn.metrics import mean_squared_error, mean_absolute_percentage_error"
   ]
  },
  {
   "cell_type": "code",
   "execution_count": 2,
   "metadata": {
    "pycharm": {
     "is_executing": true,
     "name": "#%%\n"
    }
   },
   "outputs": [],
   "source": [
    "df_train = pd.read_csv('./andan-2022-autumn-lab-4/train.csv')"
   ]
  },
  {
   "cell_type": "code",
   "execution_count": 3,
   "metadata": {
    "pycharm": {
     "is_executing": true
    }
   },
   "outputs": [],
   "source": [
    "def print_missing_values(df):\n",
    "    missing_values_df = pd.DataFrame(columns=['dtype','Feature', 'Number Of Missing Values', 'Percentage of Missing values'])\n",
    "\n",
    "    for i in df:\n",
    "        if df[i].isnull().sum() != 0:\n",
    "            dtype = df[i].dtype\n",
    "            feature                      = i\n",
    "            number_of_missing_values     = df[i].isnull().sum()\n",
    "            percentage_of_missing_values = round(number_of_missing_values / len(df.index) * 100, 2)\n",
    "            missing_values_df = missing_values_df.append({\n",
    "                                      'dtype': dtype,\n",
    "                                      'Feature': i,\n",
    "                                      'Number Of Missing Values': number_of_missing_values,\n",
    "                                      'Percentage of Missing values': percentage_of_missing_values\n",
    "            }, ignore_index=True)\n",
    "\n",
    "    return missing_values_df"
   ]
  },
  {
   "cell_type": "code",
   "execution_count": 4,
   "metadata": {
    "pycharm": {
     "is_executing": true
    }
   },
   "outputs": [
    {
     "name": "stderr",
     "output_type": "stream",
     "text": [
      "/tmp/ipykernel_33939/1675637875.py:10: FutureWarning: The frame.append method is deprecated and will be removed from pandas in a future version. Use pandas.concat instead.\n",
      "  missing_values_df = missing_values_df.append({\n",
      "/tmp/ipykernel_33939/1675637875.py:10: FutureWarning: The frame.append method is deprecated and will be removed from pandas in a future version. Use pandas.concat instead.\n",
      "  missing_values_df = missing_values_df.append({\n",
      "/tmp/ipykernel_33939/1675637875.py:10: FutureWarning: The frame.append method is deprecated and will be removed from pandas in a future version. Use pandas.concat instead.\n",
      "  missing_values_df = missing_values_df.append({\n",
      "/tmp/ipykernel_33939/1675637875.py:10: FutureWarning: The frame.append method is deprecated and will be removed from pandas in a future version. Use pandas.concat instead.\n",
      "  missing_values_df = missing_values_df.append({\n",
      "/tmp/ipykernel_33939/1675637875.py:10: FutureWarning: The frame.append method is deprecated and will be removed from pandas in a future version. Use pandas.concat instead.\n",
      "  missing_values_df = missing_values_df.append({\n",
      "/tmp/ipykernel_33939/1675637875.py:10: FutureWarning: The frame.append method is deprecated and will be removed from pandas in a future version. Use pandas.concat instead.\n",
      "  missing_values_df = missing_values_df.append({\n",
      "/tmp/ipykernel_33939/1675637875.py:10: FutureWarning: The frame.append method is deprecated and will be removed from pandas in a future version. Use pandas.concat instead.\n",
      "  missing_values_df = missing_values_df.append({\n",
      "/tmp/ipykernel_33939/1675637875.py:10: FutureWarning: The frame.append method is deprecated and will be removed from pandas in a future version. Use pandas.concat instead.\n",
      "  missing_values_df = missing_values_df.append({\n",
      "/tmp/ipykernel_33939/1675637875.py:10: FutureWarning: The frame.append method is deprecated and will be removed from pandas in a future version. Use pandas.concat instead.\n",
      "  missing_values_df = missing_values_df.append({\n"
     ]
    },
    {
     "data": {
      "text/html": [
       "<div>\n",
       "<style scoped>\n",
       "    .dataframe tbody tr th:only-of-type {\n",
       "        vertical-align: middle;\n",
       "    }\n",
       "\n",
       "    .dataframe tbody tr th {\n",
       "        vertical-align: top;\n",
       "    }\n",
       "\n",
       "    .dataframe thead th {\n",
       "        text-align: right;\n",
       "    }\n",
       "</style>\n",
       "<table border=\"1\" class=\"dataframe\">\n",
       "  <thead>\n",
       "    <tr style=\"text-align: right;\">\n",
       "      <th></th>\n",
       "      <th>dtype</th>\n",
       "      <th>Feature</th>\n",
       "      <th>Number Of Missing Values</th>\n",
       "      <th>Percentage of Missing values</th>\n",
       "    </tr>\n",
       "  </thead>\n",
       "  <tbody>\n",
       "    <tr>\n",
       "      <th>0</th>\n",
       "      <td>float64</td>\n",
       "      <td>floor</td>\n",
       "      <td>130265</td>\n",
       "      <td>63.09</td>\n",
       "    </tr>\n",
       "    <tr>\n",
       "      <th>1</th>\n",
       "      <td>float64</td>\n",
       "      <td>osm_city_nearest_population</td>\n",
       "      <td>35</td>\n",
       "      <td>0.02</td>\n",
       "    </tr>\n",
       "    <tr>\n",
       "      <th>2</th>\n",
       "      <td>float64</td>\n",
       "      <td>reform_house_population_1000</td>\n",
       "      <td>10933</td>\n",
       "      <td>5.30</td>\n",
       "    </tr>\n",
       "    <tr>\n",
       "      <th>3</th>\n",
       "      <td>float64</td>\n",
       "      <td>reform_house_population_500</td>\n",
       "      <td>20333</td>\n",
       "      <td>9.85</td>\n",
       "    </tr>\n",
       "    <tr>\n",
       "      <th>4</th>\n",
       "      <td>float64</td>\n",
       "      <td>reform_mean_floor_count_1000</td>\n",
       "      <td>12513</td>\n",
       "      <td>6.06</td>\n",
       "    </tr>\n",
       "    <tr>\n",
       "      <th>5</th>\n",
       "      <td>float64</td>\n",
       "      <td>reform_mean_floor_count_500</td>\n",
       "      <td>22538</td>\n",
       "      <td>10.92</td>\n",
       "    </tr>\n",
       "    <tr>\n",
       "      <th>6</th>\n",
       "      <td>float64</td>\n",
       "      <td>reform_mean_year_building_1000</td>\n",
       "      <td>12163</td>\n",
       "      <td>5.89</td>\n",
       "    </tr>\n",
       "    <tr>\n",
       "      <th>7</th>\n",
       "      <td>float64</td>\n",
       "      <td>reform_mean_year_building_500</td>\n",
       "      <td>22134</td>\n",
       "      <td>10.72</td>\n",
       "    </tr>\n",
       "    <tr>\n",
       "      <th>8</th>\n",
       "      <td>object</td>\n",
       "      <td>street</td>\n",
       "      <td>1203</td>\n",
       "      <td>0.58</td>\n",
       "    </tr>\n",
       "  </tbody>\n",
       "</table>\n",
       "</div>"
      ],
      "text/plain": [
       "     dtype                         Feature Number Of Missing Values  \\\n",
       "0  float64                           floor                   130265   \n",
       "1  float64     osm_city_nearest_population                       35   \n",
       "2  float64    reform_house_population_1000                    10933   \n",
       "3  float64     reform_house_population_500                    20333   \n",
       "4  float64    reform_mean_floor_count_1000                    12513   \n",
       "5  float64     reform_mean_floor_count_500                    22538   \n",
       "6  float64  reform_mean_year_building_1000                    12163   \n",
       "7  float64   reform_mean_year_building_500                    22134   \n",
       "8   object                          street                     1203   \n",
       "\n",
       "   Percentage of Missing values  \n",
       "0                         63.09  \n",
       "1                          0.02  \n",
       "2                          5.30  \n",
       "3                          9.85  \n",
       "4                          6.06  \n",
       "5                         10.92  \n",
       "6                          5.89  \n",
       "7                         10.72  \n",
       "8                          0.58  "
      ]
     },
     "execution_count": 4,
     "metadata": {},
     "output_type": "execute_result"
    }
   ],
   "source": [
    "print_missing_values(df_train)"
   ]
  },
  {
   "cell_type": "code",
   "execution_count": 5,
   "metadata": {
    "pycharm": {
     "is_executing": true
    }
   },
   "outputs": [],
   "source": [
    "def print_unique_values(df):\n",
    "    unique_values_df = pd.DataFrame(columns=['Feature', 'Number of values', 'Values'])\n",
    "\n",
    "    for col in df:\n",
    "        unique_values_df = unique_values_df.append({\n",
    "                                      'Feature': col,\n",
    "                                      'Number of values': df[col].unique().shape[0],\n",
    "                                      'Values': df[col].unique()\n",
    "            }, ignore_index=True)\n",
    "    \n",
    "    pd.set_option('display.max_rows', len(unique_values_df))\n",
    "    return unique_values_df"
   ]
  },
  {
   "cell_type": "code",
   "execution_count": 6,
   "metadata": {
    "pycharm": {
     "is_executing": true
    },
    "scrolled": false
   },
   "outputs": [
    {
     "name": "stderr",
     "output_type": "stream",
     "text": [
      "/tmp/ipykernel_33939/2148433844.py:5: FutureWarning: The frame.append method is deprecated and will be removed from pandas in a future version. Use pandas.concat instead.\n",
      "  unique_values_df = unique_values_df.append({\n",
      "/tmp/ipykernel_33939/2148433844.py:5: FutureWarning: The frame.append method is deprecated and will be removed from pandas in a future version. Use pandas.concat instead.\n",
      "  unique_values_df = unique_values_df.append({\n",
      "/tmp/ipykernel_33939/2148433844.py:5: FutureWarning: The frame.append method is deprecated and will be removed from pandas in a future version. Use pandas.concat instead.\n",
      "  unique_values_df = unique_values_df.append({\n",
      "/tmp/ipykernel_33939/2148433844.py:5: FutureWarning: The frame.append method is deprecated and will be removed from pandas in a future version. Use pandas.concat instead.\n",
      "  unique_values_df = unique_values_df.append({\n",
      "/tmp/ipykernel_33939/2148433844.py:5: FutureWarning: The frame.append method is deprecated and will be removed from pandas in a future version. Use pandas.concat instead.\n",
      "  unique_values_df = unique_values_df.append({\n",
      "/tmp/ipykernel_33939/2148433844.py:5: FutureWarning: The frame.append method is deprecated and will be removed from pandas in a future version. Use pandas.concat instead.\n",
      "  unique_values_df = unique_values_df.append({\n",
      "/tmp/ipykernel_33939/2148433844.py:5: FutureWarning: The frame.append method is deprecated and will be removed from pandas in a future version. Use pandas.concat instead.\n",
      "  unique_values_df = unique_values_df.append({\n",
      "/tmp/ipykernel_33939/2148433844.py:5: FutureWarning: The frame.append method is deprecated and will be removed from pandas in a future version. Use pandas.concat instead.\n",
      "  unique_values_df = unique_values_df.append({\n",
      "/tmp/ipykernel_33939/2148433844.py:5: FutureWarning: The frame.append method is deprecated and will be removed from pandas in a future version. Use pandas.concat instead.\n",
      "  unique_values_df = unique_values_df.append({\n",
      "/tmp/ipykernel_33939/2148433844.py:5: FutureWarning: The frame.append method is deprecated and will be removed from pandas in a future version. Use pandas.concat instead.\n",
      "  unique_values_df = unique_values_df.append({\n",
      "/tmp/ipykernel_33939/2148433844.py:5: FutureWarning: The frame.append method is deprecated and will be removed from pandas in a future version. Use pandas.concat instead.\n",
      "  unique_values_df = unique_values_df.append({\n",
      "/tmp/ipykernel_33939/2148433844.py:5: FutureWarning: The frame.append method is deprecated and will be removed from pandas in a future version. Use pandas.concat instead.\n",
      "  unique_values_df = unique_values_df.append({\n",
      "/tmp/ipykernel_33939/2148433844.py:5: FutureWarning: The frame.append method is deprecated and will be removed from pandas in a future version. Use pandas.concat instead.\n",
      "  unique_values_df = unique_values_df.append({\n",
      "/tmp/ipykernel_33939/2148433844.py:5: FutureWarning: The frame.append method is deprecated and will be removed from pandas in a future version. Use pandas.concat instead.\n",
      "  unique_values_df = unique_values_df.append({\n",
      "/tmp/ipykernel_33939/2148433844.py:5: FutureWarning: The frame.append method is deprecated and will be removed from pandas in a future version. Use pandas.concat instead.\n",
      "  unique_values_df = unique_values_df.append({\n",
      "/tmp/ipykernel_33939/2148433844.py:5: FutureWarning: The frame.append method is deprecated and will be removed from pandas in a future version. Use pandas.concat instead.\n",
      "  unique_values_df = unique_values_df.append({\n",
      "/tmp/ipykernel_33939/2148433844.py:5: FutureWarning: The frame.append method is deprecated and will be removed from pandas in a future version. Use pandas.concat instead.\n",
      "  unique_values_df = unique_values_df.append({\n",
      "/tmp/ipykernel_33939/2148433844.py:5: FutureWarning: The frame.append method is deprecated and will be removed from pandas in a future version. Use pandas.concat instead.\n",
      "  unique_values_df = unique_values_df.append({\n",
      "/tmp/ipykernel_33939/2148433844.py:5: FutureWarning: The frame.append method is deprecated and will be removed from pandas in a future version. Use pandas.concat instead.\n",
      "  unique_values_df = unique_values_df.append({\n",
      "/tmp/ipykernel_33939/2148433844.py:5: FutureWarning: The frame.append method is deprecated and will be removed from pandas in a future version. Use pandas.concat instead.\n",
      "  unique_values_df = unique_values_df.append({\n",
      "/tmp/ipykernel_33939/2148433844.py:5: FutureWarning: The frame.append method is deprecated and will be removed from pandas in a future version. Use pandas.concat instead.\n",
      "  unique_values_df = unique_values_df.append({\n",
      "/tmp/ipykernel_33939/2148433844.py:5: FutureWarning: The frame.append method is deprecated and will be removed from pandas in a future version. Use pandas.concat instead.\n",
      "  unique_values_df = unique_values_df.append({\n",
      "/tmp/ipykernel_33939/2148433844.py:5: FutureWarning: The frame.append method is deprecated and will be removed from pandas in a future version. Use pandas.concat instead.\n",
      "  unique_values_df = unique_values_df.append({\n",
      "/tmp/ipykernel_33939/2148433844.py:5: FutureWarning: The frame.append method is deprecated and will be removed from pandas in a future version. Use pandas.concat instead.\n",
      "  unique_values_df = unique_values_df.append({\n",
      "/tmp/ipykernel_33939/2148433844.py:5: FutureWarning: The frame.append method is deprecated and will be removed from pandas in a future version. Use pandas.concat instead.\n",
      "  unique_values_df = unique_values_df.append({\n",
      "/tmp/ipykernel_33939/2148433844.py:5: FutureWarning: The frame.append method is deprecated and will be removed from pandas in a future version. Use pandas.concat instead.\n",
      "  unique_values_df = unique_values_df.append({\n",
      "/tmp/ipykernel_33939/2148433844.py:5: FutureWarning: The frame.append method is deprecated and will be removed from pandas in a future version. Use pandas.concat instead.\n",
      "  unique_values_df = unique_values_df.append({\n",
      "/tmp/ipykernel_33939/2148433844.py:5: FutureWarning: The frame.append method is deprecated and will be removed from pandas in a future version. Use pandas.concat instead.\n",
      "  unique_values_df = unique_values_df.append({\n",
      "/tmp/ipykernel_33939/2148433844.py:5: FutureWarning: The frame.append method is deprecated and will be removed from pandas in a future version. Use pandas.concat instead.\n",
      "  unique_values_df = unique_values_df.append({\n",
      "/tmp/ipykernel_33939/2148433844.py:5: FutureWarning: The frame.append method is deprecated and will be removed from pandas in a future version. Use pandas.concat instead.\n",
      "  unique_values_df = unique_values_df.append({\n",
      "/tmp/ipykernel_33939/2148433844.py:5: FutureWarning: The frame.append method is deprecated and will be removed from pandas in a future version. Use pandas.concat instead.\n",
      "  unique_values_df = unique_values_df.append({\n",
      "/tmp/ipykernel_33939/2148433844.py:5: FutureWarning: The frame.append method is deprecated and will be removed from pandas in a future version. Use pandas.concat instead.\n",
      "  unique_values_df = unique_values_df.append({\n",
      "/tmp/ipykernel_33939/2148433844.py:5: FutureWarning: The frame.append method is deprecated and will be removed from pandas in a future version. Use pandas.concat instead.\n",
      "  unique_values_df = unique_values_df.append({\n",
      "/tmp/ipykernel_33939/2148433844.py:5: FutureWarning: The frame.append method is deprecated and will be removed from pandas in a future version. Use pandas.concat instead.\n",
      "  unique_values_df = unique_values_df.append({\n",
      "/tmp/ipykernel_33939/2148433844.py:5: FutureWarning: The frame.append method is deprecated and will be removed from pandas in a future version. Use pandas.concat instead.\n",
      "  unique_values_df = unique_values_df.append({\n",
      "/tmp/ipykernel_33939/2148433844.py:5: FutureWarning: The frame.append method is deprecated and will be removed from pandas in a future version. Use pandas.concat instead.\n",
      "  unique_values_df = unique_values_df.append({\n",
      "/tmp/ipykernel_33939/2148433844.py:5: FutureWarning: The frame.append method is deprecated and will be removed from pandas in a future version. Use pandas.concat instead.\n",
      "  unique_values_df = unique_values_df.append({\n",
      "/tmp/ipykernel_33939/2148433844.py:5: FutureWarning: The frame.append method is deprecated and will be removed from pandas in a future version. Use pandas.concat instead.\n",
      "  unique_values_df = unique_values_df.append({\n",
      "/tmp/ipykernel_33939/2148433844.py:5: FutureWarning: The frame.append method is deprecated and will be removed from pandas in a future version. Use pandas.concat instead.\n",
      "  unique_values_df = unique_values_df.append({\n",
      "/tmp/ipykernel_33939/2148433844.py:5: FutureWarning: The frame.append method is deprecated and will be removed from pandas in a future version. Use pandas.concat instead.\n",
      "  unique_values_df = unique_values_df.append({\n",
      "/tmp/ipykernel_33939/2148433844.py:5: FutureWarning: The frame.append method is deprecated and will be removed from pandas in a future version. Use pandas.concat instead.\n",
      "  unique_values_df = unique_values_df.append({\n",
      "/tmp/ipykernel_33939/2148433844.py:5: FutureWarning: The frame.append method is deprecated and will be removed from pandas in a future version. Use pandas.concat instead.\n",
      "  unique_values_df = unique_values_df.append({\n",
      "/tmp/ipykernel_33939/2148433844.py:5: FutureWarning: The frame.append method is deprecated and will be removed from pandas in a future version. Use pandas.concat instead.\n",
      "  unique_values_df = unique_values_df.append({\n",
      "/tmp/ipykernel_33939/2148433844.py:5: FutureWarning: The frame.append method is deprecated and will be removed from pandas in a future version. Use pandas.concat instead.\n",
      "  unique_values_df = unique_values_df.append({\n",
      "/tmp/ipykernel_33939/2148433844.py:5: FutureWarning: The frame.append method is deprecated and will be removed from pandas in a future version. Use pandas.concat instead.\n",
      "  unique_values_df = unique_values_df.append({\n"
     ]
    },
    {
     "name": "stderr",
     "output_type": "stream",
     "text": [
      "/tmp/ipykernel_33939/2148433844.py:5: FutureWarning: The frame.append method is deprecated and will be removed from pandas in a future version. Use pandas.concat instead.\n",
      "  unique_values_df = unique_values_df.append({\n",
      "/tmp/ipykernel_33939/2148433844.py:5: FutureWarning: The frame.append method is deprecated and will be removed from pandas in a future version. Use pandas.concat instead.\n",
      "  unique_values_df = unique_values_df.append({\n",
      "/tmp/ipykernel_33939/2148433844.py:5: FutureWarning: The frame.append method is deprecated and will be removed from pandas in a future version. Use pandas.concat instead.\n",
      "  unique_values_df = unique_values_df.append({\n",
      "/tmp/ipykernel_33939/2148433844.py:5: FutureWarning: The frame.append method is deprecated and will be removed from pandas in a future version. Use pandas.concat instead.\n",
      "  unique_values_df = unique_values_df.append({\n",
      "/tmp/ipykernel_33939/2148433844.py:5: FutureWarning: The frame.append method is deprecated and will be removed from pandas in a future version. Use pandas.concat instead.\n",
      "  unique_values_df = unique_values_df.append({\n",
      "/tmp/ipykernel_33939/2148433844.py:5: FutureWarning: The frame.append method is deprecated and will be removed from pandas in a future version. Use pandas.concat instead.\n",
      "  unique_values_df = unique_values_df.append({\n",
      "/tmp/ipykernel_33939/2148433844.py:5: FutureWarning: The frame.append method is deprecated and will be removed from pandas in a future version. Use pandas.concat instead.\n",
      "  unique_values_df = unique_values_df.append({\n",
      "/tmp/ipykernel_33939/2148433844.py:5: FutureWarning: The frame.append method is deprecated and will be removed from pandas in a future version. Use pandas.concat instead.\n",
      "  unique_values_df = unique_values_df.append({\n",
      "/tmp/ipykernel_33939/2148433844.py:5: FutureWarning: The frame.append method is deprecated and will be removed from pandas in a future version. Use pandas.concat instead.\n",
      "  unique_values_df = unique_values_df.append({\n",
      "/tmp/ipykernel_33939/2148433844.py:5: FutureWarning: The frame.append method is deprecated and will be removed from pandas in a future version. Use pandas.concat instead.\n",
      "  unique_values_df = unique_values_df.append({\n",
      "/tmp/ipykernel_33939/2148433844.py:5: FutureWarning: The frame.append method is deprecated and will be removed from pandas in a future version. Use pandas.concat instead.\n",
      "  unique_values_df = unique_values_df.append({\n",
      "/tmp/ipykernel_33939/2148433844.py:5: FutureWarning: The frame.append method is deprecated and will be removed from pandas in a future version. Use pandas.concat instead.\n",
      "  unique_values_df = unique_values_df.append({\n",
      "/tmp/ipykernel_33939/2148433844.py:5: FutureWarning: The frame.append method is deprecated and will be removed from pandas in a future version. Use pandas.concat instead.\n",
      "  unique_values_df = unique_values_df.append({\n",
      "/tmp/ipykernel_33939/2148433844.py:5: FutureWarning: The frame.append method is deprecated and will be removed from pandas in a future version. Use pandas.concat instead.\n",
      "  unique_values_df = unique_values_df.append({\n",
      "/tmp/ipykernel_33939/2148433844.py:5: FutureWarning: The frame.append method is deprecated and will be removed from pandas in a future version. Use pandas.concat instead.\n",
      "  unique_values_df = unique_values_df.append({\n",
      "/tmp/ipykernel_33939/2148433844.py:5: FutureWarning: The frame.append method is deprecated and will be removed from pandas in a future version. Use pandas.concat instead.\n",
      "  unique_values_df = unique_values_df.append({\n",
      "/tmp/ipykernel_33939/2148433844.py:5: FutureWarning: The frame.append method is deprecated and will be removed from pandas in a future version. Use pandas.concat instead.\n",
      "  unique_values_df = unique_values_df.append({\n",
      "/tmp/ipykernel_33939/2148433844.py:5: FutureWarning: The frame.append method is deprecated and will be removed from pandas in a future version. Use pandas.concat instead.\n",
      "  unique_values_df = unique_values_df.append({\n",
      "/tmp/ipykernel_33939/2148433844.py:5: FutureWarning: The frame.append method is deprecated and will be removed from pandas in a future version. Use pandas.concat instead.\n",
      "  unique_values_df = unique_values_df.append({\n",
      "/tmp/ipykernel_33939/2148433844.py:5: FutureWarning: The frame.append method is deprecated and will be removed from pandas in a future version. Use pandas.concat instead.\n",
      "  unique_values_df = unique_values_df.append({\n",
      "/tmp/ipykernel_33939/2148433844.py:5: FutureWarning: The frame.append method is deprecated and will be removed from pandas in a future version. Use pandas.concat instead.\n",
      "  unique_values_df = unique_values_df.append({\n",
      "/tmp/ipykernel_33939/2148433844.py:5: FutureWarning: The frame.append method is deprecated and will be removed from pandas in a future version. Use pandas.concat instead.\n",
      "  unique_values_df = unique_values_df.append({\n",
      "/tmp/ipykernel_33939/2148433844.py:5: FutureWarning: The frame.append method is deprecated and will be removed from pandas in a future version. Use pandas.concat instead.\n",
      "  unique_values_df = unique_values_df.append({\n",
      "/tmp/ipykernel_33939/2148433844.py:5: FutureWarning: The frame.append method is deprecated and will be removed from pandas in a future version. Use pandas.concat instead.\n",
      "  unique_values_df = unique_values_df.append({\n",
      "/tmp/ipykernel_33939/2148433844.py:5: FutureWarning: The frame.append method is deprecated and will be removed from pandas in a future version. Use pandas.concat instead.\n",
      "  unique_values_df = unique_values_df.append({\n",
      "/tmp/ipykernel_33939/2148433844.py:5: FutureWarning: The frame.append method is deprecated and will be removed from pandas in a future version. Use pandas.concat instead.\n",
      "  unique_values_df = unique_values_df.append({\n",
      "/tmp/ipykernel_33939/2148433844.py:5: FutureWarning: The frame.append method is deprecated and will be removed from pandas in a future version. Use pandas.concat instead.\n",
      "  unique_values_df = unique_values_df.append({\n",
      "/tmp/ipykernel_33939/2148433844.py:5: FutureWarning: The frame.append method is deprecated and will be removed from pandas in a future version. Use pandas.concat instead.\n",
      "  unique_values_df = unique_values_df.append({\n",
      "/tmp/ipykernel_33939/2148433844.py:5: FutureWarning: The frame.append method is deprecated and will be removed from pandas in a future version. Use pandas.concat instead.\n",
      "  unique_values_df = unique_values_df.append({\n",
      "/tmp/ipykernel_33939/2148433844.py:5: FutureWarning: The frame.append method is deprecated and will be removed from pandas in a future version. Use pandas.concat instead.\n",
      "  unique_values_df = unique_values_df.append({\n",
      "/tmp/ipykernel_33939/2148433844.py:5: FutureWarning: The frame.append method is deprecated and will be removed from pandas in a future version. Use pandas.concat instead.\n",
      "  unique_values_df = unique_values_df.append({\n"
     ]
    },
    {
     "data": {
      "text/html": [
       "<div>\n",
       "<style scoped>\n",
       "    .dataframe tbody tr th:only-of-type {\n",
       "        vertical-align: middle;\n",
       "    }\n",
       "\n",
       "    .dataframe tbody tr th {\n",
       "        vertical-align: top;\n",
       "    }\n",
       "\n",
       "    .dataframe thead th {\n",
       "        text-align: right;\n",
       "    }\n",
       "</style>\n",
       "<table border=\"1\" class=\"dataframe\">\n",
       "  <thead>\n",
       "    <tr style=\"text-align: right;\">\n",
       "      <th></th>\n",
       "      <th>Feature</th>\n",
       "      <th>Number of values</th>\n",
       "      <th>Values</th>\n",
       "    </tr>\n",
       "  </thead>\n",
       "  <tbody>\n",
       "    <tr>\n",
       "      <th>0</th>\n",
       "      <td>city</td>\n",
       "      <td>4431</td>\n",
       "      <td>[Ставрополь, Омск, Белгород, Большой Исток, Но...</td>\n",
       "    </tr>\n",
       "    <tr>\n",
       "      <th>1</th>\n",
       "      <td>floor</td>\n",
       "      <td>93</td>\n",
       "      <td>[nan, 1.0, 2.0, 4.0, 3.0, -1.0, 30.0, 17.0, 8....</td>\n",
       "    </tr>\n",
       "    <tr>\n",
       "      <th>2</th>\n",
       "      <td>id</td>\n",
       "      <td>206474</td>\n",
       "      <td>[COL_65683, COL_159011, COL_205850, COL_229491...</td>\n",
       "    </tr>\n",
       "    <tr>\n",
       "      <th>3</th>\n",
       "      <td>lat</td>\n",
       "      <td>103375</td>\n",
       "      <td>[45.011356, 54.984833, 50.576805, 56.714413, 5...</td>\n",
       "    </tr>\n",
       "    <tr>\n",
       "      <th>4</th>\n",
       "      <td>lng</td>\n",
       "      <td>106246</td>\n",
       "      <td>[41.919273, 73.387344, 36.563267, 60.792454000...</td>\n",
       "    </tr>\n",
       "    <tr>\n",
       "      <th>5</th>\n",
       "      <td>osm_amenity_points_in_0.001</td>\n",
       "      <td>45</td>\n",
       "      <td>[7, 4, 0, 3, 1, 16, 2, 15, 8, 6, 10, 5, 9, 11,...</td>\n",
       "    </tr>\n",
       "    <tr>\n",
       "      <th>6</th>\n",
       "      <td>osm_amenity_points_in_0.005</td>\n",
       "      <td>384</td>\n",
       "      <td>[71, 40, 9, 0, 25, 15, 39, 84, 27, 26, 51, 1, ...</td>\n",
       "    </tr>\n",
       "    <tr>\n",
       "      <th>7</th>\n",
       "      <td>osm_amenity_points_in_0.0075</td>\n",
       "      <td>750</td>\n",
       "      <td>[144, 109, 22, 0, 50, 39, 96, 90, 65, 66, 98, ...</td>\n",
       "    </tr>\n",
       "    <tr>\n",
       "      <th>8</th>\n",
       "      <td>osm_amenity_points_in_0.01</td>\n",
       "      <td>1186</td>\n",
       "      <td>[225, 206, 44, 1, 101, 66, 133, 97, 85, 173, 5...</td>\n",
       "    </tr>\n",
       "    <tr>\n",
       "      <th>9</th>\n",
       "      <td>osm_building_points_in_0.001</td>\n",
       "      <td>23</td>\n",
       "      <td>[0, 1, 2, 3, 4, 9, 7, 8, 6, 21, 10, 5, 12, 17,...</td>\n",
       "    </tr>\n",
       "    <tr>\n",
       "      <th>10</th>\n",
       "      <td>osm_building_points_in_0.005</td>\n",
       "      <td>173</td>\n",
       "      <td>[0, 1, 5, 4, 3, 2, 12, 19, 10, 50, 6, 38, 8, 1...</td>\n",
       "    </tr>\n",
       "    <tr>\n",
       "      <th>11</th>\n",
       "      <td>osm_building_points_in_0.0075</td>\n",
       "      <td>301</td>\n",
       "      <td>[0, 1, 2, 7, 8, 3, 4, 29, 5, 6, 44, 39, 11, 77...</td>\n",
       "    </tr>\n",
       "    <tr>\n",
       "      <th>12</th>\n",
       "      <td>osm_building_points_in_0.01</td>\n",
       "      <td>433</td>\n",
       "      <td>[0, 1, 4, 2, 3, 8, 15, 5, 6, 53, 11, 76, 7, 10...</td>\n",
       "    </tr>\n",
       "    <tr>\n",
       "      <th>13</th>\n",
       "      <td>osm_catering_points_in_0.001</td>\n",
       "      <td>24</td>\n",
       "      <td>[3, 1, 0, 6, 5, 2, 11, 4, 7, 8, 9, 10, 14, 13,...</td>\n",
       "    </tr>\n",
       "    <tr>\n",
       "      <th>14</th>\n",
       "      <td>osm_catering_points_in_0.005</td>\n",
       "      <td>155</td>\n",
       "      <td>[23, 9, 0, 5, 7, 14, 4, 12, 24, 2, 73, 8, 3, 1...</td>\n",
       "    </tr>\n",
       "    <tr>\n",
       "      <th>15</th>\n",
       "      <td>osm_catering_points_in_0.0075</td>\n",
       "      <td>284</td>\n",
       "      <td>[31, 20, 4, 0, 6, 2, 15, 9, 7, 13, 38, 104, 17...</td>\n",
       "    </tr>\n",
       "    <tr>\n",
       "      <th>16</th>\n",
       "      <td>osm_catering_points_in_0.01</td>\n",
       "      <td>455</td>\n",
       "      <td>[49, 43, 7, 0, 12, 9, 20, 16, 14, 25, 38, 18, ...</td>\n",
       "    </tr>\n",
       "    <tr>\n",
       "      <th>17</th>\n",
       "      <td>osm_city_closest_dist</td>\n",
       "      <td>115804</td>\n",
       "      <td>[5.289954008831372, 1.2442419211568478, 2.6910...</td>\n",
       "    </tr>\n",
       "    <tr>\n",
       "      <th>18</th>\n",
       "      <td>osm_city_nearest_name</td>\n",
       "      <td>170</td>\n",
       "      <td>[Ставрополь, Омск, Белгород, Екатеринбург, Нов...</td>\n",
       "    </tr>\n",
       "    <tr>\n",
       "      <th>19</th>\n",
       "      <td>osm_city_nearest_population</td>\n",
       "      <td>170</td>\n",
       "      <td>[425853.0, 1164815.0, 384425.0, 1468833.0, 162...</td>\n",
       "    </tr>\n",
       "    <tr>\n",
       "      <th>20</th>\n",
       "      <td>osm_crossing_closest_dist</td>\n",
       "      <td>115805</td>\n",
       "      <td>[0.152727780202267, 0.0561634890122597, 0.3029...</td>\n",
       "    </tr>\n",
       "    <tr>\n",
       "      <th>21</th>\n",
       "      <td>osm_crossing_points_in_0.001</td>\n",
       "      <td>16</td>\n",
       "      <td>[0, 6, 3, 2, 4, 1, 5, 7, 8, 9, 10, 11, 13, 12,...</td>\n",
       "    </tr>\n",
       "    <tr>\n",
       "      <th>22</th>\n",
       "      <td>osm_crossing_points_in_0.005</td>\n",
       "      <td>108</td>\n",
       "      <td>[16, 30, 3, 0, 27, 10, 11, 4, 24, 34, 6, 13, 4...</td>\n",
       "    </tr>\n",
       "    <tr>\n",
       "      <th>23</th>\n",
       "      <td>osm_crossing_points_in_0.0075</td>\n",
       "      <td>190</td>\n",
       "      <td>[32, 49, 30, 0, 37, 15, 33, 6, 45, 46, 65, 14,...</td>\n",
       "    </tr>\n",
       "    <tr>\n",
       "      <th>24</th>\n",
       "      <td>osm_crossing_points_in_0.01</td>\n",
       "      <td>268</td>\n",
       "      <td>[49, 76, 57, 0, 54, 35, 46, 10, 64, 66, 87, 14...</td>\n",
       "    </tr>\n",
       "    <tr>\n",
       "      <th>25</th>\n",
       "      <td>osm_culture_points_in_0.001</td>\n",
       "      <td>15</td>\n",
       "      <td>[0, 1, 3, 2, 5, 4, 6, 12, 8, 7, 13, 9, 20, 15,...</td>\n",
       "    </tr>\n",
       "    <tr>\n",
       "      <th>26</th>\n",
       "      <td>osm_culture_points_in_0.005</td>\n",
       "      <td>101</td>\n",
       "      <td>[0, 1, 2, 3, 17, 7, 6, 8, 4, 62, 22, 10, 27, 2...</td>\n",
       "    </tr>\n",
       "    <tr>\n",
       "      <th>27</th>\n",
       "      <td>osm_culture_points_in_0.0075</td>\n",
       "      <td>151</td>\n",
       "      <td>[0, 3, 2, 4, 6, 30, 1, 12, 9, 14, 83, 34, 5, 7...</td>\n",
       "    </tr>\n",
       "    <tr>\n",
       "      <th>28</th>\n",
       "      <td>osm_culture_points_in_0.01</td>\n",
       "      <td>202</td>\n",
       "      <td>[0, 5, 3, 1, 8, 2, 4, 10, 37, 21, 22, 23, 6, 9...</td>\n",
       "    </tr>\n",
       "    <tr>\n",
       "      <th>29</th>\n",
       "      <td>osm_finance_points_in_0.001</td>\n",
       "      <td>7</td>\n",
       "      <td>[0, 2, 1, 3, 4, 5, 6]</td>\n",
       "    </tr>\n",
       "    <tr>\n",
       "      <th>30</th>\n",
       "      <td>osm_finance_points_in_0.005</td>\n",
       "      <td>29</td>\n",
       "      <td>[2, 6, 0, 1, 4, 3, 7, 5, 16, 14, 11, 10, 9, 13...</td>\n",
       "    </tr>\n",
       "    <tr>\n",
       "      <th>31</th>\n",
       "      <td>osm_finance_points_in_0.0075</td>\n",
       "      <td>42</td>\n",
       "      <td>[4, 13, 1, 0, 2, 3, 5, 8, 12, 15, 7, 6, 30, 27...</td>\n",
       "    </tr>\n",
       "    <tr>\n",
       "      <th>32</th>\n",
       "      <td>osm_finance_points_in_0.01</td>\n",
       "      <td>61</td>\n",
       "      <td>[8, 21, 3, 0, 4, 2, 10, 14, 9, 26, 11, 6, 1, 5...</td>\n",
       "    </tr>\n",
       "    <tr>\n",
       "      <th>33</th>\n",
       "      <td>osm_healthcare_points_in_0.005</td>\n",
       "      <td>31</td>\n",
       "      <td>[1, 0, 3, 6, 2, 4, 9, 14, 12, 5, 8, 11, 10, 22...</td>\n",
       "    </tr>\n",
       "    <tr>\n",
       "      <th>34</th>\n",
       "      <td>osm_healthcare_points_in_0.0075</td>\n",
       "      <td>57</td>\n",
       "      <td>[6, 7, 0, 4, 2, 5, 3, 1, 11, 13, 8, 25, 31, 24...</td>\n",
       "    </tr>\n",
       "    <tr>\n",
       "      <th>35</th>\n",
       "      <td>osm_healthcare_points_in_0.01</td>\n",
       "      <td>78</td>\n",
       "      <td>[8, 13, 3, 0, 6, 9, 4, 5, 2, 1, 7, 14, 19, 10,...</td>\n",
       "    </tr>\n",
       "    <tr>\n",
       "      <th>36</th>\n",
       "      <td>osm_historic_points_in_0.005</td>\n",
       "      <td>54</td>\n",
       "      <td>[0, 3, 2, 1, 5, 39, 6, 4, 13, 21, 8, 7, 12, 9,...</td>\n",
       "    </tr>\n",
       "    <tr>\n",
       "      <th>37</th>\n",
       "      <td>osm_historic_points_in_0.0075</td>\n",
       "      <td>89</td>\n",
       "      <td>[0, 4, 2, 1, 6, 7, 3, 51, 5, 12, 8, 15, 16, 30...</td>\n",
       "    </tr>\n",
       "    <tr>\n",
       "      <th>38</th>\n",
       "      <td>osm_historic_points_in_0.01</td>\n",
       "      <td>129</td>\n",
       "      <td>[0, 6, 2, 1, 7, 5, 75, 4, 13, 3, 17, 26, 12, 1...</td>\n",
       "    </tr>\n",
       "    <tr>\n",
       "      <th>39</th>\n",
       "      <td>osm_hotels_points_in_0.005</td>\n",
       "      <td>63</td>\n",
       "      <td>[1, 0, 2, 7, 3, 4, 9, 13, 12, 6, 10, 5, 29, 16...</td>\n",
       "    </tr>\n",
       "    <tr>\n",
       "      <th>40</th>\n",
       "      <td>osm_hotels_points_in_0.0075</td>\n",
       "      <td>102</td>\n",
       "      <td>[3, 0, 2, 7, 1, 11, 17, 16, 5, 4, 8, 6, 22, 44...</td>\n",
       "    </tr>\n",
       "    <tr>\n",
       "      <th>41</th>\n",
       "      <td>osm_hotels_points_in_0.01</td>\n",
       "      <td>146</td>\n",
       "      <td>[5, 1, 3, 0, 4, 11, 6, 2, 20, 21, 33, 9, 10, 1...</td>\n",
       "    </tr>\n",
       "    <tr>\n",
       "      <th>42</th>\n",
       "      <td>osm_leisure_points_in_0.005</td>\n",
       "      <td>34</td>\n",
       "      <td>[1, 2, 0, 3, 4, 6, 9, 5, 10, 8, 7, 11, 13, 15,...</td>\n",
       "    </tr>\n",
       "    <tr>\n",
       "      <th>43</th>\n",
       "      <td>osm_leisure_points_in_0.0075</td>\n",
       "      <td>59</td>\n",
       "      <td>[4, 0, 1, 2, 3, 9, 13, 6, 5, 7, 19, 15, 16, 12...</td>\n",
       "    </tr>\n",
       "    <tr>\n",
       "      <th>44</th>\n",
       "      <td>osm_leisure_points_in_0.01</td>\n",
       "      <td>85</td>\n",
       "      <td>[8, 6, 0, 3, 2, 1, 4, 9, 13, 15, 7, 17, 11, 19...</td>\n",
       "    </tr>\n",
       "    <tr>\n",
       "      <th>45</th>\n",
       "      <td>osm_offices_points_in_0.001</td>\n",
       "      <td>12</td>\n",
       "      <td>[0, 1, 3, 2, 7, 4, 6, 5, 8, 9, 11, 17]</td>\n",
       "    </tr>\n",
       "    <tr>\n",
       "      <th>46</th>\n",
       "      <td>osm_offices_points_in_0.005</td>\n",
       "      <td>63</td>\n",
       "      <td>[1, 4, 0, 2, 12, 5, 7, 6, 9, 10, 11, 14, 3, 8,...</td>\n",
       "    </tr>\n",
       "    <tr>\n",
       "      <th>47</th>\n",
       "      <td>osm_offices_points_in_0.0075</td>\n",
       "      <td>113</td>\n",
       "      <td>[3, 11, 1, 0, 5, 2, 7, 4, 16, 10, 6, 12, 8, 32...</td>\n",
       "    </tr>\n",
       "    <tr>\n",
       "      <th>48</th>\n",
       "      <td>osm_offices_points_in_0.01</td>\n",
       "      <td>174</td>\n",
       "      <td>[3, 19, 6, 0, 2, 5, 1, 9, 10, 4, 8, 20, 7, 12,...</td>\n",
       "    </tr>\n",
       "    <tr>\n",
       "      <th>49</th>\n",
       "      <td>osm_shops_points_in_0.001</td>\n",
       "      <td>36</td>\n",
       "      <td>[5, 0, 2, 1, 12, 4, 10, 3, 7, 8, 6, 9, 13, 11,...</td>\n",
       "    </tr>\n",
       "    <tr>\n",
       "      <th>50</th>\n",
       "      <td>osm_shops_points_in_0.005</td>\n",
       "      <td>241</td>\n",
       "      <td>[47, 18, 4, 0, 17, 12, 27, 65, 16, 9, 31, 22, ...</td>\n",
       "    </tr>\n",
       "    <tr>\n",
       "      <th>51</th>\n",
       "      <td>osm_shops_points_in_0.0075</td>\n",
       "      <td>443</td>\n",
       "      <td>[101, 64, 9, 0, 37, 30, 59, 69, 44, 55, 38, 32...</td>\n",
       "    </tr>\n",
       "    <tr>\n",
       "      <th>52</th>\n",
       "      <td>osm_shops_points_in_0.01</td>\n",
       "      <td>672</td>\n",
       "      <td>[147, 114, 22, 0, 66, 44, 81, 73, 54, 57, 109,...</td>\n",
       "    </tr>\n",
       "    <tr>\n",
       "      <th>53</th>\n",
       "      <td>osm_subway_closest_dist</td>\n",
       "      <td>115767</td>\n",
       "      <td>[129.80501323946888, 1.471690073587754, 555.50...</td>\n",
       "    </tr>\n",
       "    <tr>\n",
       "      <th>54</th>\n",
       "      <td>osm_train_stop_closest_dist</td>\n",
       "      <td>115805</td>\n",
       "      <td>[7.087805765767088, 5.031402484187517, 3.50973...</td>\n",
       "    </tr>\n",
       "    <tr>\n",
       "      <th>55</th>\n",
       "      <td>osm_train_stop_points_in_0.005</td>\n",
       "      <td>19</td>\n",
       "      <td>[0, 5, 2, 1, 8, 3, 4, 6, 9, 7, 11, 10, 15, 12,...</td>\n",
       "    </tr>\n",
       "    <tr>\n",
       "      <th>56</th>\n",
       "      <td>osm_train_stop_points_in_0.0075</td>\n",
       "      <td>24</td>\n",
       "      <td>[0, 2, 1, 5, 3, 8, 11, 7, 9, 4, 6, 12, 13, 10,...</td>\n",
       "    </tr>\n",
       "    <tr>\n",
       "      <th>57</th>\n",
       "      <td>osm_train_stop_points_in_0.01</td>\n",
       "      <td>29</td>\n",
       "      <td>[0, 4, 2, 5, 1, 3, 8, 13, 19, 7, 9, 6, 31, 20,...</td>\n",
       "    </tr>\n",
       "    <tr>\n",
       "      <th>58</th>\n",
       "      <td>osm_transport_stop_closest_dist</td>\n",
       "      <td>115805</td>\n",
       "      <td>[0.3489818173407886, 0.3353144636007665, 0.347...</td>\n",
       "    </tr>\n",
       "    <tr>\n",
       "      <th>59</th>\n",
       "      <td>osm_transport_stop_points_in_0.005</td>\n",
       "      <td>51</td>\n",
       "      <td>[8, 6, 1, 2, 3, 9, 5, 10, 30, 0, 4, 12, 14, 7,...</td>\n",
       "    </tr>\n",
       "    <tr>\n",
       "      <th>60</th>\n",
       "      <td>osm_transport_stop_points_in_0.0075</td>\n",
       "      <td>74</td>\n",
       "      <td>[21, 9, 11, 6, 7, 19, 3, 13, 46, 0, 10, 5, 8, ...</td>\n",
       "    </tr>\n",
       "    <tr>\n",
       "      <th>61</th>\n",
       "      <td>osm_transport_stop_points_in_0.01</td>\n",
       "      <td>106</td>\n",
       "      <td>[30, 23, 21, 6, 14, 13, 27, 3, 35, 70, 0, 15, ...</td>\n",
       "    </tr>\n",
       "    <tr>\n",
       "      <th>62</th>\n",
       "      <td>per_square_meter_price</td>\n",
       "      <td>113161</td>\n",
       "      <td>[17645.16129032258, 33166.666666666664, 22493....</td>\n",
       "    </tr>\n",
       "    <tr>\n",
       "      <th>63</th>\n",
       "      <td>reform_count_of_houses_1000</td>\n",
       "      <td>690</td>\n",
       "      <td>[116, 78, 120, 1, 157, 80, 44, 60, 106, 260, 4...</td>\n",
       "    </tr>\n",
       "    <tr>\n",
       "      <th>64</th>\n",
       "      <td>reform_count_of_houses_500</td>\n",
       "      <td>270</td>\n",
       "      <td>[32, 24, 31, 0, 58, 16, 1, 48, 51, 72, 7, 8, 7...</td>\n",
       "    </tr>\n",
       "    <tr>\n",
       "      <th>65</th>\n",
       "      <td>reform_house_population_1000</td>\n",
       "      <td>6001</td>\n",
       "      <td>[3090.0, 1249.0, 2034.0, 0.0, 3777.0, 3063.0, ...</td>\n",
       "    </tr>\n",
       "    <tr>\n",
       "      <th>66</th>\n",
       "      <td>reform_house_population_500</td>\n",
       "      <td>2305</td>\n",
       "      <td>[969.0, 305.0, 533.0, nan, 1188.0, 488.0, 16.0...</td>\n",
       "    </tr>\n",
       "    <tr>\n",
       "      <th>67</th>\n",
       "      <td>reform_mean_floor_count_1000</td>\n",
       "      <td>43233</td>\n",
       "      <td>[8.439655172413794, 4.756410256410256, 6.43589...</td>\n",
       "    </tr>\n",
       "    <tr>\n",
       "      <th>68</th>\n",
       "      <td>reform_mean_floor_count_500</td>\n",
       "      <td>15835</td>\n",
       "      <td>[9.25, 4.333333333333333, 6.4, nan, 6.67241379...</td>\n",
       "    </tr>\n",
       "    <tr>\n",
       "      <th>69</th>\n",
       "      <td>reform_mean_year_building_1000</td>\n",
       "      <td>64818</td>\n",
       "      <td>[1990.2327586206893, 1960.3461538461536, 1980....</td>\n",
       "    </tr>\n",
       "    <tr>\n",
       "      <th>70</th>\n",
       "      <td>reform_mean_year_building_500</td>\n",
       "      <td>38072</td>\n",
       "      <td>[1993.5, 1956.291666666667, 1989.6333333333328...</td>\n",
       "    </tr>\n",
       "    <tr>\n",
       "      <th>71</th>\n",
       "      <td>region</td>\n",
       "      <td>49</td>\n",
       "      <td>[Ставропольский край, Омская область, Белгород...</td>\n",
       "    </tr>\n",
       "    <tr>\n",
       "      <th>72</th>\n",
       "      <td>total_square</td>\n",
       "      <td>14669</td>\n",
       "      <td>[31.0, 150.0, 73.0, 438.0, 62.7, 84.0, 623.0, ...</td>\n",
       "    </tr>\n",
       "    <tr>\n",
       "      <th>73</th>\n",
       "      <td>street</td>\n",
       "      <td>24560</td>\n",
       "      <td>[S1842, S14290, S25733, S6985, S4778, S2682, S...</td>\n",
       "    </tr>\n",
       "    <tr>\n",
       "      <th>74</th>\n",
       "      <td>date</td>\n",
       "      <td>34</td>\n",
       "      <td>[2020-02-23, 2020-05-24, 2020-06-28, 2020-07-1...</td>\n",
       "    </tr>\n",
       "    <tr>\n",
       "      <th>75</th>\n",
       "      <td>realty_type</td>\n",
       "      <td>3</td>\n",
       "      <td>[10, 110, 100]</td>\n",
       "    </tr>\n",
       "  </tbody>\n",
       "</table>\n",
       "</div>"
      ],
      "text/plain": [
       "                                Feature Number of values  \\\n",
       "0                                  city             4431   \n",
       "1                                 floor               93   \n",
       "2                                    id           206474   \n",
       "3                                   lat           103375   \n",
       "4                                   lng           106246   \n",
       "5           osm_amenity_points_in_0.001               45   \n",
       "6           osm_amenity_points_in_0.005              384   \n",
       "7          osm_amenity_points_in_0.0075              750   \n",
       "8            osm_amenity_points_in_0.01             1186   \n",
       "9          osm_building_points_in_0.001               23   \n",
       "10         osm_building_points_in_0.005              173   \n",
       "11        osm_building_points_in_0.0075              301   \n",
       "12          osm_building_points_in_0.01              433   \n",
       "13         osm_catering_points_in_0.001               24   \n",
       "14         osm_catering_points_in_0.005              155   \n",
       "15        osm_catering_points_in_0.0075              284   \n",
       "16          osm_catering_points_in_0.01              455   \n",
       "17                osm_city_closest_dist           115804   \n",
       "18                osm_city_nearest_name              170   \n",
       "19          osm_city_nearest_population              170   \n",
       "20            osm_crossing_closest_dist           115805   \n",
       "21         osm_crossing_points_in_0.001               16   \n",
       "22         osm_crossing_points_in_0.005              108   \n",
       "23        osm_crossing_points_in_0.0075              190   \n",
       "24          osm_crossing_points_in_0.01              268   \n",
       "25          osm_culture_points_in_0.001               15   \n",
       "26          osm_culture_points_in_0.005              101   \n",
       "27         osm_culture_points_in_0.0075              151   \n",
       "28           osm_culture_points_in_0.01              202   \n",
       "29          osm_finance_points_in_0.001                7   \n",
       "30          osm_finance_points_in_0.005               29   \n",
       "31         osm_finance_points_in_0.0075               42   \n",
       "32           osm_finance_points_in_0.01               61   \n",
       "33       osm_healthcare_points_in_0.005               31   \n",
       "34      osm_healthcare_points_in_0.0075               57   \n",
       "35        osm_healthcare_points_in_0.01               78   \n",
       "36         osm_historic_points_in_0.005               54   \n",
       "37        osm_historic_points_in_0.0075               89   \n",
       "38          osm_historic_points_in_0.01              129   \n",
       "39           osm_hotels_points_in_0.005               63   \n",
       "40          osm_hotels_points_in_0.0075              102   \n",
       "41            osm_hotels_points_in_0.01              146   \n",
       "42          osm_leisure_points_in_0.005               34   \n",
       "43         osm_leisure_points_in_0.0075               59   \n",
       "44           osm_leisure_points_in_0.01               85   \n",
       "45          osm_offices_points_in_0.001               12   \n",
       "46          osm_offices_points_in_0.005               63   \n",
       "47         osm_offices_points_in_0.0075              113   \n",
       "48           osm_offices_points_in_0.01              174   \n",
       "49            osm_shops_points_in_0.001               36   \n",
       "50            osm_shops_points_in_0.005              241   \n",
       "51           osm_shops_points_in_0.0075              443   \n",
       "52             osm_shops_points_in_0.01              672   \n",
       "53              osm_subway_closest_dist           115767   \n",
       "54          osm_train_stop_closest_dist           115805   \n",
       "55       osm_train_stop_points_in_0.005               19   \n",
       "56      osm_train_stop_points_in_0.0075               24   \n",
       "57        osm_train_stop_points_in_0.01               29   \n",
       "58      osm_transport_stop_closest_dist           115805   \n",
       "59   osm_transport_stop_points_in_0.005               51   \n",
       "60  osm_transport_stop_points_in_0.0075               74   \n",
       "61    osm_transport_stop_points_in_0.01              106   \n",
       "62               per_square_meter_price           113161   \n",
       "63          reform_count_of_houses_1000              690   \n",
       "64           reform_count_of_houses_500              270   \n",
       "65         reform_house_population_1000             6001   \n",
       "66          reform_house_population_500             2305   \n",
       "67         reform_mean_floor_count_1000            43233   \n",
       "68          reform_mean_floor_count_500            15835   \n",
       "69       reform_mean_year_building_1000            64818   \n",
       "70        reform_mean_year_building_500            38072   \n",
       "71                               region               49   \n",
       "72                         total_square            14669   \n",
       "73                               street            24560   \n",
       "74                                 date               34   \n",
       "75                          realty_type                3   \n",
       "\n",
       "                                               Values  \n",
       "0   [Ставрополь, Омск, Белгород, Большой Исток, Но...  \n",
       "1   [nan, 1.0, 2.0, 4.0, 3.0, -1.0, 30.0, 17.0, 8....  \n",
       "2   [COL_65683, COL_159011, COL_205850, COL_229491...  \n",
       "3   [45.011356, 54.984833, 50.576805, 56.714413, 5...  \n",
       "4   [41.919273, 73.387344, 36.563267, 60.792454000...  \n",
       "5   [7, 4, 0, 3, 1, 16, 2, 15, 8, 6, 10, 5, 9, 11,...  \n",
       "6   [71, 40, 9, 0, 25, 15, 39, 84, 27, 26, 51, 1, ...  \n",
       "7   [144, 109, 22, 0, 50, 39, 96, 90, 65, 66, 98, ...  \n",
       "8   [225, 206, 44, 1, 101, 66, 133, 97, 85, 173, 5...  \n",
       "9   [0, 1, 2, 3, 4, 9, 7, 8, 6, 21, 10, 5, 12, 17,...  \n",
       "10  [0, 1, 5, 4, 3, 2, 12, 19, 10, 50, 6, 38, 8, 1...  \n",
       "11  [0, 1, 2, 7, 8, 3, 4, 29, 5, 6, 44, 39, 11, 77...  \n",
       "12  [0, 1, 4, 2, 3, 8, 15, 5, 6, 53, 11, 76, 7, 10...  \n",
       "13  [3, 1, 0, 6, 5, 2, 11, 4, 7, 8, 9, 10, 14, 13,...  \n",
       "14  [23, 9, 0, 5, 7, 14, 4, 12, 24, 2, 73, 8, 3, 1...  \n",
       "15  [31, 20, 4, 0, 6, 2, 15, 9, 7, 13, 38, 104, 17...  \n",
       "16  [49, 43, 7, 0, 12, 9, 20, 16, 14, 25, 38, 18, ...  \n",
       "17  [5.289954008831372, 1.2442419211568478, 2.6910...  \n",
       "18  [Ставрополь, Омск, Белгород, Екатеринбург, Нов...  \n",
       "19  [425853.0, 1164815.0, 384425.0, 1468833.0, 162...  \n",
       "20  [0.152727780202267, 0.0561634890122597, 0.3029...  \n",
       "21  [0, 6, 3, 2, 4, 1, 5, 7, 8, 9, 10, 11, 13, 12,...  \n",
       "22  [16, 30, 3, 0, 27, 10, 11, 4, 24, 34, 6, 13, 4...  \n",
       "23  [32, 49, 30, 0, 37, 15, 33, 6, 45, 46, 65, 14,...  \n",
       "24  [49, 76, 57, 0, 54, 35, 46, 10, 64, 66, 87, 14...  \n",
       "25  [0, 1, 3, 2, 5, 4, 6, 12, 8, 7, 13, 9, 20, 15,...  \n",
       "26  [0, 1, 2, 3, 17, 7, 6, 8, 4, 62, 22, 10, 27, 2...  \n",
       "27  [0, 3, 2, 4, 6, 30, 1, 12, 9, 14, 83, 34, 5, 7...  \n",
       "28  [0, 5, 3, 1, 8, 2, 4, 10, 37, 21, 22, 23, 6, 9...  \n",
       "29                              [0, 2, 1, 3, 4, 5, 6]  \n",
       "30  [2, 6, 0, 1, 4, 3, 7, 5, 16, 14, 11, 10, 9, 13...  \n",
       "31  [4, 13, 1, 0, 2, 3, 5, 8, 12, 15, 7, 6, 30, 27...  \n",
       "32  [8, 21, 3, 0, 4, 2, 10, 14, 9, 26, 11, 6, 1, 5...  \n",
       "33  [1, 0, 3, 6, 2, 4, 9, 14, 12, 5, 8, 11, 10, 22...  \n",
       "34  [6, 7, 0, 4, 2, 5, 3, 1, 11, 13, 8, 25, 31, 24...  \n",
       "35  [8, 13, 3, 0, 6, 9, 4, 5, 2, 1, 7, 14, 19, 10,...  \n",
       "36  [0, 3, 2, 1, 5, 39, 6, 4, 13, 21, 8, 7, 12, 9,...  \n",
       "37  [0, 4, 2, 1, 6, 7, 3, 51, 5, 12, 8, 15, 16, 30...  \n",
       "38  [0, 6, 2, 1, 7, 5, 75, 4, 13, 3, 17, 26, 12, 1...  \n",
       "39  [1, 0, 2, 7, 3, 4, 9, 13, 12, 6, 10, 5, 29, 16...  \n",
       "40  [3, 0, 2, 7, 1, 11, 17, 16, 5, 4, 8, 6, 22, 44...  \n",
       "41  [5, 1, 3, 0, 4, 11, 6, 2, 20, 21, 33, 9, 10, 1...  \n",
       "42  [1, 2, 0, 3, 4, 6, 9, 5, 10, 8, 7, 11, 13, 15,...  \n",
       "43  [4, 0, 1, 2, 3, 9, 13, 6, 5, 7, 19, 15, 16, 12...  \n",
       "44  [8, 6, 0, 3, 2, 1, 4, 9, 13, 15, 7, 17, 11, 19...  \n",
       "45             [0, 1, 3, 2, 7, 4, 6, 5, 8, 9, 11, 17]  \n",
       "46  [1, 4, 0, 2, 12, 5, 7, 6, 9, 10, 11, 14, 3, 8,...  \n",
       "47  [3, 11, 1, 0, 5, 2, 7, 4, 16, 10, 6, 12, 8, 32...  \n",
       "48  [3, 19, 6, 0, 2, 5, 1, 9, 10, 4, 8, 20, 7, 12,...  \n",
       "49  [5, 0, 2, 1, 12, 4, 10, 3, 7, 8, 6, 9, 13, 11,...  \n",
       "50  [47, 18, 4, 0, 17, 12, 27, 65, 16, 9, 31, 22, ...  \n",
       "51  [101, 64, 9, 0, 37, 30, 59, 69, 44, 55, 38, 32...  \n",
       "52  [147, 114, 22, 0, 66, 44, 81, 73, 54, 57, 109,...  \n",
       "53  [129.80501323946888, 1.471690073587754, 555.50...  \n",
       "54  [7.087805765767088, 5.031402484187517, 3.50973...  \n",
       "55  [0, 5, 2, 1, 8, 3, 4, 6, 9, 7, 11, 10, 15, 12,...  \n",
       "56  [0, 2, 1, 5, 3, 8, 11, 7, 9, 4, 6, 12, 13, 10,...  \n",
       "57  [0, 4, 2, 5, 1, 3, 8, 13, 19, 7, 9, 6, 31, 20,...  \n",
       "58  [0.3489818173407886, 0.3353144636007665, 0.347...  \n",
       "59  [8, 6, 1, 2, 3, 9, 5, 10, 30, 0, 4, 12, 14, 7,...  \n",
       "60  [21, 9, 11, 6, 7, 19, 3, 13, 46, 0, 10, 5, 8, ...  \n",
       "61  [30, 23, 21, 6, 14, 13, 27, 3, 35, 70, 0, 15, ...  \n",
       "62  [17645.16129032258, 33166.666666666664, 22493....  \n",
       "63  [116, 78, 120, 1, 157, 80, 44, 60, 106, 260, 4...  \n",
       "64  [32, 24, 31, 0, 58, 16, 1, 48, 51, 72, 7, 8, 7...  \n",
       "65  [3090.0, 1249.0, 2034.0, 0.0, 3777.0, 3063.0, ...  \n",
       "66  [969.0, 305.0, 533.0, nan, 1188.0, 488.0, 16.0...  \n",
       "67  [8.439655172413794, 4.756410256410256, 6.43589...  \n",
       "68  [9.25, 4.333333333333333, 6.4, nan, 6.67241379...  \n",
       "69  [1990.2327586206893, 1960.3461538461536, 1980....  \n",
       "70  [1993.5, 1956.291666666667, 1989.6333333333328...  \n",
       "71  [Ставропольский край, Омская область, Белгород...  \n",
       "72  [31.0, 150.0, 73.0, 438.0, 62.7, 84.0, 623.0, ...  \n",
       "73  [S1842, S14290, S25733, S6985, S4778, S2682, S...  \n",
       "74  [2020-02-23, 2020-05-24, 2020-06-28, 2020-07-1...  \n",
       "75                                     [10, 110, 100]  "
      ]
     },
     "execution_count": 6,
     "metadata": {},
     "output_type": "execute_result"
    }
   ],
   "source": [
    "print_unique_values(df_train)"
   ]
  },
  {
   "cell_type": "code",
   "execution_count": 7,
   "metadata": {
    "pycharm": {
     "is_executing": true
    }
   },
   "outputs": [],
   "source": [
    "ID = df_train['id']\n",
    "df_train.drop(['id', 'lat', 'lng', 'osm_city_nearest_name', 'date', 'street', 'floor', 'osm_city_closest_dist'], axis=1, inplace=True)"
   ]
  },
  {
   "cell_type": "code",
   "execution_count": 8,
   "metadata": {
    "pycharm": {
     "is_executing": true
    }
   },
   "outputs": [
    {
     "name": "stdout",
     "output_type": "stream",
     "text": [
      "Moscow: 41891\n",
      "Moscow oblast: 12247\n",
      "Region: 152336\n"
     ]
    }
   ],
   "source": [
    "def location(df):\n",
    "    is_moscow = []\n",
    "    is_moscow_oblast = []\n",
    "    is_region = []\n",
    "\n",
    "    for row in df['region']:\n",
    "        if row == 'Москва':\n",
    "            is_moscow.append(1)\n",
    "            is_moscow_oblast.append(0)\n",
    "            is_region.append(0)\n",
    "        elif row == 'Московская область':\n",
    "            is_moscow.append(0)\n",
    "            is_moscow_oblast.append(1)\n",
    "            is_region.append(0)\n",
    "        else:\n",
    "            is_moscow.append(0)\n",
    "            is_moscow_oblast.append(0)\n",
    "            is_region.append(1)\n",
    "\n",
    "    df['is_moscow'] = is_moscow\n",
    "    df['is_moscow_oblast'] = is_moscow_oblast\n",
    "    df['is_region'] = is_region\n",
    "\n",
    "    df.drop(['region'], axis=1, inplace=True)\n",
    "    \n",
    "    print('Moscow: ' + str((len(df[df['is_moscow'] == 1]))))\n",
    "    print('Moscow oblast: ' + str((len(df[df['is_moscow_oblast'] == 1]))))\n",
    "    print('Region: ' + str((len(df[df['is_region'] == 1]))))\n",
    "\n",
    "location(df_train)"
   ]
  },
  {
   "cell_type": "code",
   "execution_count": 9,
   "metadata": {
    "pycharm": {
     "is_executing": true
    }
   },
   "outputs": [
    {
     "name": "stdout",
     "output_type": "stream",
     "text": [
      "is_million: 102815\n",
      "is_not_million: 103659\n"
     ]
    }
   ],
   "source": [
    "def cities_1m(df):\n",
    "    cities_1m_people = ['Москва', 'Санкт-Петербург', 'Новосибирск', 'Екатеринбург', 'Казань', 'Нижний Новгород', 'Челябинск', 'Самара', 'Омск',\n",
    "                       'Ростов-на-Дону', 'Уфа', 'Красноярск', 'Воронеж', 'Пермь', 'Волгоград']\n",
    "\n",
    "    is_million = []\n",
    "    is_not_million = []\n",
    "\n",
    "    for row in df['city']:\n",
    "        if row in cities_1m_people:\n",
    "            is_million.append(1)\n",
    "            is_not_million.append(0)\n",
    "        else:\n",
    "            is_million.append(0)\n",
    "            is_not_million.append(1)\n",
    "\n",
    "    df['is_million'] = is_million\n",
    "    df['is_not_million'] = is_not_million\n",
    "\n",
    "    df.drop(['city'], axis=1, inplace=True)\n",
    "    \n",
    "    print('is_million: ' + str((len(df[df['is_million'] == 1]))))\n",
    "    print('is_not_million: ' + str((len(df[df['is_not_million'] == 1]))))\n",
    "    \n",
    "cities_1m(df_train)"
   ]
  },
  {
   "cell_type": "code",
   "execution_count": 10,
   "metadata": {
    "pycharm": {
     "is_executing": true
    }
   },
   "outputs": [],
   "source": [
    "def make_district(df):\n",
    "    district_rate = []\n",
    "\n",
    "    for row in df['realty_type']:\n",
    "        if row == 110:\n",
    "            district_rate.append(1)\n",
    "        elif row == 100:\n",
    "            district_rate.append(10)\n",
    "        elif row == 10:\n",
    "            district_rate.append(0)\n",
    "\n",
    "    df['district_rate'] = district_rate\n",
    "\n",
    "    df.drop(['realty_type'], axis=1, inplace=True)\n",
    "    \n",
    "make_district(df_train)"
   ]
  },
  {
   "cell_type": "code",
   "execution_count": 11,
   "metadata": {
    "pycharm": {
     "is_executing": true
    }
   },
   "outputs": [],
   "source": [
    "def offices(df):\n",
    "    many_offices = []\n",
    "\n",
    "    for i in range(len(df['osm_offices_points_in_0.001'])):\n",
    "        if df['osm_offices_points_in_0.001'][i] > 2 or df['osm_offices_points_in_0.005'][i] > 10 or df['osm_offices_points_in_0.0075'][i] > 15 or df['osm_offices_points_in_0.01'][i] > 20:\n",
    "            many_offices.append(1)\n",
    "        else:\n",
    "            many_offices.append(0)\n",
    "\n",
    "    df['many_offices'] = many_offices\n",
    "\n",
    "    df.drop(['osm_offices_points_in_0.001', 'osm_offices_points_in_0.005', 'osm_offices_points_in_0.0075', 'osm_offices_points_in_0.01'], axis=1, inplace=True)\n",
    "    \n",
    "offices(df_train)"
   ]
  },
  {
   "cell_type": "code",
   "execution_count": 12,
   "metadata": {
    "pycharm": {
     "is_executing": true
    }
   },
   "outputs": [],
   "source": [
    "def food(df):\n",
    "    many_food = []\n",
    "\n",
    "    for i in range(len(df['osm_catering_points_in_0.001'])):\n",
    "        if df['osm_catering_points_in_0.001'][i] > 2 or df['osm_catering_points_in_0.005'][i] > 10 or df['osm_catering_points_in_0.0075'][i] > 15 or df['osm_catering_points_in_0.01'][i] > 20:\n",
    "            many_food.append(1)\n",
    "        else:\n",
    "            many_food.append(0)\n",
    "\n",
    "    df['many_food'] = many_food\n",
    "\n",
    "    df.drop(['osm_catering_points_in_0.001', 'osm_catering_points_in_0.005', 'osm_catering_points_in_0.0075', 'osm_catering_points_in_0.01'], axis=1, inplace=True)\n",
    "    \n",
    "food(df_train)"
   ]
  },
  {
   "cell_type": "code",
   "execution_count": 13,
   "metadata": {
    "pycharm": {
     "is_executing": true
    }
   },
   "outputs": [],
   "source": [
    "def shops(df):\n",
    "    many_shops = []\n",
    "\n",
    "    for i in range(len(df['osm_shops_points_in_0.001'])):\n",
    "        if df['osm_shops_points_in_0.001'][i] > 2 or df['osm_shops_points_in_0.005'][i] > 10 or df['osm_shops_points_in_0.0075'][i] > 15 or df['osm_shops_points_in_0.01'][i] > 20:\n",
    "            many_shops.append(1)\n",
    "        else:\n",
    "            many_shops.append(0)\n",
    "\n",
    "    df['many_shops'] = many_shops\n",
    "\n",
    "    df.drop(['osm_shops_points_in_0.001', 'osm_shops_points_in_0.005', 'osm_shops_points_in_0.0075', 'osm_shops_points_in_0.01'], axis=1, inplace=True)\n",
    "    \n",
    "shops(df_train)"
   ]
  },
  {
   "cell_type": "code",
   "execution_count": 14,
   "metadata": {
    "pycharm": {
     "is_executing": true
    }
   },
   "outputs": [],
   "source": [
    "def financial_organizations(df):\n",
    "    many_financial_organizations = []\n",
    "\n",
    "    for i in range(len(df['osm_finance_points_in_0.001'])):\n",
    "        if df['osm_finance_points_in_0.001'][i] > 2 or df['osm_finance_points_in_0.005'][i] > 10 or df['osm_finance_points_in_0.0075'][i] > 15 or df['osm_finance_points_in_0.01'][i] > 20:\n",
    "            many_financial_organizations.append(1)\n",
    "        else:\n",
    "            many_financial_organizations.append(0)\n",
    "\n",
    "    df['many_financial_organizations'] = many_financial_organizations\n",
    "\n",
    "    df.drop(['osm_finance_points_in_0.001', 'osm_finance_points_in_0.005', 'osm_finance_points_in_0.0075', 'osm_finance_points_in_0.01'], axis=1, inplace=True)\n",
    "    \n",
    "financial_organizations(df_train)"
   ]
  },
  {
   "cell_type": "code",
   "execution_count": 15,
   "metadata": {
    "pycharm": {
     "is_executing": true
    }
   },
   "outputs": [],
   "source": [
    "def medecine(df):\n",
    "    many_medicine = []\n",
    "\n",
    "    for i in range(len(df['osm_healthcare_points_in_0.005'])):\n",
    "        if df['osm_healthcare_points_in_0.005'][i] > 1 or df['osm_healthcare_points_in_0.0075'][i] > 1 or df['osm_healthcare_points_in_0.01'][i] > 1:\n",
    "            many_medicine.append(1)\n",
    "        else:\n",
    "            many_medicine.append(0)\n",
    "\n",
    "    df['many_medicine'] = many_medicine\n",
    "\n",
    "    df.drop(['osm_healthcare_points_in_0.005', 'osm_healthcare_points_in_0.0075', 'osm_healthcare_points_in_0.01'], axis=1, inplace=True)\n",
    "    \n",
    "medecine(df_train)"
   ]
  },
  {
   "cell_type": "code",
   "execution_count": 16,
   "metadata": {
    "pycharm": {
     "is_executing": true
    }
   },
   "outputs": [],
   "source": [
    "def entertainment(df):\n",
    "    many_entertainment = []\n",
    "\n",
    "    for i in range(len(df['osm_leisure_points_in_0.005'])):\n",
    "        if df['osm_leisure_points_in_0.005'][i] > 1 or df['osm_leisure_points_in_0.0075'][i] > 3 or df['osm_leisure_points_in_0.01'][i] > 1:\n",
    "            many_entertainment.append(1)\n",
    "        else:\n",
    "            many_entertainment.append(0)\n",
    "\n",
    "    df['many_entertainment'] = many_entertainment\n",
    "\n",
    "    df.drop(['osm_leisure_points_in_0.005', 'osm_leisure_points_in_0.0075', 'osm_leisure_points_in_0.01'], axis=1, inplace=True)\n",
    "    \n",
    "entertainment(df_train)"
   ]
  },
  {
   "cell_type": "code",
   "execution_count": 17,
   "metadata": {
    "pycharm": {
     "is_executing": true
    }
   },
   "outputs": [],
   "source": [
    "def hist_obj(df):\n",
    "    many_historical_objects = []\n",
    "\n",
    "    for i in range(len(df['osm_historic_points_in_0.005'])):\n",
    "        if df['osm_historic_points_in_0.005'][i] > 1 or df['osm_historic_points_in_0.0075'][i] > 3 or df['osm_historic_points_in_0.01'][i] > 1:\n",
    "            many_historical_objects.append(1)\n",
    "        else:\n",
    "            many_historical_objects.append(0)\n",
    "\n",
    "    df['many_historical_objects'] = many_historical_objects\n",
    "\n",
    "    df.drop(['osm_historic_points_in_0.005', 'osm_historic_points_in_0.0075', 'osm_historic_points_in_0.01'], axis=1, inplace=True)\n",
    "    \n",
    "hist_obj(df_train)"
   ]
  },
  {
   "cell_type": "code",
   "execution_count": 18,
   "metadata": {
    "pycharm": {
     "is_executing": true
    }
   },
   "outputs": [],
   "source": [
    "def buildings(df):\n",
    "    many_buildings = []\n",
    "\n",
    "    for i in range(len(df['osm_building_points_in_0.001'])):\n",
    "        if df['osm_building_points_in_0.001'][i] > 2 or df['osm_building_points_in_0.005'][i] > 5:\n",
    "            many_buildings.append(1)\n",
    "        else:\n",
    "            many_buildings.append(0)\n",
    "\n",
    "    df['many_buildings'] = many_buildings\n",
    "\n",
    "    df.drop(['osm_building_points_in_0.001', 'osm_building_points_in_0.005'], axis=1, inplace=True)\n",
    "    \n",
    "buildings(df_train)"
   ]
  },
  {
   "cell_type": "code",
   "execution_count": 19,
   "metadata": {
    "pycharm": {
     "is_executing": true
    }
   },
   "outputs": [],
   "source": [
    "def hotels(df):\n",
    "    many_hotels = []\n",
    "\n",
    "    for i in range(len(df['osm_hotels_points_in_0.005'])):\n",
    "        if df['osm_hotels_points_in_0.005'][i] > 1 or df['osm_hotels_points_in_0.0075'][i] > 1 or df['osm_hotels_points_in_0.01'][i] > 1:\n",
    "            many_hotels.append(1)\n",
    "        else:\n",
    "            many_hotels.append(0)\n",
    "\n",
    "    df['many_hotels'] = many_hotels\n",
    "\n",
    "    df.drop(['osm_hotels_points_in_0.005', 'osm_hotels_points_in_0.0075', 'osm_hotels_points_in_0.01'], axis=1, inplace=True)\n",
    "    \n",
    "hotels(df_train)"
   ]
  },
  {
   "cell_type": "code",
   "execution_count": 20,
   "metadata": {
    "pycharm": {
     "is_executing": true
    }
   },
   "outputs": [],
   "source": [
    "def stations_score(df):\n",
    "    station_rate = []\n",
    "\n",
    "    for row in df['osm_train_stop_closest_dist']:\n",
    "        if row > 4:\n",
    "            station_rate.append(0)\n",
    "        elif row <= 4 and row > 1:\n",
    "            station_rate.append(5)\n",
    "        else:\n",
    "            station_rate.append(1)\n",
    "\n",
    "    df['station_rate'] = station_rate\n",
    "\n",
    "    df.drop(['osm_train_stop_closest_dist'], axis=1, inplace=True)\n",
    "    \n",
    "stations_score(df_train)"
   ]
  },
  {
   "cell_type": "code",
   "execution_count": 21,
   "metadata": {
    "pycharm": {
     "is_executing": true
    }
   },
   "outputs": [],
   "source": [
    "def stations(df):\n",
    "    many_stations = []\n",
    "\n",
    "    for i in range(len(df['osm_train_stop_points_in_0.005'])):\n",
    "        if df['osm_train_stop_points_in_0.005'][i] > 1 or df['osm_train_stop_points_in_0.0075'][i] > 1 or df['osm_train_stop_points_in_0.01'][i] > 1:\n",
    "            many_stations.append(1)\n",
    "        else:\n",
    "            many_stations.append(0)\n",
    "\n",
    "    df['many_stations'] = many_stations\n",
    "\n",
    "    df.drop(['osm_train_stop_points_in_0.005', 'osm_train_stop_points_in_0.0075', 'osm_train_stop_points_in_0.01'], axis=1, inplace=True)\n",
    "    \n",
    "stations(df_train)"
   ]
  },
  {
   "cell_type": "code",
   "execution_count": 22,
   "metadata": {
    "pycharm": {
     "is_executing": true
    }
   },
   "outputs": [],
   "source": [
    "def land_transport(df):\n",
    "    many_land_transport = []\n",
    "\n",
    "    for i in range(len(df['osm_transport_stop_points_in_0.005'])):\n",
    "        if df['osm_transport_stop_points_in_0.005'][i] > 1 or df['osm_transport_stop_points_in_0.0075'][i] > 1 or df['osm_transport_stop_points_in_0.01'][i] > 1:\n",
    "            many_land_transport.append(1)\n",
    "        else:\n",
    "            many_land_transport.append(0)\n",
    "\n",
    "    df['many_land_transport'] = many_land_transport\n",
    "\n",
    "    df.drop(['osm_transport_stop_points_in_0.005', 'osm_transport_stop_points_in_0.0075', 'osm_transport_stop_points_in_0.01',\n",
    "             'osm_transport_stop_closest_dist', 'osm_subway_closest_dist'], axis=1, inplace=True)\n",
    "    \n",
    "land_transport(df_train)"
   ]
  },
  {
   "cell_type": "code",
   "execution_count": 23,
   "metadata": {
    "pycharm": {
     "is_executing": true
    }
   },
   "outputs": [],
   "source": [
    "def pedestrian_crossings(df):\n",
    "    many_pedestrian_crossings = []\n",
    "\n",
    "    for i in range(len(df['osm_crossing_points_in_0.001'])):\n",
    "        if df['osm_crossing_points_in_0.001'][i] > 1 or df['osm_crossing_points_in_0.005'][i] > 1 or df['osm_crossing_points_in_0.0075'][i] > 1 or df['osm_crossing_points_in_0.01'][i]:\n",
    "            many_pedestrian_crossings.append(1)\n",
    "        else:\n",
    "            many_pedestrian_crossings.append(0)\n",
    "\n",
    "    df['many_pedestrian_crossings'] = many_pedestrian_crossings\n",
    "\n",
    "    df.drop(['osm_crossing_points_in_0.001', 'osm_crossing_points_in_0.005', 'osm_crossing_points_in_0.0075', 'osm_crossing_points_in_0.01', \n",
    "            'osm_crossing_closest_dist'], axis=1, inplace=True)\n",
    "    \n",
    "pedestrian_crossings(df_train)"
   ]
  },
  {
   "cell_type": "code",
   "execution_count": 24,
   "metadata": {
    "pycharm": {
     "is_executing": true
    }
   },
   "outputs": [],
   "source": [
    "def culture_objects(df):\n",
    "    many_culture_objects = []\n",
    "\n",
    "    for i in range(len(df['osm_culture_points_in_0.001'])):\n",
    "        if df['osm_culture_points_in_0.001'][i] > 1 or df['osm_culture_points_in_0.005'][i] > 1 or df['osm_culture_points_in_0.0075'][i] > 1  or df['osm_culture_points_in_0.01'][i] > 1:\n",
    "            many_culture_objects.append(1)\n",
    "        else:\n",
    "            many_culture_objects.append(0)\n",
    "\n",
    "    df['many_culture_objects'] = many_culture_objects\n",
    "\n",
    "    df.drop(['osm_culture_points_in_0.001', 'osm_culture_points_in_0.005', 'osm_culture_points_in_0.0075', 'osm_culture_points_in_0.01'], axis=1, inplace=True)\n",
    "    \n",
    "culture_objects(df_train)"
   ]
  },
  {
   "cell_type": "code",
   "execution_count": 25,
   "metadata": {
    "pycharm": {
     "is_executing": true
    }
   },
   "outputs": [],
   "source": [
    "def comfort_objects(df):\n",
    "    many_comfort_objects = []\n",
    "\n",
    "    for i in range(len(df['osm_amenity_points_in_0.001'])):\n",
    "        if df['osm_amenity_points_in_0.001'][i] > 1 or df['osm_amenity_points_in_0.005'][i] > 1 or df['osm_amenity_points_in_0.0075'][i] > 1  or df['osm_amenity_points_in_0.01'][i] > 1:\n",
    "            many_comfort_objects.append(1)\n",
    "        else:\n",
    "            many_comfort_objects.append(0)\n",
    "\n",
    "    df['many_comfort_objects'] = many_comfort_objects\n",
    "\n",
    "    df.drop(['osm_amenity_points_in_0.001', 'osm_amenity_points_in_0.005', 'osm_amenity_points_in_0.0075', 'osm_amenity_points_in_0.01'], axis=1, inplace=True)\n",
    "    \n",
    "comfort_objects(df_train)"
   ]
  },
  {
   "cell_type": "code",
   "execution_count": 26,
   "metadata": {
    "pycharm": {
     "is_executing": true
    }
   },
   "outputs": [],
   "source": [
    "df_train['reform_house_population_500'] = df_train['reform_house_population_500'].fillna(df_train['reform_house_population_500'].median())\n",
    "df_train['reform_house_population_1000'] = df_train['reform_house_population_1000'].fillna(df_train['reform_house_population_1000'].median())\n",
    "df_train['reform_mean_floor_count_1000'] = df_train['reform_mean_floor_count_1000'].fillna(df_train['reform_mean_floor_count_1000'].median())\n",
    "# df['reform_mean_floor_count_1000'] = df['reform_mean_floor_count_1000'].apply(lambda x: np.log(x+1))\n",
    "df_train['reform_mean_floor_count_500'] = df_train['reform_mean_floor_count_500'].fillna(df_train['reform_mean_floor_count_500'].median())\n",
    "df_train['reform_mean_year_building_1000'] = df_train['reform_mean_year_building_1000'].fillna(df_train['reform_mean_year_building_1000'].median())\n",
    "df_train['reform_mean_year_building_500'] = df_train['reform_mean_year_building_500'].fillna(df_train['reform_mean_year_building_500'].median())\n"
   ]
  },
  {
   "cell_type": "code",
   "execution_count": 27,
   "metadata": {
    "pycharm": {
     "is_executing": true
    }
   },
   "outputs": [
    {
     "name": "stderr",
     "output_type": "stream",
     "text": [
      "/tmp/ipykernel_33939/1675637875.py:10: FutureWarning: The frame.append method is deprecated and will be removed from pandas in a future version. Use pandas.concat instead.\n",
      "  missing_values_df = missing_values_df.append({\n"
     ]
    }
   ],
   "source": [
    "print_missing_values(df_train[df_train['osm_city_nearest_population'].isnull()])\n",
    "df_train = df_train[df_train['osm_city_nearest_population'].notna()]"
   ]
  },
  {
   "cell_type": "code",
   "execution_count": 28,
   "metadata": {
    "pycharm": {
     "is_executing": true
    }
   },
   "outputs": [
    {
     "data": {
      "text/html": [
       "<div>\n",
       "<style scoped>\n",
       "    .dataframe tbody tr th:only-of-type {\n",
       "        vertical-align: middle;\n",
       "    }\n",
       "\n",
       "    .dataframe tbody tr th {\n",
       "        vertical-align: top;\n",
       "    }\n",
       "\n",
       "    .dataframe thead th {\n",
       "        text-align: right;\n",
       "    }\n",
       "</style>\n",
       "<table border=\"1\" class=\"dataframe\">\n",
       "  <thead>\n",
       "    <tr style=\"text-align: right;\">\n",
       "      <th></th>\n",
       "      <th>dtype</th>\n",
       "      <th>Feature</th>\n",
       "      <th>Number Of Missing Values</th>\n",
       "      <th>Percentage of Missing values</th>\n",
       "    </tr>\n",
       "  </thead>\n",
       "  <tbody>\n",
       "  </tbody>\n",
       "</table>\n",
       "</div>"
      ],
      "text/plain": [
       "Empty DataFrame\n",
       "Columns: [dtype, Feature, Number Of Missing Values, Percentage of Missing values]\n",
       "Index: []"
      ]
     },
     "execution_count": 28,
     "metadata": {},
     "output_type": "execute_result"
    }
   ],
   "source": [
    "print_missing_values(df_train)"
   ]
  },
  {
   "cell_type": "code",
   "execution_count": 29,
   "metadata": {
    "pycharm": {
     "is_executing": true
    }
   },
   "outputs": [
    {
     "data": {
      "text/plain": [
       "['osm_building_points_in_0.0075',\n",
       " 'osm_building_points_in_0.01',\n",
       " 'osm_city_nearest_population',\n",
       " 'reform_count_of_houses_1000',\n",
       " 'reform_count_of_houses_500',\n",
       " 'reform_house_population_1000',\n",
       " 'reform_house_population_500',\n",
       " 'reform_mean_floor_count_1000',\n",
       " 'reform_mean_floor_count_500',\n",
       " 'reform_mean_year_building_1000',\n",
       " 'reform_mean_year_building_500',\n",
       " 'total_square',\n",
       " 'is_moscow',\n",
       " 'is_moscow_oblast',\n",
       " 'is_region',\n",
       " 'is_million',\n",
       " 'is_not_million',\n",
       " 'district_rate',\n",
       " 'many_offices',\n",
       " 'many_food',\n",
       " 'many_shops',\n",
       " 'many_financial_organizations',\n",
       " 'many_medicine',\n",
       " 'many_entertainment',\n",
       " 'many_historical_objects',\n",
       " 'many_buildings',\n",
       " 'many_hotels',\n",
       " 'station_rate',\n",
       " 'many_stations',\n",
       " 'many_land_transport',\n",
       " 'many_pedestrian_crossings',\n",
       " 'many_culture_objects',\n",
       " 'many_comfort_objects']"
      ]
     },
     "execution_count": 29,
     "metadata": {},
     "output_type": "execute_result"
    }
   ],
   "source": [
    "train_y = df_train.per_square_meter_price\n",
    "df_train = df_train.drop(columns='per_square_meter_price')\n",
    "important_columns = list(df_train.columns)\n",
    "important_columns"
   ]
  },
  {
   "cell_type": "code",
   "execution_count": 30,
   "metadata": {
    "pycharm": {
     "is_executing": true
    }
   },
   "outputs": [
    {
     "data": {
      "text/plain": [
       "'\\ndef classical_recursive_one(elems):\\n    yield [] # first return the result we’re sure about \\n    for i in range(len(elems)):\\n        for x in classical_recursive_one(elems[i+1:]): \\n            # induction part \\n            yield [elems[i]] + x\\n\\nall_features_set = classical_recursive_one(important_columns)\\n'"
      ]
     },
     "execution_count": 30,
     "metadata": {},
     "output_type": "execute_result"
    }
   ],
   "source": [
    "'''\n",
    "def classical_recursive_one(elems):\n",
    "    yield [] # first return the result we’re sure about \n",
    "    for i in range(len(elems)):\n",
    "        for x in classical_recursive_one(elems[i+1:]): \n",
    "            # induction part \n",
    "            yield [elems[i]] + x\n",
    "\n",
    "all_features_set = classical_recursive_one(important_columns)\n",
    "'''"
   ]
  },
  {
   "cell_type": "code",
   "execution_count": 31,
   "metadata": {
    "pycharm": {
     "is_executing": true
    }
   },
   "outputs": [],
   "source": [
    "#type(all_features_set)"
   ]
  },
  {
   "cell_type": "code",
   "execution_count": 32,
   "metadata": {
    "pycharm": {
     "is_executing": true
    }
   },
   "outputs": [
    {
     "data": {
      "text/plain": [
       "osm_building_points_in_0.0075     0.023309\n",
       "osm_building_points_in_0.01       0.020490\n",
       "osm_city_nearest_population       0.551340\n",
       "reform_count_of_houses_1000       0.129452\n",
       "reform_count_of_houses_500        0.081409\n",
       "reform_house_population_1000      0.239397\n",
       "reform_house_population_500       0.145466\n",
       "reform_mean_floor_count_1000      0.168044\n",
       "reform_mean_floor_count_500       0.119407\n",
       "reform_mean_year_building_1000   -0.083919\n",
       "reform_mean_year_building_500    -0.073602\n",
       "total_square                     -0.028449\n",
       "is_moscow                         0.542226\n",
       "is_moscow_oblast                 -0.041326\n",
       "is_region                        -0.473580\n",
       "is_million                        0.344374\n",
       "is_not_million                   -0.344374\n",
       "district_rate                     0.054391\n",
       "many_offices                      0.419453\n",
       "many_food                         0.374221\n",
       "many_shops                        0.223206\n",
       "many_financial_organizations      0.408161\n",
       "many_medicine                     0.240388\n",
       "many_entertainment                0.253608\n",
       "many_historical_objects           0.220660\n",
       "many_buildings                    0.045168\n",
       "many_hotels                       0.258404\n",
       "station_rate                      0.118664\n",
       "many_stations                     0.220542\n",
       "many_land_transport               0.135832\n",
       "many_pedestrian_crossings         0.129304\n",
       "many_culture_objects              0.292499\n",
       "many_comfort_objects              0.097455\n",
       "dtype: float64"
      ]
     },
     "execution_count": 32,
     "metadata": {},
     "output_type": "execute_result"
    }
   ],
   "source": [
    "#len(important_columns)\n",
    "df_train.corrwith(train_y)"
   ]
  },
  {
   "cell_type": "code",
   "execution_count": 33,
   "metadata": {
    "pycharm": {
     "is_executing": true
    }
   },
   "outputs": [],
   "source": [
    "'''\n",
    "drop log\n",
    "-district_rate\n",
    "-reform_mean_year_building_500\n",
    "-is_million\n",
    "'''\n",
    "df_train = df_train.drop(columns='district_rate')\n",
    "df_train = df_train.drop(columns='reform_mean_year_building_500')\n",
    "df_train = df_train.drop(columns='is_million')"
   ]
  },
  {
   "cell_type": "code",
   "execution_count": 34,
   "metadata": {
    "pycharm": {
     "is_executing": true
    }
   },
   "outputs": [],
   "source": [
    "#df_train = df_train.drop(columns='total_square')"
   ]
  },
  {
   "cell_type": "code",
   "execution_count": 35,
   "metadata": {
    "pycharm": {
     "is_executing": true
    }
   },
   "outputs": [],
   "source": [
    "#df_train = df_train.drop(columns='many_financial_organizations')"
   ]
  },
  {
   "cell_type": "code",
   "execution_count": 36,
   "metadata": {
    "pycharm": {
     "is_executing": true
    }
   },
   "outputs": [],
   "source": [
    "#df_train = df_train.drop(columns='many_offices')"
   ]
  },
  {
   "cell_type": "code",
   "execution_count": 37,
   "metadata": {
    "pycharm": {
     "is_executing": true
    }
   },
   "outputs": [],
   "source": [
    "#df_train = df_train.drop(columns='reform_house_population_1000')"
   ]
  },
  {
   "cell_type": "code",
   "execution_count": 38,
   "metadata": {
    "pycharm": {
     "is_executing": true
    }
   },
   "outputs": [],
   "source": [
    "#df_train = df_train.drop(columns='reform_house_population_500')"
   ]
  },
  {
   "cell_type": "code",
   "execution_count": 39,
   "metadata": {
    "pycharm": {
     "is_executing": true
    }
   },
   "outputs": [],
   "source": [
    "#df_train = df_train.drop(columns='many_food')"
   ]
  },
  {
   "cell_type": "code",
   "execution_count": 40,
   "metadata": {
    "pycharm": {
     "is_executing": true
    }
   },
   "outputs": [],
   "source": [
    "#df_train = df_train.drop(columns='reform_count_of_houses_500')"
   ]
  },
  {
   "cell_type": "code",
   "execution_count": 41,
   "metadata": {
    "pycharm": {
     "is_executing": true
    }
   },
   "outputs": [],
   "source": [
    "#df_train = df_train.drop(columns='many_land_transport')"
   ]
  },
  {
   "cell_type": "code",
   "execution_count": 42,
   "metadata": {
    "pycharm": {
     "is_executing": true
    }
   },
   "outputs": [],
   "source": [
    "#many_comfort_objects"
   ]
  },
  {
   "cell_type": "code",
   "execution_count": 43,
   "metadata": {
    "pycharm": {
     "is_executing": true
    }
   },
   "outputs": [
    {
     "data": {
      "text/plain": [
       "['osm_building_points_in_0.0075',\n",
       " 'osm_building_points_in_0.01',\n",
       " 'osm_city_nearest_population',\n",
       " 'reform_count_of_houses_1000',\n",
       " 'reform_count_of_houses_500',\n",
       " 'reform_house_population_1000',\n",
       " 'reform_house_population_500',\n",
       " 'reform_mean_floor_count_1000',\n",
       " 'reform_mean_floor_count_500',\n",
       " 'reform_mean_year_building_1000',\n",
       " 'total_square',\n",
       " 'is_moscow',\n",
       " 'is_moscow_oblast',\n",
       " 'is_region',\n",
       " 'is_not_million',\n",
       " 'many_offices',\n",
       " 'many_food',\n",
       " 'many_shops',\n",
       " 'many_financial_organizations',\n",
       " 'many_medicine',\n",
       " 'many_entertainment',\n",
       " 'many_historical_objects',\n",
       " 'many_buildings',\n",
       " 'many_hotels',\n",
       " 'station_rate',\n",
       " 'many_stations',\n",
       " 'many_land_transport',\n",
       " 'many_pedestrian_crossings',\n",
       " 'many_culture_objects',\n",
       " 'many_comfort_objects']"
      ]
     },
     "execution_count": 43,
     "metadata": {},
     "output_type": "execute_result"
    }
   ],
   "source": [
    "important_columns = list(df_train.columns)\n",
    "important_columns"
   ]
  },
  {
   "cell_type": "code",
   "execution_count": null,
   "metadata": {
    "pycharm": {
     "is_executing": true
    }
   },
   "outputs": [],
   "source": []
  },
  {
   "cell_type": "code",
   "execution_count": 44,
   "metadata": {
    "pycharm": {
     "is_executing": true
    }
   },
   "outputs": [
    {
     "name": "stdout",
     "output_type": "stream",
     "text": [
      "0.06307626046313002\n",
      "[]\n"
     ]
    }
   ],
   "source": [
    "#mse = 100000000000\n",
    "mape = 10000000000\n",
    "_features = []\n",
    "reg = LinearRegression().fit(df_train, np.log(train_y))\n",
    "predicted = reg.predict(df_train)\n",
    "#_mse = mean_squared_error(np.log(train_y), predicted)\n",
    "mape = mean_absolute_percentage_error(np.log(train_y), predicted)\n",
    "for x in important_columns:\n",
    "    tmp_train = df_train\n",
    "    #if(len(x) == 33):\n",
    "    #    continue\n",
    "    #if(len(x) != 0):\n",
    "    #    if(len(x) == 1):\n",
    "    #        tmp_train = tmp_train.drop(columns=x[0])\n",
    "    #    else:\n",
    "    #        tmp_train = tmp_train.drop(columns=x)\n",
    "    tmp_train = tmp_train.drop(columns=x)\n",
    "    reg = LinearRegression().fit(tmp_train, np.log(train_y))\n",
    "    predicted = reg.predict(tmp_train)\n",
    "    #_mse = mean_squared_error(np.log(train_y), predicted)\n",
    "    _mape = mean_absolute_percentage_error(np.log(train_y), predicted)\n",
    "    if(mape > _mape):\n",
    "        print(x)\n",
    "        _features = x\n",
    "        mape = _mape\n",
    "print(mape)\n",
    "print(_features)"
   ]
  },
  {
   "cell_type": "code",
   "execution_count": 45,
   "metadata": {
    "pycharm": {
     "is_executing": true
    }
   },
   "outputs": [],
   "source": [
    "#df_train = df_train.drop(columns='osm_building_points_in_0.01')\n",
    "#df_train = df_train.drop(columns='reform_count_of_houses_500')\n",
    "#df_train = df_train.drop(columns='reform_house_population_500')\n",
    "#df_train = df_train.drop(columns='reform_mean_floor_count_500')\n",
    "#df_train = df_train.drop(columns='reform_mean_year_building_500')\n",
    "#df_train = df_train.drop(columns='is_not_million')\n",
    "\n",
    "#df_train.corrwith(train_y)"
   ]
  },
  {
   "cell_type": "code",
   "execution_count": 46,
   "metadata": {
    "pycharm": {
     "is_executing": true
    }
   },
   "outputs": [
    {
     "data": {
      "text/plain": [
       "False"
      ]
     },
     "execution_count": 46,
     "metadata": {},
     "output_type": "execute_result"
    }
   ],
   "source": [
    "df_train.isnull().values.any()"
   ]
  },
  {
   "cell_type": "code",
   "execution_count": 47,
   "metadata": {
    "pycharm": {
     "is_executing": true
    }
   },
   "outputs": [
    {
     "name": "stdout",
     "output_type": "stream",
     "text": [
      "0.793507254614696\n",
      "0.06307626046313002\n"
     ]
    },
    {
     "data": {
      "text/plain": [
       "(array([3.9000e+02, 2.4450e+03, 8.3060e+03, 7.5870e+03, 1.0232e+04,\n",
       "        1.4985e+04, 1.6173e+04, 1.6370e+04, 1.4580e+04, 1.3766e+04,\n",
       "        1.2405e+04, 8.5220e+03, 6.8510e+03, 5.7580e+03, 5.4790e+03,\n",
       "        4.3360e+03, 3.9330e+03, 3.4100e+03, 3.2320e+03, 2.3830e+03,\n",
       "        3.2270e+03, 1.9350e+03, 2.0520e+03, 1.5000e+03, 1.7330e+03,\n",
       "        9.4100e+02, 9.3500e+02, 9.7900e+02, 1.1820e+03, 9.5600e+02,\n",
       "        8.2000e+02, 6.5200e+02, 7.4900e+02, 6.7900e+02, 5.3100e+02,\n",
       "        4.2600e+02, 5.0400e+02, 5.6700e+02, 4.6100e+02, 6.4500e+02,\n",
       "        6.5700e+02, 6.2200e+02, 5.4400e+02, 5.0400e+02, 4.6200e+02,\n",
       "        5.2800e+02, 5.6900e+02, 7.3400e+02, 6.8400e+02, 8.1300e+02,\n",
       "        1.0480e+03, 1.3030e+03, 7.8400e+02, 8.7800e+02, 9.0100e+02,\n",
       "        7.7500e+02, 6.8800e+02, 6.3200e+02, 3.6400e+02, 3.3200e+02,\n",
       "        4.4200e+02, 5.1000e+02, 5.4000e+02, 5.9400e+02, 5.8800e+02,\n",
       "        6.2900e+02, 6.2600e+02, 8.3400e+02, 8.6500e+02, 8.5800e+02,\n",
       "        1.0710e+03, 6.1100e+02, 3.0900e+02, 3.7600e+02, 2.3400e+02,\n",
       "        1.3800e+02, 1.4100e+02, 9.3000e+01, 4.7000e+01, 8.3000e+01,\n",
       "        7.5000e+01, 5.4000e+01, 4.7000e+01, 2.8000e+01, 3.0000e+01,\n",
       "        6.1000e+01, 1.6000e+01, 1.2000e+01, 1.6000e+01, 2.1000e+01,\n",
       "        6.0000e+00, 6.0000e+00, 1.0000e+00, 2.0000e+00, 7.0000e+00,\n",
       "        2.5000e+01, 3.0000e+00, 0.0000e+00, 0.0000e+00, 1.0000e+00]),\n",
       " array([1.44966671e+02, 5.16597847e+03, 1.01869903e+04, 1.52080021e+04,\n",
       "        2.02290139e+04, 2.52500256e+04, 3.02710374e+04, 3.52920492e+04,\n",
       "        4.03130610e+04, 4.53340728e+04, 5.03550846e+04, 5.53760964e+04,\n",
       "        6.03971082e+04, 6.54181200e+04, 7.04391318e+04, 7.54601436e+04,\n",
       "        8.04811554e+04, 8.55021672e+04, 9.05231790e+04, 9.55441908e+04,\n",
       "        1.00565203e+05, 1.05586214e+05, 1.10607226e+05, 1.15628238e+05,\n",
       "        1.20649250e+05, 1.25670262e+05, 1.30691273e+05, 1.35712285e+05,\n",
       "        1.40733297e+05, 1.45754309e+05, 1.50775321e+05, 1.55796332e+05,\n",
       "        1.60817344e+05, 1.65838356e+05, 1.70859368e+05, 1.75880379e+05,\n",
       "        1.80901391e+05, 1.85922403e+05, 1.90943415e+05, 1.95964427e+05,\n",
       "        2.00985438e+05, 2.06006450e+05, 2.11027462e+05, 2.16048474e+05,\n",
       "        2.21069486e+05, 2.26090497e+05, 2.31111509e+05, 2.36132521e+05,\n",
       "        2.41153533e+05, 2.46174545e+05, 2.51195556e+05, 2.56216568e+05,\n",
       "        2.61237580e+05, 2.66258592e+05, 2.71279604e+05, 2.76300615e+05,\n",
       "        2.81321627e+05, 2.86342639e+05, 2.91363651e+05, 2.96384663e+05,\n",
       "        3.01405674e+05, 3.06426686e+05, 3.11447698e+05, 3.16468710e+05,\n",
       "        3.21489722e+05, 3.26510733e+05, 3.31531745e+05, 3.36552757e+05,\n",
       "        3.41573769e+05, 3.46594781e+05, 3.51615792e+05, 3.56636804e+05,\n",
       "        3.61657816e+05, 3.66678828e+05, 3.71699840e+05, 3.76720851e+05,\n",
       "        3.81741863e+05, 3.86762875e+05, 3.91783887e+05, 3.96804898e+05,\n",
       "        4.01825910e+05, 4.06846922e+05, 4.11867934e+05, 4.16888946e+05,\n",
       "        4.21909957e+05, 4.26930969e+05, 4.31951981e+05, 4.36972993e+05,\n",
       "        4.41994005e+05, 4.47015016e+05, 4.52036028e+05, 4.57057040e+05,\n",
       "        4.62078052e+05, 4.67099064e+05, 4.72120075e+05, 4.77141087e+05,\n",
       "        4.82162099e+05, 4.87183111e+05, 4.92204123e+05, 4.97225134e+05,\n",
       "        5.02246146e+05]),\n",
       " <BarContainer object of 100 artists>)"
      ]
     },
     "execution_count": 47,
     "metadata": {},
     "output_type": "execute_result"
    },
    {
     "data": {
      "image/png": "[encoded data removed]",
      "text/plain": [
       "<Figure size 640x480 with 1 Axes>"
      ]
     },
     "metadata": {},
     "output_type": "display_data"
    }
   ],
   "source": [
    "reg = LinearRegression().fit(df_train, np.log(train_y))\n",
    "predicted = reg.predict(df_train)\n",
    "print(mean_squared_error(np.log(train_y), predicted))\n",
    "print(mean_absolute_percentage_error(np.log(train_y), predicted))\n",
    "#tmp = predicted[predicted > 0.0].mean()\n",
    "#predicted[predicted <0.0] = tmp\n",
    "\n",
    "plt.hist(train_y, 100)\n",
    "plt.hist(np.exp(predicted), 100)"
   ]
  },
  {
   "cell_type": "code",
   "execution_count": 48,
   "metadata": {
    "pycharm": {
     "is_executing": true
    }
   },
   "outputs": [],
   "source": [
    "df_test = pd.read_csv('./andan-2022-autumn-lab-4/test_x.csv')\n",
    "ID = df_test['id']\n",
    "df_test.drop(['id', 'lat', 'lng', 'osm_city_nearest_name', 'date', 'street', 'floor', 'osm_city_closest_dist'], axis=1, inplace=True)\n",
    "\n",
    "df_test['reform_house_population_500'] = df_test['reform_house_population_500'].fillna(df_test['reform_house_population_500'].median())\n",
    "df_test['reform_house_population_1000'] = df_test['reform_house_population_1000'].fillna(df_test['reform_house_population_1000'].median())\n",
    "df_test['reform_mean_floor_count_1000'] = df_test['reform_mean_floor_count_1000'].fillna(df_test['reform_mean_floor_count_1000'].median())\n",
    "# df['reform_mean_floor_count_1000'] = df['reform_mean_floor_count_1000'].apply(lambda x: np.log(x+1))\n",
    "df_test['reform_mean_floor_count_500'] = df_test['reform_mean_floor_count_500'].fillna(df_test['reform_mean_floor_count_500'].median())\n",
    "df_test['reform_mean_year_building_1000'] = df_test['reform_mean_year_building_1000'].fillna(df_test['reform_mean_year_building_1000'].median())\n",
    "df_test['reform_mean_year_building_500'] = df_test['reform_mean_year_building_500'].fillna(df_test['reform_mean_year_building_500'].median())\n"
   ]
  },
  {
   "cell_type": "code",
   "execution_count": 49,
   "metadata": {
    "pycharm": {
     "is_executing": true
    }
   },
   "outputs": [
    {
     "name": "stdout",
     "output_type": "stream",
     "text": [
      "Moscow: 13980\n",
      "Moscow oblast: 4061\n",
      "Region: 50784\n",
      "is_million: 34300\n",
      "is_not_million: 34525\n"
     ]
    }
   ],
   "source": [
    "location(df_test)\n",
    "cities_1m(df_test)\n",
    "make_district(df_test)\n",
    "offices(df_test)\n",
    "food(df_test)\n",
    "shops(df_test)\n",
    "financial_organizations(df_test)\n",
    "medecine(df_test)\n",
    "entertainment(df_test)\n",
    "hist_obj(df_test)\n",
    "buildings(df_test)\n",
    "hotels(df_test)\n",
    "stations_score(df_test)\n",
    "stations(df_test)\n",
    "land_transport(df_test)\n",
    "pedestrian_crossings(df_test)\n",
    "culture_objects(df_test)\n",
    "comfort_objects(df_test)\n"
   ]
  },
  {
   "cell_type": "code",
   "execution_count": 50,
   "metadata": {
    "pycharm": {
     "is_executing": true
    }
   },
   "outputs": [
    {
     "name": "stderr",
     "output_type": "stream",
     "text": [
      "/tmp/ipykernel_33939/1675637875.py:10: FutureWarning: The frame.append method is deprecated and will be removed from pandas in a future version. Use pandas.concat instead.\n",
      "  missing_values_df = missing_values_df.append({\n"
     ]
    },
    {
     "data": {
      "text/html": [
       "<div>\n",
       "<style scoped>\n",
       "    .dataframe tbody tr th:only-of-type {\n",
       "        vertical-align: middle;\n",
       "    }\n",
       "\n",
       "    .dataframe tbody tr th {\n",
       "        vertical-align: top;\n",
       "    }\n",
       "\n",
       "    .dataframe thead th {\n",
       "        text-align: right;\n",
       "    }\n",
       "</style>\n",
       "<table border=\"1\" class=\"dataframe\">\n",
       "  <thead>\n",
       "    <tr style=\"text-align: right;\">\n",
       "      <th></th>\n",
       "      <th>dtype</th>\n",
       "      <th>Feature</th>\n",
       "      <th>Number Of Missing Values</th>\n",
       "      <th>Percentage of Missing values</th>\n",
       "    </tr>\n",
       "  </thead>\n",
       "  <tbody>\n",
       "    <tr>\n",
       "      <th>0</th>\n",
       "      <td>float64</td>\n",
       "      <td>osm_city_nearest_population</td>\n",
       "      <td>19</td>\n",
       "      <td>0.03</td>\n",
       "    </tr>\n",
       "  </tbody>\n",
       "</table>\n",
       "</div>"
      ],
      "text/plain": [
       "     dtype                      Feature Number Of Missing Values  \\\n",
       "0  float64  osm_city_nearest_population                       19   \n",
       "\n",
       "   Percentage of Missing values  \n",
       "0                          0.03  "
      ]
     },
     "execution_count": 50,
     "metadata": {},
     "output_type": "execute_result"
    }
   ],
   "source": [
    "print_missing_values(df_test)\n"
   ]
  },
  {
   "cell_type": "code",
   "execution_count": 51,
   "metadata": {
    "pycharm": {
     "is_executing": true
    }
   },
   "outputs": [
    {
     "data": {
      "text/html": [
       "<div>\n",
       "<style scoped>\n",
       "    .dataframe tbody tr th:only-of-type {\n",
       "        vertical-align: middle;\n",
       "    }\n",
       "\n",
       "    .dataframe tbody tr th {\n",
       "        vertical-align: top;\n",
       "    }\n",
       "\n",
       "    .dataframe thead th {\n",
       "        text-align: right;\n",
       "    }\n",
       "</style>\n",
       "<table border=\"1\" class=\"dataframe\">\n",
       "  <thead>\n",
       "    <tr style=\"text-align: right;\">\n",
       "      <th></th>\n",
       "      <th>dtype</th>\n",
       "      <th>Feature</th>\n",
       "      <th>Number Of Missing Values</th>\n",
       "      <th>Percentage of Missing values</th>\n",
       "    </tr>\n",
       "  </thead>\n",
       "  <tbody>\n",
       "  </tbody>\n",
       "</table>\n",
       "</div>"
      ],
      "text/plain": [
       "Empty DataFrame\n",
       "Columns: [dtype, Feature, Number Of Missing Values, Percentage of Missing values]\n",
       "Index: []"
      ]
     },
     "execution_count": 51,
     "metadata": {},
     "output_type": "execute_result"
    }
   ],
   "source": [
    "df_test['osm_city_nearest_population'] = df_test['osm_city_nearest_population'].fillna(df_test['osm_city_nearest_population'].median())\n",
    "print_missing_values(df_test)"
   ]
  },
  {
   "cell_type": "code",
   "execution_count": 52,
   "metadata": {
    "pycharm": {
     "is_executing": true
    }
   },
   "outputs": [],
   "source": [
    "df_test = df_test.drop(columns='district_rate')\n",
    "df_test = df_test.drop(columns='reform_mean_year_building_500')\n",
    "df_test = df_test.drop(columns='is_million')\n",
    "predicted = reg.predict(df_test)"
   ]
  },
  {
   "cell_type": "code",
   "execution_count": 53,
   "metadata": {
    "pycharm": {
     "is_executing": true
    }
   },
   "outputs": [
    {
     "data": {
      "text/plain": [
       "(array([1.330e+02, 6.750e+02, 2.599e+03, 2.409e+03, 3.038e+03, 4.688e+03,\n",
       "        5.051e+03, 5.292e+03, 4.745e+03, 4.516e+03, 4.355e+03, 3.211e+03,\n",
       "        2.442e+03, 1.988e+03, 1.870e+03, 1.787e+03, 1.194e+03, 1.149e+03,\n",
       "        1.016e+03, 9.710e+02, 7.530e+02, 1.035e+03, 6.220e+02, 6.090e+02,\n",
       "        4.850e+02, 5.210e+02, 3.260e+02, 2.720e+02, 2.720e+02, 4.070e+02,\n",
       "        3.570e+02, 2.410e+02, 2.490e+02, 1.930e+02, 2.490e+02, 2.420e+02,\n",
       "        1.650e+02, 1.710e+02, 1.760e+02, 1.700e+02, 1.540e+02, 2.300e+02,\n",
       "        2.090e+02, 1.980e+02, 1.360e+02, 1.510e+02, 1.410e+02, 1.570e+02,\n",
       "        1.820e+02, 2.430e+02, 2.200e+02, 2.630e+02, 3.040e+02, 4.270e+02,\n",
       "        2.630e+02, 2.830e+02, 3.040e+02, 2.270e+02, 2.490e+02, 1.930e+02,\n",
       "        1.400e+02, 1.390e+02, 1.290e+02, 1.620e+02, 2.010e+02, 1.440e+02,\n",
       "        1.740e+02, 2.070e+02, 2.120e+02, 2.440e+02, 3.080e+02, 2.380e+02,\n",
       "        2.850e+02, 3.160e+02, 1.580e+02, 1.040e+02, 1.240e+02, 7.300e+01,\n",
       "        4.200e+01, 4.000e+01, 3.300e+01, 1.300e+01, 2.300e+01, 2.400e+01,\n",
       "        1.400e+01, 1.300e+01, 6.000e+00, 1.300e+01, 2.300e+01, 6.000e+00,\n",
       "        5.000e+00, 5.000e+00, 6.000e+00, 8.000e+00, 2.000e+00, 0.000e+00,\n",
       "        0.000e+00, 3.000e+00, 1.000e+00, 9.000e+00]),\n",
       " array([1.79400624e+02, 5.00561165e+03, 9.83182267e+03, 1.46580337e+04,\n",
       "        1.94842447e+04, 2.43104557e+04, 2.91366668e+04, 3.39628778e+04,\n",
       "        3.87890888e+04, 4.36152998e+04, 4.84415108e+04, 5.32677219e+04,\n",
       "        5.80939329e+04, 6.29201439e+04, 6.77463549e+04, 7.25725659e+04,\n",
       "        7.73987770e+04, 8.22249880e+04, 8.70511990e+04, 9.18774100e+04,\n",
       "        9.67036211e+04, 1.01529832e+05, 1.06356043e+05, 1.11182254e+05,\n",
       "        1.16008465e+05, 1.20834676e+05, 1.25660887e+05, 1.30487098e+05,\n",
       "        1.35313309e+05, 1.40139520e+05, 1.44965731e+05, 1.49791942e+05,\n",
       "        1.54618153e+05, 1.59444364e+05, 1.64270575e+05, 1.69096786e+05,\n",
       "        1.73922997e+05, 1.78749208e+05, 1.83575419e+05, 1.88401630e+05,\n",
       "        1.93227841e+05, 1.98054053e+05, 2.02880264e+05, 2.07706475e+05,\n",
       "        2.12532686e+05, 2.17358897e+05, 2.22185108e+05, 2.27011319e+05,\n",
       "        2.31837530e+05, 2.36663741e+05, 2.41489952e+05, 2.46316163e+05,\n",
       "        2.51142374e+05, 2.55968585e+05, 2.60794796e+05, 2.65621007e+05,\n",
       "        2.70447218e+05, 2.75273429e+05, 2.80099640e+05, 2.84925851e+05,\n",
       "        2.89752062e+05, 2.94578273e+05, 2.99404484e+05, 3.04230695e+05,\n",
       "        3.09056906e+05, 3.13883117e+05, 3.18709328e+05, 3.23535539e+05,\n",
       "        3.28361750e+05, 3.33187961e+05, 3.38014172e+05, 3.42840383e+05,\n",
       "        3.47666594e+05, 3.52492805e+05, 3.57319016e+05, 3.62145227e+05,\n",
       "        3.66971438e+05, 3.71797649e+05, 3.76623860e+05, 3.81450071e+05,\n",
       "        3.86276282e+05, 3.91102493e+05, 3.95928704e+05, 4.00754915e+05,\n",
       "        4.05581126e+05, 4.10407337e+05, 4.15233548e+05, 4.20059759e+05,\n",
       "        4.24885971e+05, 4.29712182e+05, 4.34538393e+05, 4.39364604e+05,\n",
       "        4.44190815e+05, 4.49017026e+05, 4.53843237e+05, 4.58669448e+05,\n",
       "        4.63495659e+05, 4.68321870e+05, 4.73148081e+05, 4.77974292e+05,\n",
       "        4.82800503e+05]),\n",
       " <BarContainer object of 100 artists>)"
      ]
     },
     "execution_count": 53,
     "metadata": {},
     "output_type": "execute_result"
    },
    {
     "data": {
      "image/png": "[encoded data removed]",
      "text/plain": [
       "<Figure size 640x480 with 1 Axes>"
      ]
     },
     "metadata": {},
     "output_type": "display_data"
    }
   ],
   "source": [
    "plt.hist(train_y, 100)\n",
    "plt.hist(np.exp(predicted), 100)"
   ]
  },
  {
   "cell_type": "code",
   "execution_count": 54,
   "metadata": {
    "pycharm": {
     "is_executing": true
    }
   },
   "outputs": [
    {
     "name": "stdout",
     "output_type": "stream",
     "text": [
      "10.931679467573852\n",
      "10.816634314638197\n",
      "0.7312290559084857\n",
      "10.396490797591854\n",
      "11.400717345350436\n"
     ]
    },
    {
     "data": {
      "text/plain": [
       "(array([1.000e+00, 0.000e+00, 0.000e+00, 0.000e+00, 0.000e+00, 0.000e+00,\n",
       "        0.000e+00, 1.000e+00, 1.000e+00, 0.000e+00, 0.000e+00, 2.000e+00,\n",
       "        0.000e+00, 1.000e+00, 0.000e+00, 2.000e+00, 0.000e+00, 3.000e+00,\n",
       "        6.000e+00, 3.000e+00, 1.000e+00, 1.000e+00, 1.000e+00, 2.000e+00,\n",
       "        2.000e+00, 1.000e+00, 5.000e+00, 2.000e+00, 1.000e+00, 1.000e+00,\n",
       "        5.000e+00, 1.000e+00, 6.000e+00, 5.000e+00, 8.000e+00, 6.000e+00,\n",
       "        4.000e+00, 8.000e+00, 1.300e+01, 1.200e+01, 1.300e+01, 1.400e+01,\n",
       "        1.300e+01, 2.300e+01, 2.700e+01, 7.000e+00, 4.200e+01, 5.000e+01,\n",
       "        1.010e+02, 2.460e+02, 2.420e+02, 7.000e+02, 5.000e+02, 4.470e+02,\n",
       "        4.830e+02, 5.310e+02, 5.370e+02, 6.780e+02, 7.360e+02, 9.150e+02,\n",
       "        9.260e+02, 1.276e+03, 1.783e+03, 2.108e+03, 2.228e+03, 2.705e+03,\n",
       "        2.922e+03, 3.282e+03, 3.148e+03, 3.402e+03, 3.348e+03, 3.628e+03,\n",
       "        3.080e+03, 2.451e+03, 2.188e+03, 2.116e+03, 2.064e+03, 1.619e+03,\n",
       "        1.486e+03, 1.419e+03, 1.498e+03, 1.116e+03, 9.890e+02, 6.230e+02,\n",
       "        8.410e+02, 6.380e+02, 6.360e+02, 4.810e+02, 5.950e+02, 6.390e+02,\n",
       "        5.880e+02, 1.073e+03, 1.344e+03, 8.270e+02, 8.760e+02, 1.388e+03,\n",
       "        8.320e+02, 1.580e+02, 6.500e+01, 2.900e+01]),\n",
       " array([ 5.18962143,  5.2685988 ,  5.34757617,  5.42655355,  5.50553092,\n",
       "         5.58450829,  5.66348567,  5.74246304,  5.82144042,  5.90041779,\n",
       "         5.97939516,  6.05837254,  6.13734991,  6.21632729,  6.29530466,\n",
       "         6.37428203,  6.45325941,  6.53223678,  6.61121415,  6.69019153,\n",
       "         6.7691689 ,  6.84814628,  6.92712365,  7.00610102,  7.0850784 ,\n",
       "         7.16405577,  7.24303315,  7.32201052,  7.40098789,  7.47996527,\n",
       "         7.55894264,  7.63792001,  7.71689739,  7.79587476,  7.87485214,\n",
       "         7.95382951,  8.03280688,  8.11178426,  8.19076163,  8.26973901,\n",
       "         8.34871638,  8.42769375,  8.50667113,  8.5856485 ,  8.66462587,\n",
       "         8.74360325,  8.82258062,  8.901558  ,  8.98053537,  9.05951274,\n",
       "         9.13849012,  9.21746749,  9.29644487,  9.37542224,  9.45439961,\n",
       "         9.53337699,  9.61235436,  9.69133173,  9.77030911,  9.84928648,\n",
       "         9.92826386, 10.00724123, 10.0862186 , 10.16519598, 10.24417335,\n",
       "        10.32315073, 10.4021281 , 10.48110547, 10.56008285, 10.63906022,\n",
       "        10.71803759, 10.79701497, 10.87599234, 10.95496972, 11.03394709,\n",
       "        11.11292446, 11.19190184, 11.27087921, 11.34985659, 11.42883396,\n",
       "        11.50781133, 11.58678871, 11.66576608, 11.74474345, 11.82372083,\n",
       "        11.9026982 , 11.98167558, 12.06065295, 12.13963032, 12.2186077 ,\n",
       "        12.29758507, 12.37656245, 12.45553982, 12.53451719, 12.61349457,\n",
       "        12.69247194, 12.77144931, 12.85042669, 12.92940406, 13.00838144,\n",
       "        13.08735881]),\n",
       " <BarContainer object of 100 artists>)"
      ]
     },
     "execution_count": 54,
     "metadata": {},
     "output_type": "execute_result"
    },
    {
     "data": {
      "image/png": "[encoded data removed]",
      "text/plain": [
       "<Figure size 640x480 with 1 Axes>"
      ]
     },
     "metadata": {},
     "output_type": "display_data"
    }
   ],
   "source": [
    "print(predicted.mean())\n",
    "print(np.median(predicted))\n",
    "print(predicted.var())\n",
    "print(np.quantile(predicted, 0.25))\n",
    "print(np.quantile(predicted, 0.75))\n",
    "plt.hist(predicted, 100)"
   ]
  },
  {
   "cell_type": "code",
   "execution_count": 55,
   "metadata": {
    "pycharm": {
     "is_executing": true
    }
   },
   "outputs": [
    {
     "data": {
      "text/plain": [
       "(array([1.000e+00, 0.000e+00, 0.000e+00, 0.000e+00, 0.000e+00, 0.000e+00,\n",
       "        0.000e+00, 1.000e+00, 1.000e+00, 0.000e+00, 0.000e+00, 2.000e+00,\n",
       "        0.000e+00, 1.000e+00, 0.000e+00, 2.000e+00, 0.000e+00, 3.000e+00,\n",
       "        6.000e+00, 3.000e+00, 1.000e+00, 1.000e+00, 1.000e+00, 2.000e+00,\n",
       "        2.000e+00, 1.000e+00, 5.000e+00, 2.000e+00, 1.000e+00, 1.000e+00,\n",
       "        5.000e+00, 1.000e+00, 6.000e+00, 5.000e+00, 8.000e+00, 6.000e+00,\n",
       "        4.000e+00, 8.000e+00, 1.300e+01, 1.200e+01, 1.300e+01, 1.400e+01,\n",
       "        1.300e+01, 2.300e+01, 2.700e+01, 7.000e+00, 4.200e+01, 5.000e+01,\n",
       "        1.010e+02, 2.460e+02, 2.420e+02, 7.000e+02, 5.000e+02, 4.470e+02,\n",
       "        4.830e+02, 5.310e+02, 5.370e+02, 6.780e+02, 7.360e+02, 9.150e+02,\n",
       "        1.534e+03, 2.676e+03, 3.387e+03, 3.765e+03, 3.803e+03, 4.056e+03,\n",
       "        1.542e+03, 1.727e+03, 1.727e+03, 1.653e+03, 1.693e+03, 1.855e+03,\n",
       "        1.791e+03, 1.562e+03, 1.381e+03, 1.246e+03, 1.178e+03, 1.208e+03,\n",
       "        1.478e+03, 2.504e+03, 2.564e+03, 2.256e+03, 1.849e+03, 1.401e+03,\n",
       "        1.662e+03, 1.358e+03, 6.640e+02, 4.810e+02, 5.950e+02, 6.390e+02,\n",
       "        5.880e+02, 1.073e+03, 1.344e+03, 8.270e+02, 8.760e+02, 1.388e+03,\n",
       "        8.320e+02, 1.580e+02, 6.500e+01, 2.900e+01]),\n",
       " array([ 8.00312787,  8.04261656,  8.08210524,  8.12159393,  8.16108262,\n",
       "         8.2005713 ,  8.24005999,  8.27954868,  8.31903737,  8.35852605,\n",
       "         8.39801474,  8.43750343,  8.47699211,  8.5164808 ,  8.55596949,\n",
       "         8.59545817,  8.63494686,  8.67443555,  8.71392423,  8.75341292,\n",
       "         8.79290161,  8.8323903 ,  8.87187898,  8.91136767,  8.95085636,\n",
       "         8.99034504,  9.02983373,  9.06932242,  9.1088111 ,  9.14829979,\n",
       "         9.18778848,  9.22727716,  9.26676585,  9.30625454,  9.34574323,\n",
       "         9.38523191,  9.4247206 ,  9.46420929,  9.50369797,  9.54318666,\n",
       "         9.58267535,  9.62216403,  9.66165272,  9.70114141,  9.74063009,\n",
       "         9.78011878,  9.81960747,  9.85909616,  9.89858484,  9.93807353,\n",
       "         9.97756222, 10.0170509 , 10.05653959, 10.09602828, 10.13551696,\n",
       "        10.17500565, 10.21449434, 10.25398302, 10.29347171, 10.3329604 ,\n",
       "        10.37244909, 10.41193777, 10.45142646, 10.49091515, 10.53040383,\n",
       "        10.56989252, 10.60938121, 10.64886989, 10.68835858, 10.72784727,\n",
       "        10.76733595, 10.80682464, 10.84631333, 10.88580202, 10.9252907 ,\n",
       "        10.96477939, 11.00426808, 11.04375676, 11.08324545, 11.12273414,\n",
       "        11.16222282, 11.20171151, 11.2412002 , 11.28068888, 11.32017757,\n",
       "        11.35966626, 11.39915495, 11.43864363, 11.47813232, 11.51762101,\n",
       "        11.55710969, 11.59659838, 11.63608707, 11.67557575, 11.71506444,\n",
       "        11.75455313, 11.79404181, 11.8335305 , 11.87301919, 11.91250788,\n",
       "        11.95199656]),\n",
       " <BarContainer object of 100 artists>)"
      ]
     },
     "execution_count": 55,
     "metadata": {},
     "output_type": "execute_result"
    },
    {
     "data": {
      "image/png": "[encoded data removed]",
      "text/plain": [
       "<Figure size 640x480 with 1 Axes>"
      ]
     },
     "metadata": {},
     "output_type": "display_data"
    }
   ],
   "source": [
    "median = np.median(predicted)\n",
    "quantile25 = np.quantile(predicted, 0.25)\n",
    "quantile75 = np.quantile(predicted, 0.75)\n",
    "predicted[predicted < quantile25] = (predicted[predicted < quantile25] + median)/2\n",
    "predicted[predicted > quantile75] = (predicted[predicted > quantile75] + median)/2\n",
    "plt.hist(predicted, 100)"
   ]
  },
  {
   "cell_type": "code",
   "execution_count": 56,
   "metadata": {
    "pycharm": {
     "is_executing": true
    }
   },
   "outputs": [],
   "source": [
    "p = pd.DataFrame()\n",
    "p[\"id\"] = range(0,68825)\n",
    "p[\"per_square_meter_price\"] = predicted/5\n",
    "p.to_csv('./andan-2022-autumn-lab-4/submit.csv', index=False)"
   ]
  },
  {
   "cell_type": "code",
   "execution_count": null,
   "metadata": {
    "pycharm": {
     "is_executing": true
    }
   },
   "outputs": [],
   "source": []
  }
 ],
 "metadata": {
  "kernelspec": {
   "display_name": "Python 3 (ipykernel)",
   "language": "python",
   "name": "python3"
  },
  "language_info": {
   "codemirror_mode": {
    "name": "ipython",
    "version": 3
   },
   "file_extension": ".py",
   "mimetype": "text/x-python",
   "name": "python",
   "nbconvert_exporter": "python",
   "pygments_lexer": "ipython3",
   "version": "3.9.15"
  }
 },
 "nbformat": 4,
 "nbformat_minor": 1
}

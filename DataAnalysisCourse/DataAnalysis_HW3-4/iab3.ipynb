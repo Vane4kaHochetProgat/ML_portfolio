{
 "cells": [
  {
   "cell_type": "code",
   "execution_count": 16,
   "metadata": {},
   "outputs": [],
   "source": [
    "import numpy as np\n",
    "import pandas as pd\n",
    "import matplotlib.pyplot as plt\n",
    "import scipy.spatial.distance"
   ]
  },
  {
   "cell_type": "code",
   "execution_count": 17,
   "metadata": {},
   "outputs": [],
   "source": [
    "def swap_columns(df, col1, col2):\n",
    "    col_list = list(df.columns)\n",
    "    x, y = col_list.index(col1), col_list.index(col2)\n",
    "    col_list[y], col_list[x] = col_list[x], col_list[y]\n",
    "    df = df[col_list]\n",
    "    return df"
   ]
  },
  {
   "cell_type": "code",
   "execution_count": 18,
   "metadata": {},
   "outputs": [
    {
     "name": "stdout",
     "output_type": "stream",
     "text": [
      "<class 'pandas.core.frame.DataFrame'>\n",
      "RangeIndex: 73995 entries, 0 to 73994\n",
      "Data columns (total 72 columns):\n",
      " #   Column                          Non-Null Count  Dtype  \n",
      "---  ------                          --------------  -----  \n",
      " 0   user_id                         73995 non-null  uint64 \n",
      " 1   org_id                          73995 non-null  uint64 \n",
      " 2   rating                          73995 non-null  float64\n",
      " 3   ts                              73995 non-null  int64  \n",
      " 4   user_city                       73995 non-null  object \n",
      " 5   org_city                        73995 non-null  object \n",
      " 6   average_bill                    45433 non-null  float64\n",
      " 7   rating_org                      73995 non-null  float64\n",
      " 8   rubrics                         73995 non-null  object \n",
      " 9   food_delivery                   73995 non-null  int64  \n",
      " 10  breakfast                       73995 non-null  int64  \n",
      " 11  takeaway                        73995 non-null  int64  \n",
      " 12  summer_terrace                  73995 non-null  int64  \n",
      " 13  wi_fi                           73995 non-null  int64  \n",
      " 14  business_lunch                  73995 non-null  int64  \n",
      " 15  payment_by_credit_card          73995 non-null  int64  \n",
      " 16  coffee_to_go                    73995 non-null  int64  \n",
      " 17  closed_for_quarantine           73995 non-null  int64  \n",
      " 18  online_takeaway                 73995 non-null  int64  \n",
      " 19  karaoke                         73995 non-null  int64  \n",
      " 20  special_menu                    73995 non-null  int64  \n",
      " 21  sports_broadcasts               73995 non-null  int64  \n",
      " 22  food_court1                     73995 non-null  int64  \n",
      " 23  craft_beer                      73995 non-null  int64  \n",
      " 24  projector                       73995 non-null  int64  \n",
      " 25  gift_certificate                73995 non-null  int64  \n",
      " 26  wheelchair_access               73995 non-null  int64  \n",
      " 27  automatic_door                  73995 non-null  int64  \n",
      " 28  food_product_delivery           73995 non-null  int64  \n",
      " 29  car_park                        73995 non-null  int64  \n",
      " 30  parking_disabled                73995 non-null  int64  \n",
      " 31  toilet_for_disabled             73995 non-null  int64  \n",
      " 32  promotions                      73995 non-null  int64  \n",
      " 33  cafe                            73995 non-null  int64  \n",
      " 34  minimum_order                   73995 non-null  int64  \n",
      " 35  free_delivery                   73995 non-null  int64  \n",
      " 36  self_service_kiosks             73995 non-null  int64  \n",
      " 37  has_restaurant                  73995 non-null  int64  \n",
      " 38  air_conditioning                73995 non-null  int64  \n",
      " 39  pets                            73995 non-null  int64  \n",
      " 40  elevator                        73995 non-null  int64  \n",
      " 41  has_bar                         73995 non-null  int64  \n",
      " 42  internet access                 73995 non-null  int64  \n",
      " 43  privilege_tickets               73995 non-null  int64  \n",
      " 44  organic_food                    73995 non-null  int64  \n",
      " 45  vip_zone                        73995 non-null  int64  \n",
      " 46  hall_capacity                   73995 non-null  int64  \n",
      " 47  face_control                    73995 non-null  int64  \n",
      " 48  show_program                    73995 non-null  int64  \n",
      " 49  music                           73995 non-null  int64  \n",
      " 50  chillout                        73995 non-null  int64  \n",
      " 51  dancefloor                      73995 non-null  int64  \n",
      " 52  dress_code                      73995 non-null  int64  \n",
      " 53  billiards                       73995 non-null  int64  \n",
      " 54  strip                           73995 non-null  int64  \n",
      " 55  elevator_wheelchair_accessible  73995 non-null  int64  \n",
      " 56  ramp                            73995 non-null  int64  \n",
      " 57  around_the_clock_work1          73995 non-null  int64  \n",
      " 58  pickup                          73995 non-null  int64  \n",
      " 59  farm_products                   73995 non-null  int64  \n",
      " 60  delivery                        73995 non-null  int64  \n",
      " 61  coffee_shop                     73995 non-null  int64  \n",
      " 62  call_button                     73995 non-null  int64  \n",
      " 63  wheelchair_accessible           73995 non-null  int64  \n",
      " 64  table_games                     73995 non-null  int64  \n",
      " 65  vinotheque                      73995 non-null  int64  \n",
      " 66  cakes_for_different_occasions   73995 non-null  int64  \n",
      " 67  accepted_credit_cards           73995 non-null  int64  \n",
      " 68  kalyan                          73995 non-null  int64  \n",
      " 69  teahouse                        73995 non-null  int64  \n",
      " 70  bread_from_tandoor              73995 non-null  int64  \n",
      " 71  handmade_goods                  73995 non-null  int64  \n",
      "dtypes: float64(3), int64(64), object(3), uint64(2)\n",
      "memory usage: 40.6+ MB\n"
     ]
    }
   ],
   "source": [
    "train = pd.read_csv('./andan-2022-autumn-lab-3/train.csv')\n",
    "#train.info()\n",
    "#train['rubrics'].value_counts()\n",
    "smooth = train.rating_org.mean()\n",
    "means = train.groupby(['rubrics'])['rating_org'].mean()\n",
    "train.info()"
   ]
  },
  {
   "cell_type": "code",
   "execution_count": 19,
   "metadata": {},
   "outputs": [],
   "source": [
    "#not used\n",
    "def split_in_right_categories(df):\n",
    "    df['rubrics'] = df['rubrics'].replace(['Бар, паб'], 'Алкоголь')\n",
    "    df['rubrics'] = df['rubrics'].replace(['Спортбар'], 'Алкоголь')\n",
    "    df['rubrics'] = df['rubrics'].replace(['Кальян-бар'], 'Алкоголь')\n",
    "    df['rubrics'] = df['rubrics'].replace(['Булочная, пекарня'], 'Булки')\n",
    "    df['rubrics'] = df['rubrics'].replace(['Кондитерская'], 'Булки')\n",
    "    df['rubrics'] = df['rubrics'].replace(['Пиццерия'], 'Этническое')\n",
    "    df['rubrics'] = df['rubrics'].replace(['Суши-бар'], 'Этническое')\n",
    "    df['rubrics'] = df['rubrics'].replace(['Бар безалкогольных напитков'], 'Горячие напитки')\n",
    "    df['rubrics'] = df['rubrics'].replace(['Кофейня'], 'Горячие напитки')\n",
    "    df['rubrics'] = df['rubrics'].replace(['Кофе с собой'], 'Горячие напитки')\n",
    "    df['rubrics'] = df['rubrics'].replace(['Быстрое питание'], 'Дешево')\n",
    "    df['rubrics'] = df['rubrics'].replace(['Столовая'], 'Дешево')\n",
    "    return df\n",
    "\n",
    "def split_in_right_params(df):\n",
    "    df1 = pd.DataFrame()\n",
    "    df1['HOME'] = [int(x1 == x2) for (x1, x2) in zip(df[\"user_city\"], df[\"org_city\"])]\n",
    "    # df1['average_bill'] = df.average_bill\n",
    "    df1['rating'] = (df.rating - df.rating.min())/(df.rating.max() - df.rating.min())\n",
    "    df1['rubrics'] =  df.rubrics\n",
    "    df1['TAKEAWAY'] = df.takeaway\n",
    "    df1['DELIVERY'] = (df.food_delivery + df. food_product_delivery + df.delivery + df.free_delivery + df.online_takeaway)/6\n",
    "    df1['LUST'] = (df.dancefloor + df.kalyan + df.strip)/3\n",
    "    df1['DISABLED'] = (df.wheelchair_accessible + df.elevator_wheelchair_accessible + df.wheelchair_access + df.automatic_door + df.ramp + df.parking_disabled + df.toilet_for_disabled)/7\n",
    "    df1['GAMES'] = (df.billiards + df.table_games)/2\n",
    "    df1['CARDS'] = (df.accepted_credit_cards + df.payment_by_credit_card)/2\n",
    "    df1['INTERNET'] = (df.wi_fi + df['internet access'])/2\n",
    "    # df1['BUSINESS'] = df.breakfast + df.business_lunch\n",
    "    df1['LUX'] = df.vip_zone + df.privilege_tickets + df.air_conditioning + df.call_button + df.vinotheque + df.car_park + df.summer_terrace\n",
    "    df1['BEER'] = (df.craft_beer + df.has_bar)/2\n",
    "    df1['MANY'] = (df.food_court1 + df.self_service_kiosks)/2\n",
    "    df1['CHILL'] = (df.show_program + df.chillout + df.sports_broadcasts + df.karaoke + df.music)/5\n",
    "    df1['HEALTHY'] = (df.organic_food + df.farm_products + df.handmade_goods)/3\n",
    "    df1['FAST'] = (df.coffee_to_go + df.minimum_order)/2\n",
    "    df = df1\n",
    "    return df\n",
    "#train = split_in_right_categories(train)\n",
    "#train['rubrics'].value_counts()"
   ]
  },
  {
   "cell_type": "code",
   "execution_count": 20,
   "metadata": {
    "pycharm": {
     "name": "#%%\n"
    }
   },
   "outputs": [
    {
     "data": {
      "text/plain": [
       "'\\ndef get_rubrics(df):\\n    rubrics = df.rubrics.unique()\\n    rubrics_dict = {}\\n\\n    for rubric in rubrics:\\n        all_values_of_rubric = df[df[\"rubrics\"] == rubric].loc[:, [\"average_bill\"]].dropna()\\n        rubrics_dict[rubric] = all_values_of_rubric.average_bill.median()\\n\\n    return rubrics_dict\\n\\ndef fill_na_bill(df):\\n    rubrics_dict = get_rubrics(df)\\n    value = df.rubrics\\n    value = value.apply(lambda x: rubrics_dict[x])\\n\\n    df.average_bill.fillna(inplace=True, value=value)\\n    #return df\\n'"
      ]
     },
     "execution_count": 20,
     "metadata": {},
     "output_type": "execute_result"
    }
   ],
   "source": [
    "'''\n",
    "def get_rubrics(df):\n",
    "    rubrics = df.rubrics.unique()\n",
    "    rubrics_dict = {}\n",
    "\n",
    "    for rubric in rubrics:\n",
    "        all_values_of_rubric = df[df[\"rubrics\"] == rubric].loc[:, [\"average_bill\"]].dropna()\n",
    "        rubrics_dict[rubric] = all_values_of_rubric.average_bill.median()\n",
    "\n",
    "    return rubrics_dict\n",
    "\n",
    "def fill_na_bill(df):\n",
    "    rubrics_dict = get_rubrics(df)\n",
    "    value = df.rubrics\n",
    "    value = value.apply(lambda x: rubrics_dict[x])\n",
    "\n",
    "    df.average_bill.fillna(inplace=True, value=value)\n",
    "    #return df\n",
    "'''"
   ]
  },
  {
   "cell_type": "code",
   "execution_count": 21,
   "metadata": {
    "pycharm": {
     "name": "#%%\n"
    }
   },
   "outputs": [],
   "source": [
    "def calculate_rubrics(df):\n",
    "    rubric_num = {}\n",
    "    unique = df.rubrics.unique()\n",
    "\n",
    "    for i in range(0, len(unique)):\n",
    "        rubric_num[unique[i]] = i\n",
    "\n",
    "    df.rubrics = df.rubrics.apply(lambda x: rubric_num[x])\n",
    "    \n",
    "    "
   ]
  },
  {
   "cell_type": "code",
   "execution_count": 22,
   "metadata": {},
   "outputs": [],
   "source": [
    "#fill_na_bill(train)\n",
    "#split_test_by = int(0.8*len(train))\n",
    "#train = train.iloc[:split_test_by, :]\n",
    "#calculate_rubrics(train)\n",
    "#train_rating = train.rating_org\n",
    "#print(train.isnull().values.any())\n",
    "#train = split_in_right_params(train)\n"
   ]
  },
  {
   "cell_type": "code",
   "execution_count": null,
   "metadata": {
    "pycharm": {
     "is_executing": true
    },
    "scrolled": false
   },
   "outputs": [],
   "source": [
    "from sklearn.neighbors import KNeighborsRegressor\n",
    "from sklearn.metrics import mean_absolute_percentage_error\n",
    "\n",
    "def optimal_neighbour(df):\n",
    "    split_test_by = int(0.8*len(df))\n",
    "    tpredict = df['rating_org'][:split_test_by]\n",
    "    ttestpredict = df['rating_org'][split_test_by:]    \n",
    "    \n",
    "    # fill_na_bill(df)\n",
    "    calculate_rubrics(df)\n",
    "    df = split_in_right_params(df)\n",
    "    ttrain = df.iloc[:split_test_by, :]\n",
    "    ttest = df.iloc[split_test_by:, :]\n",
    "    if tpredict.isnull().values.any() or ttrain.isnull().values.any() or ttestpredict.isnull().values.any() or ttest.isnull().values.any():\n",
    "        print(True)\n",
    "        return -1\n",
    "    else:\n",
    "        print(False)\n",
    "    def neighbour_predict(neighbours):\n",
    "        model = KNeighborsRegressor(n_neighbors=neighbours, n_jobs=8)\n",
    "        model.fit(ttrain, tpredict)\n",
    "        \n",
    "        predicted = model.predict(ttest)\n",
    "        mape = mean_absolute_percentage_error(ttestpredict , predicted)\n",
    "        return mape\n",
    "    i = 1\n",
    "    min = -1\n",
    "    mape1 = 1000000\n",
    "    while i <= 22:\n",
    "        mape2 = neighbour_predict(i)\n",
    "        if(mape1 > mape2):\n",
    "            mape1 = mape2\n",
    "            min = i\n",
    "        i += 1\n",
    "    return min\n",
    "tmp_train = train\n",
    "on = optimal_neighbour(tmp_train)\n",
    "print(on)\n",
    "del tmp_train"
   ]
  },
  {
   "cell_type": "code",
   "execution_count": 23,
   "metadata": {
    "pycharm": {
     "is_executing": true,
     "name": "#%%\n"
    }
   },
   "outputs": [
    {
     "data": {
      "text/plain": [
       "HOME       -0.057218\n",
       "rating      0.269386\n",
       "rubrics    -0.040596\n",
       "TAKEAWAY    0.058840\n",
       "DELIVERY   -0.029985\n",
       "LUST       -0.035468\n",
       "DISABLED    0.186717\n",
       "GAMES       0.030478\n",
       "CARDS       0.151706\n",
       "INTERNET    0.081437\n",
       "LUX         0.068824\n",
       "BEER        0.122229\n",
       "MANY       -0.010682\n",
       "CHILL       0.068830\n",
       "HEALTHY     0.072902\n",
       "FAST       -0.054986\n",
       "dtype: float64"
      ]
     },
     "execution_count": 23,
     "metadata": {},
     "output_type": "execute_result"
    }
   ],
   "source": [
    "#fill_na_bill(train)\n",
    "calculate_rubrics(train)\n",
    "train_rating = train.rating_org\n",
    "train = split_in_right_params(train)\n",
    "\n",
    "train.corrwith(train_rating)"
   ]
  },
  {
   "cell_type": "code",
   "execution_count": 24,
   "metadata": {
    "pycharm": {
     "is_executing": true,
     "name": "#%%\n"
    }
   },
   "outputs": [
    {
     "data": {
      "text/html": [
       "<style>#sk-container-id-2 {color: black;background-color: white;}#sk-container-id-2 pre{padding: 0;}#sk-container-id-2 div.sk-toggleable {background-color: white;}#sk-container-id-2 label.sk-toggleable__label {cursor: pointer;display: block;width: 100%;margin-bottom: 0;padding: 0.3em;box-sizing: border-box;text-align: center;}#sk-container-id-2 label.sk-toggleable__label-arrow:before {content: \"▸\";float: left;margin-right: 0.25em;color: #696969;}#sk-container-id-2 label.sk-toggleable__label-arrow:hover:before {color: black;}#sk-container-id-2 div.sk-estimator:hover label.sk-toggleable__label-arrow:before {color: black;}#sk-container-id-2 div.sk-toggleable__content {max-height: 0;max-width: 0;overflow: hidden;text-align: left;background-color: #f0f8ff;}#sk-container-id-2 div.sk-toggleable__content pre {margin: 0.2em;color: black;border-radius: 0.25em;background-color: #f0f8ff;}#sk-container-id-2 input.sk-toggleable__control:checked~div.sk-toggleable__content {max-height: 200px;max-width: 100%;overflow: auto;}#sk-container-id-2 input.sk-toggleable__control:checked~label.sk-toggleable__label-arrow:before {content: \"▾\";}#sk-container-id-2 div.sk-estimator input.sk-toggleable__control:checked~label.sk-toggleable__label {background-color: #d4ebff;}#sk-container-id-2 div.sk-label input.sk-toggleable__control:checked~label.sk-toggleable__label {background-color: #d4ebff;}#sk-container-id-2 input.sk-hidden--visually {border: 0;clip: rect(1px 1px 1px 1px);clip: rect(1px, 1px, 1px, 1px);height: 1px;margin: -1px;overflow: hidden;padding: 0;position: absolute;width: 1px;}#sk-container-id-2 div.sk-estimator {font-family: monospace;background-color: #f0f8ff;border: 1px dotted black;border-radius: 0.25em;box-sizing: border-box;margin-bottom: 0.5em;}#sk-container-id-2 div.sk-estimator:hover {background-color: #d4ebff;}#sk-container-id-2 div.sk-parallel-item::after {content: \"\";width: 100%;border-bottom: 1px solid gray;flex-grow: 1;}#sk-container-id-2 div.sk-label:hover label.sk-toggleable__label {background-color: #d4ebff;}#sk-container-id-2 div.sk-serial::before {content: \"\";position: absolute;border-left: 1px solid gray;box-sizing: border-box;top: 0;bottom: 0;left: 50%;z-index: 0;}#sk-container-id-2 div.sk-serial {display: flex;flex-direction: column;align-items: center;background-color: white;padding-right: 0.2em;padding-left: 0.2em;position: relative;}#sk-container-id-2 div.sk-item {position: relative;z-index: 1;}#sk-container-id-2 div.sk-parallel {display: flex;align-items: stretch;justify-content: center;background-color: white;position: relative;}#sk-container-id-2 div.sk-item::before, #sk-container-id-2 div.sk-parallel-item::before {content: \"\";position: absolute;border-left: 1px solid gray;box-sizing: border-box;top: 0;bottom: 0;left: 50%;z-index: -1;}#sk-container-id-2 div.sk-parallel-item {display: flex;flex-direction: column;z-index: 1;position: relative;background-color: white;}#sk-container-id-2 div.sk-parallel-item:first-child::after {align-self: flex-end;width: 50%;}#sk-container-id-2 div.sk-parallel-item:last-child::after {align-self: flex-start;width: 50%;}#sk-container-id-2 div.sk-parallel-item:only-child::after {width: 0;}#sk-container-id-2 div.sk-dashed-wrapped {border: 1px dashed gray;margin: 0 0.4em 0.5em 0.4em;box-sizing: border-box;padding-bottom: 0.4em;background-color: white;}#sk-container-id-2 div.sk-label label {font-family: monospace;font-weight: bold;display: inline-block;line-height: 1.2em;}#sk-container-id-2 div.sk-label-container {text-align: center;}#sk-container-id-2 div.sk-container {/* jupyter's `normalize.less` sets `[hidden] { display: none; }` but bootstrap.min.css set `[hidden] { display: none !important; }` so we also need the `!important` here to be able to override the default hidden behavior on the sphinx rendered scikit-learn.org. See: https://github.com/scikit-learn/scikit-learn/issues/21755 */display: inline-block !important;position: relative;}#sk-container-id-2 div.sk-text-repr-fallback {display: none;}</style><div id=\"sk-container-id-2\" class=\"sk-top-container\"><div class=\"sk-text-repr-fallback\"><pre>KNeighborsRegressor(n_jobs=8, n_neighbors=14)</pre><b>In a Jupyter environment, please rerun this cell to show the HTML representation or trust the notebook. <br />On GitHub, the HTML representation is unable to render, please try loading this page with nbviewer.org.</b></div><div class=\"sk-container\" hidden><div class=\"sk-item\"><div class=\"sk-estimator sk-toggleable\"><input class=\"sk-toggleable__control sk-hidden--visually\" id=\"sk-estimator-id-2\" type=\"checkbox\" checked><label for=\"sk-estimator-id-2\" class=\"sk-toggleable__label sk-toggleable__label-arrow\">KNeighborsRegressor</label><div class=\"sk-toggleable__content\"><pre>KNeighborsRegressor(n_jobs=8, n_neighbors=14)</pre></div></div></div></div></div>"
      ],
      "text/plain": [
       "KNeighborsRegressor(n_jobs=8, n_neighbors=14)"
      ]
     },
     "execution_count": 24,
     "metadata": {},
     "output_type": "execute_result"
    }
   ],
   "source": [
    "neigh = KNeighborsRegressor(n_neighbors=on, n_jobs=8)\n",
    "neigh.fit(train, train_rating)"
   ]
  },
  {
   "cell_type": "code",
   "execution_count": 25,
   "metadata": {
    "pycharm": {
     "is_executing": true,
     "name": "#%%\n"
    }
   },
   "outputs": [
    {
     "data": {
      "text/plain": [
       "0.35155773378006205"
      ]
     },
     "execution_count": 25,
     "metadata": {},
     "output_type": "execute_result"
    }
   ],
   "source": [
    "neigh.score(train, train_rating)"
   ]
  },
  {
   "cell_type": "code",
   "execution_count": 26,
   "metadata": {
    "pycharm": {
     "is_executing": true,
     "name": "#%%\n"
    }
   },
   "outputs": [],
   "source": [
    "test = pd.read_csv('./andan-2022-autumn-lab-3/test_x.csv')\n",
    "test['avg_ratings'] = 0.0\n",
    "for index, row in test.iterrows():\n",
    "    test.at[index,'avg_ratings'] = means[row['rubrics']]\n",
    "#test = split_in_right_categories(test)\n",
    "#fill_na_bill(test)\n",
    "calculate_rubrics(test)\n",
    "avg_tests = test['avg_ratings']"
   ]
  },
  {
   "cell_type": "code",
   "execution_count": 27,
   "metadata": {
    "pycharm": {
     "is_executing": true
    }
   },
   "outputs": [],
   "source": [
    "test = split_in_right_params(test)"
   ]
  },
  {
   "cell_type": "code",
   "execution_count": 28,
   "metadata": {
    "pycharm": {
     "is_executing": true
    }
   },
   "outputs": [
    {
     "name": "stdout",
     "output_type": "stream",
     "text": [
      "0        4.351358\n",
      "1        4.351358\n",
      "2        4.317091\n",
      "3        4.317091\n",
      "4        4.317091\n",
      "           ...   \n",
      "24660    4.351358\n",
      "24661    4.317091\n",
      "24662    4.376219\n",
      "24663    4.376219\n",
      "24664    4.351358\n",
      "Name: avg_ratings, Length: 24665, dtype: float64\n"
     ]
    }
   ],
   "source": [
    "#print(avg_tests)"
   ]
  },
  {
   "cell_type": "code",
   "execution_count": null,
   "metadata": {
    "pycharm": {
     "is_executing": true,
     "name": "#%%\n"
    }
   },
   "outputs": [],
   "source": [
    "result = neigh.predict(test)\n",
    "#result = (25 * avg_tests + 25 * smooth + 950 * neigh.predict(test))/1000\n",
    "pd.DataFrame(result).to_csv('./andan-2022-autumn-lab-3/my_sub.csv')\n",
    "# result"
   ]
  },
  {
   "cell_type": "code",
   "execution_count": null,
   "metadata": {
    "pycharm": {
     "is_executing": true
    }
   },
   "outputs": [],
   "source": []
  }
 ],
 "metadata": {
  "kernelspec": {
   "display_name": "Python 3 (ipykernel)",
   "language": "python",
   "name": "python3"
  },
  "language_info": {
   "codemirror_mode": {
    "name": "ipython",
    "version": 3
   },
   "file_extension": ".py",
   "mimetype": "text/x-python",
   "name": "python",
   "nbconvert_exporter": "python",
   "pygments_lexer": "ipython3",
   "version": "3.9.15"
  }
 },
 "nbformat": 4,
 "nbformat_minor": 1
}
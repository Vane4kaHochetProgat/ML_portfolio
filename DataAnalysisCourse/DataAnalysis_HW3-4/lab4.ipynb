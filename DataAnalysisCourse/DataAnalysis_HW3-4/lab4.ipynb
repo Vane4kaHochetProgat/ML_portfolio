{
 "cells": [
  {
   "cell_type": "code",
   "execution_count": null,
   "metadata": {},
   "outputs": [],
   "source": [
    "import numpy as np\n",
    "import pandas as pd\n",
    "import matplotlib.pyplot as plt\n",
    "import scipy.spatial.distance"
   ]
  },
  {
   "cell_type": "code",
   "execution_count": null,
   "metadata": {
    "pycharm": {
     "is_executing": true
    }
   },
   "outputs": [],
   "source": [
    "train = pd.read_csv('./andan-2022-autumn-lab-4/train.csv')\n",
    "train.info()"
   ]
  },
  {
   "cell_type": "code",
   "execution_count": null,
   "metadata": {
    "pycharm": {
     "is_executing": true
    }
   },
   "outputs": [],
   "source": [
    "len(train.loc[train['floor'].isnull()])\n",
    "#train.loc[train['floor'].isnull()] = 0\n",
    "#train.floor.isnull().values.any()"
   ]
  },
  {
   "cell_type": "code",
   "execution_count": null,
   "metadata": {
    "pycharm": {
     "is_executing": true
    }
   },
   "outputs": [],
   "source": [
    "from sklearn.linear_model import LinearRegression\n",
    "#def floor_split_predict(train, answer, test):"
   ]
  },
  {
   "cell_type": "code",
   "execution_count": null,
   "metadata": {
    "pycharm": {
     "is_executing": true
    }
   },
   "outputs": [],
   "source": [
    "def normalize_column(df, column_name):\n",
    "    min = df[column_name].min()\n",
    "    max = df[column_name].max()\n",
    "\n",
    "    df[column_name] = df[column_name].apply(lambda x: (x - min) / (max - min))"
   ]
  },
  {
   "cell_type": "code",
   "execution_count": null,
   "metadata": {
    "pycharm": {
     "is_executing": true
    }
   },
   "outputs": [],
   "source": [
    "def cities_1m(df):\n",
    "    cities_1m_people = ['Москва', 'Санкт-Петербург', 'Новосибирск', 'Екатеринбург', 'Казань', 'Нижний Новгород', 'Челябинск', 'Самара', 'Омск',\n",
    "                       'Ростов-на-Дону', 'Уфа', 'Красноярск', 'Воронеж', 'Пермь', 'Волгоград']\n",
    "\n",
    "    is_million = []\n",
    "\n",
    "    for row in df['city']:\n",
    "        if row in cities_1m_people:\n",
    "            is_million.append(1)\n",
    "        else:\n",
    "            is_million.append(0)\n",
    "        \n",
    "    df['is_million'] = is_million\n",
    "    \n",
    "    df.drop(['city'], axis=1, inplace=True)\n",
    "\n",
    "    print('is_million: ' + str((len(df[df['is_million'] == 1]))))\n",
    "# cities_1m(train)\n"
   ]
  },
  {
   "cell_type": "code",
   "execution_count": null,
   "metadata": {
    "pycharm": {
     "is_executing": true
    }
   },
   "outputs": [],
   "source": [
    "def buildings(df):\n",
    "    many_buildings = []\n",
    "\n",
    "    for i in range(len(df['osm_building_points_in_0.001'])):\n",
    "        if df['osm_building_points_in_0.001'][i] > 2 or df['osm_building_points_in_0.005'][i] > 5:\n",
    "            many_buildings.append(1)\n",
    "        else:\n",
    "            many_buildings.append(0)\n",
    "\n",
    "    df['many_buildings'] = many_buildings\n",
    "\n",
    "    # df.drop(['osm_building_points_in_0.001', 'osm_building_points_in_0.005'], axis=1, inplace=True)\n",
    "\n",
    "# buildings(train)"
   ]
  },
  {
   "cell_type": "code",
   "execution_count": null,
   "metadata": {
    "pycharm": {
     "is_executing": true
    }
   },
   "outputs": [],
   "source": [
    "def stations(df):\n",
    "    many_stations = []\n",
    "\n",
    "    for i in range(len(df['osm_train_stop_points_in_0.005'])):\n",
    "        if df['osm_train_stop_points_in_0.005'][i] > 1 or df['osm_train_stop_points_in_0.0075'][i] > 1 or df['osm_train_stop_points_in_0.01'][i] > 1:\n",
    "            many_stations.append(1)\n",
    "        else:\n",
    "            many_stations.append(0)\n",
    "\n",
    "    df['many_stations'] = many_stations\n",
    "\n",
    "    df.drop(['osm_train_stop_points_in_0.005', 'osm_train_stop_points_in_0.0075', 'osm_train_stop_points_in_0.01', 'osm_building_points_in_0.001', 'osm_building_points_in_0.005', ], axis=1, inplace=True)\n",
    "\n",
    "# stations(train)"
   ]
  },
  {
   "cell_type": "code",
   "execution_count": null,
   "metadata": {
    "pycharm": {
     "is_executing": true
    }
   },
   "outputs": [],
   "source": [
    "def shops(df):\n",
    "    many_shops = []\n",
    "\n",
    "    for i in range(len(df['osm_shops_points_in_0.001'])):\n",
    "        if df['osm_shops_points_in_0.001'][i] > 2 or df['osm_shops_points_in_0.005'][i] > 10 or df['osm_shops_points_in_0.0075'][i] > 15 or df['osm_shops_points_in_0.01'][i] > 20:\n",
    "            many_shops.append(1)\n",
    "        else:\n",
    "            many_shops.append(0)\n",
    "\n",
    "    df['many_shops'] = many_shops\n",
    "\n",
    "    df.drop(['osm_shops_points_in_0.001', 'osm_shops_points_in_0.005', 'osm_shops_points_in_0.0075', 'osm_shops_points_in_0.01'], axis=1, inplace=True)\n",
    "\n",
    "# shops(df_train)"
   ]
  },
  {
   "cell_type": "code",
   "execution_count": null,
   "metadata": {
    "pycharm": {
     "is_executing": true
    }
   },
   "outputs": [],
   "source": [
    "def food(df):\n",
    "    many_food = []\n",
    "\n",
    "    for i in range(len(df['osm_catering_points_in_0.001'])):\n",
    "        if df['osm_catering_points_in_0.001'][i] > 2 or df['osm_catering_points_in_0.005'][i] > 10 or df['osm_catering_points_in_0.0075'][i] > 15 or df['osm_catering_points_in_0.01'][i] > 20:\n",
    "            many_food.append(1)\n",
    "        else:\n",
    "            many_food.append(0)\n",
    "\n",
    "    df['many_food'] = many_food\n",
    "\n",
    "    df.drop(['osm_catering_points_in_0.001', 'osm_catering_points_in_0.005', 'osm_catering_points_in_0.0075', 'osm_catering_points_in_0.01'], axis=1, inplace=True)\n",
    "\n",
    "# food(df_train)"
   ]
  },
  {
   "cell_type": "code",
   "execution_count": null,
   "metadata": {
    "pycharm": {
     "is_executing": true
    }
   },
   "outputs": [],
   "source": [
    "def location(df):\n",
    "    is_moscow = []\n",
    "    is_moscow_oblast = []\n",
    "    is_spb = []\n",
    "    is_region = []\n",
    "\n",
    "    for row in df['region']:\n",
    "        if row == 'Москва':\n",
    "            is_moscow.append(1)\n",
    "            is_moscow_oblast.append(0)\n",
    "            is_region.append(0)\n",
    "            is_spb.append(0)\n",
    "        elif row == 'Московская область':\n",
    "            is_moscow.append(0)\n",
    "            is_moscow_oblast.append(1)\n",
    "            is_region.append(0)\n",
    "            is_spb.append(0)\n",
    "        elif row == 'Санкт-Петербург':\n",
    "            is_moscow.append(0)\n",
    "            is_moscow_oblast.append(0)\n",
    "            is_region.append(0)\n",
    "            is_spb.append(1)\n",
    "        else:\n",
    "            is_moscow.append(0)\n",
    "            is_moscow_oblast.append(0)\n",
    "            is_region.append(1)\n",
    "            is_spb.append(0)\n",
    "\n",
    "    df['is_moscow'] = is_moscow\n",
    "    df['is_moscow_oblast'] = is_moscow_oblast\n",
    "    df['is_region'] = is_region\n",
    "    df['is_spb'] = is_spb\n",
    "\n",
    "    df.drop(['region'], axis=1, inplace=True)\n",
    "\n",
    "    print('Moscow: ' + str((len(df[df['is_moscow'] == 1]))))\n",
    "    print('Moscow oblast: ' + str((len(df[df['is_moscow_oblast'] == 1]))))\n",
    "    print('Region: ' + str((len(df[df['is_region'] == 1]))))\n",
    "    print('Spb: ' + str((len(df[df['is_spb'] == 1]))))"
   ]
  },
  {
   "cell_type": "code",
   "execution_count": null,
   "metadata": {
    "pycharm": {
     "is_executing": true
    }
   },
   "outputs": [],
   "source": [
    "def offices(df):\n",
    "    many_offices = []\n",
    "\n",
    "    for i in range(len(df['osm_offices_points_in_0.001'])):\n",
    "        if df['osm_offices_points_in_0.001'][i] > 2 or df['osm_offices_points_in_0.005'][i] > 10 or df['osm_offices_points_in_0.0075'][i] > 15 or df['osm_offices_points_in_0.01'][i] > 20:\n",
    "            many_offices.append(1)\n",
    "        else:\n",
    "            many_offices.append(0)\n",
    "\n",
    "    df['many_offices'] = many_offices\n",
    "\n",
    "    df.drop(['osm_offices_points_in_0.001', 'osm_offices_points_in_0.005', 'osm_offices_points_in_0.0075', 'osm_offices_points_in_0.01'], axis=1, inplace=True)\n",
    "\n",
    "# offices(df_train)"
   ]
  },
  {
   "cell_type": "code",
   "execution_count": null,
   "metadata": {
    "pycharm": {
     "is_executing": true
    }
   },
   "outputs": [],
   "source": [
    "def comfort_objects(df):\n",
    "    many_comfort_objects = []\n",
    "\n",
    "    for i in range(len(df['osm_amenity_points_in_0.001'])):\n",
    "        if df['osm_amenity_points_in_0.001'][i] > 1 or df['osm_amenity_points_in_0.005'][i] > 1 or df['osm_amenity_points_in_0.0075'][i] > 1  or df['osm_amenity_points_in_0.01'][i] > 1:\n",
    "            many_comfort_objects.append(1)\n",
    "        else:\n",
    "            many_comfort_objects.append(0)\n",
    "\n",
    "    df['many_comfort_objects'] = many_comfort_objects\n",
    "\n",
    "    df.drop(['osm_amenity_points_in_0.001', 'osm_amenity_points_in_0.005', 'osm_amenity_points_in_0.0075', 'osm_amenity_points_in_0.01'], axis=1, inplace=True)"
   ]
  },
  {
   "cell_type": "code",
   "execution_count": null,
   "metadata": {
    "pycharm": {
     "is_executing": true
    }
   },
   "outputs": [],
   "source": [
    "def financial_organizations(df):\n",
    "    many_financial_organizations = []\n",
    "\n",
    "    for i in range(len(df['osm_finance_points_in_0.001'])):\n",
    "        if df['osm_finance_points_in_0.001'][i] > 2 or df['osm_finance_points_in_0.005'][i] > 10 or df['osm_finance_points_in_0.0075'][i] > 15 or df['osm_finance_points_in_0.01'][i] > 20:\n",
    "            many_financial_organizations.append(1)\n",
    "        else:\n",
    "            many_financial_organizations.append(0)\n",
    "\n",
    "    df['many_financial_organizations'] = many_financial_organizations\n",
    "\n",
    "    df.drop(['osm_finance_points_in_0.001', 'osm_finance_points_in_0.005', 'osm_finance_points_in_0.0075', 'osm_finance_points_in_0.01'], axis=1, inplace=True)"
   ]
  },
  {
   "cell_type": "code",
   "execution_count": null,
   "metadata": {
    "pycharm": {
     "is_executing": true
    }
   },
   "outputs": [],
   "source": [
    "def nearest_city(df):\n",
    "    # osm_city_nearest_population\n",
    "    is_big_city_near = []\n",
    "\n",
    "    for i in range(len(df['osm_city_nearest_population'])):\n",
    "        if df['osm_city_nearest_population'][i] > 100000:\n",
    "            is_big_city_near.append(1)\n",
    "        else:\n",
    "            is_big_city_near.append(0)\n",
    "\n",
    "    df['near_big_city'] = is_big_city_near\n",
    "    df.drop(['osm_city_nearest_population'], axis=1, inplace=True)"
   ]
  },
  {
   "cell_type": "code",
   "execution_count": null,
   "metadata": {
    "pycharm": {
     "is_executing": true
    }
   },
   "outputs": [],
   "source": []
  },
  {
   "cell_type": "code",
   "execution_count": null,
   "metadata": {
    "pycharm": {
     "is_executing": true
    }
   },
   "outputs": [],
   "source": [
    "def prepare_df(df):\n",
    "    df = df.loc[:, ['city', 'osm_train_stop_points_in_0.005', 'osm_train_stop_points_in_0.0075', 'osm_train_stop_points_in_0.01', 'osm_building_points_in_0.001', 'osm_building_points_in_0.005',  'total_square', 'osm_shops_points_in_0.001', 'osm_shops_points_in_0.005', 'osm_shops_points_in_0.0075', 'osm_shops_points_in_0.01', 'osm_catering_points_in_0.001', 'osm_catering_points_in_0.005', 'osm_catering_points_in_0.0075', 'osm_catering_points_in_0.01',\n",
    "                    'region',\n",
    "                    'osm_finance_points_in_0.001', 'osm_finance_points_in_0.005', 'osm_finance_points_in_0.0075', 'osm_finance_points_in_0.01',\n",
    "                    'osm_city_nearest_population'\n",
    "]]\n",
    "\n",
    "    cities_1m(df)\n",
    "    # make_district(df)\n",
    "    # buildings(df)\n",
    "    stations(df)\n",
    "    shops(df)\n",
    "    food(df)\n",
    "    location(df)\n",
    "    financial_organizations(df)\n",
    "    nearest_city(df)\n",
    "    # df['total_square'] = df.total_square / 10\n",
    "    normalize_column(df, 'total_square')\n",
    "    df['total_square'] = df.total_square * 1000\n",
    "\n",
    "    return df"
   ]
  },
  {
   "cell_type": "code",
   "execution_count": null,
   "metadata": {
    "pycharm": {
     "is_executing": true
    }
   },
   "outputs": [],
   "source": [
    "train_y = train.per_square_meter_price\n",
    "train = prepare_df(train)"
   ]
  },
  {
   "cell_type": "code",
   "execution_count": null,
   "metadata": {
    "pycharm": {
     "is_executing": true
    }
   },
   "outputs": [],
   "source": [
    "train.corrwith(train_y)"
   ]
  },
  {
   "cell_type": "code",
   "execution_count": null,
   "metadata": {
    "pycharm": {
     "is_executing": true
    }
   },
   "outputs": [],
   "source": [
    "# 216\n",
    "# 355 - moscow\n",
    "# 378 - offices\n",
    "# 362 - no district\n",
    "reg = LinearRegression().fit(train, np.train_y)\n",
    "reg.score(train, np.log(train_y))"
   ]
  },
  {
   "cell_type": "code",
   "execution_count": null,
   "metadata": {
    "pycharm": {
     "is_executing": true
    }
   },
   "outputs": [],
   "source": [
    "predicted = reg.predict(train)\n",
    "#tmp = predicted[predicted > 0.0].mean()\n",
    "#predicted[predicted <0.0] = tmp\n",
    "plt.hist(np.log(train_y), 100)\n",
    "plt.hist(predicted, 100)"
   ]
  },
  {
   "cell_type": "code",
   "execution_count": null,
   "metadata": {
    "pycharm": {
     "is_executing": true
    }
   },
   "outputs": [],
   "source": [
    "# TODO: function - prepare data\n",
    "test = pd.read_csv('./andan-2022-autumn-lab-4/test_x.csv')\n",
    "# test.drop(columns=['lng', 'lat', 'floor', 'id', 'reform_house_population_500', 'reform_mean_floor_count_500', 'reform_mean_floor_count_1000', 'street', 'date', 'reform_mean_year_building_500', 'reform_mean_year_building_1000', 'osm_city_nearest_population', 'reform_house_population_1000', 'osm_shops_points_in_0.01',\n",
    "#                     'osm_amenity_points_in_0.0075', 'osm_amenity_points_in_0.01', \"region\", \"osm_city_nearest_name\"], inplace=True)\n",
    "# cities_1m(test)\n",
    "# make_district(test)\n",
    "# buildings(test)\n",
    "#\n",
    "# test.osm_city_closest_dist = test.osm_city_closest_dist / 10\n",
    "# test.osm_subway_closest_dist = test.osm_subway_closest_dist / 10\n",
    "# test.drop(columns=['osm_amenity_points_in_0.001', 'osm_amenity_points_in_0.005', 'osm_building_points_in_0.0075', 'osm_building_points_in_0.01', 'osm_crossing_points_in_0.01',\n",
    "#                     'osm_crossing_points_in_0.0075'])\n",
    "test = prepare_df(test)"
   ]
  },
  {
   "cell_type": "code",
   "execution_count": null,
   "metadata": {
    "pycharm": {
     "is_executing": true
    }
   },
   "outputs": [],
   "source": [
    "predicted = reg.predict(test)\n",
    "# tmp = predicted[predicted > 0.0].mean()\n",
    "predicted[predicted <0.0] = 0"
   ]
  },
  {
   "cell_type": "code",
   "execution_count": null,
   "metadata": {
    "pycharm": {
     "is_executing": true
    }
   },
   "outputs": [],
   "source": [
    "p = pd.DataFrame()\n",
    "p[\"id\"] = range(0,68825)\n",
    "p[\"per_square_meter_price\"] = predicted/8\n",
    "p.to_csv('./andan-2022-autumn-lab-4/submit.csv', index=False)"
   ]
  },
  {
   "cell_type": "code",
   "execution_count": null,
   "metadata": {
    "pycharm": {
     "is_executing": true
    }
   },
   "outputs": [],
   "source": []
  }
 ],
 "metadata": {
  "kernelspec": {
   "display_name": "Python 3 (ipykernel)",
   "language": "python",
   "name": "python3"
  },
  "language_info": {
   "codemirror_mode": {
    "name": "ipython",
    "version": 3
   },
   "file_extension": ".py",
   "mimetype": "text/x-python",
   "name": "python",
   "nbconvert_exporter": "python",
   "pygments_lexer": "ipython3",
   "version": "3.9.15"
  }
 },
 "nbformat": 4,
 "nbformat_minor": 1
}